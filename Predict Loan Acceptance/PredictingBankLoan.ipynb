{
  "nbformat": 4,
  "nbformat_minor": 0,
  "metadata": {
    "colab": {
      "name": "PredictingBankLoan.ipynb",
      "provenance": [],
      "collapsed_sections": []
    },
    "kernelspec": {
      "name": "python3",
      "display_name": "Python 3"
    },
    "language_info": {
      "name": "python"
    }
  },
  "cells": [
    {
      "cell_type": "markdown",
      "metadata": {
        "id": "yQFr4UWf-8zZ"
      },
      "source": [
        "# **1. Business understanding**\n",
        "\n",
        "Using historical bank data, identify 20 customers who are likely to accept a loan offer. These customers must be identified with their respective probabilities of accepting the loan, so that we may maximize expected returns on benefits based on the region the customer is located. Specifically, the returns are:\n",
        "```\n",
        "$10,000 if the person lives in INNER_CITY\n",
        "$9,000 if the person lives in SUBURBAN\n",
        "$7,200 if the person lives in TOWN\n",
        "$4,800 if the person lives in RURAL\n",
        "```\n",
        "\n",
        "**Note:** I am conducting this analysis based on the assumption that customers who have responded positively to loan offers in the past share similarities with people who will respond positively to this campaign. Being aware of this assumption will help us understand the limitations of this analysis."
      ]
    },
    {
      "cell_type": "markdown",
      "metadata": {
        "id": "38Ff4azZBRwQ"
      },
      "source": [
        "# **2. Data Understanding:**\n",
        "\n",
        "<table style=\"border-collapse: collapse; border: none;\" cellpadding=\"0\" cellspacing=\"0\" border=\"1\"> \n",
        "  <tbody> \n",
        "   <tr> \n",
        "    <td width=\"114\" valign=\"top\" style=\"width: 85.25pt; border: 1pt solid windowtext; padding: 0in 5.4pt;\"> <p style=\"margin-bottom: 0in; line-height: normal;\"><span style=\"font-size: 12pt; font-family: 'Times New Roman', serif;\">Field </span></p> </td> \n",
        "    <td width=\"510\" valign=\"top\" style=\"width: 382.25pt; border-top: 1pt solid windowtext; border-right: 1pt solid windowtext; border-bottom: 1pt solid windowtext; border-image: initial; border-left: none; padding: 0in 5.4pt;\"> <p style=\"margin-bottom: 0in; margin-top: 0in; text-align: justify; line-height: normal;\"><span style=\"font-size: 12pt; font-family: 'Times New Roman', serif;\">Description</span></p> </td>\n",
        "    <td width=\"510\" valign=\"top\" style=\"width: 382.25pt; border-top: 1pt solid windowtext; border-right: 1pt solid windowtext; border-bottom: 1pt solid windowtext; border-image: initial; border-left: none; padding: 0in 5.4pt;\"> <p style=\"margin-bottom: 0in; margin-top: 0in; text-align: justify; line-height: normal;\"><span style=\"font-size: 12pt; font-family: 'Times New Roman', serif;\">Variable type</span></p> </td> \n",
        "   </tr> \n",
        "   <tr> \n",
        "    <td width=\"114\" valign=\"top\" style=\"width: 85.25pt; border-right: 1pt solid windowtext; border-bottom: 1pt solid windowtext; border-left: 1pt solid windowtext; border-image: initial; border-top: none; padding: 0in 5.4pt;\"> <p style=\"margin-bottom: 0in; line-height: normal;\"><span style=\"font-size: 12pt; font-family: 'Times New Roman', serif;\">id</span></p> </td> \n",
        "    <td width=\"510\" valign=\"top\" style=\"width: 382.25pt; border-top: none; border-left: none; border-bottom: 1pt solid windowtext; border-right: 1pt solid windowtext; padding: 0in 5.4pt;\"> <p style=\"margin-bottom: 0in; margin-top: 0in; text-align: justify; line-height: normal;\"><span style=\"font-size: 12pt; font-family: 'Times New Roman', serif;\">A unique ID to identify each customer</span></p> </td>\n",
        "    <td width=\"510\" valign=\"top\" style=\"width: 382.25pt; border-top: none; border-left: none; border-bottom: 1pt solid windowtext; border-right: 1pt solid windowtext; padding: 0in 5.4pt;\"> <p style=\"margin-bottom: 0in; margin-top: 0in; text-align: justify; line-height: normal;\"><span style=\"font-size: 12pt; font-family: 'Times New Roman', serif;\">Categorical</span></p> </td>\n",
        "   </tr> \n",
        "   <tr> \n",
        "    <td width=\"114\" valign=\"top\" style=\"width: 85.25pt; border-right: 1pt solid windowtext; border-bottom: 1pt solid windowtext; border-left: 1pt solid windowtext; border-image: initial; border-top: none; padding: 0in 5.4pt;\"> <p style=\"margin-bottom: 0in; line-height: normal;\"><span style=\"font-size: 12pt; font-family: 'Times New Roman', serif;\">age</span></p> </td> \n",
        "    <td width=\"510\" valign=\"top\" style=\"width: 382.25pt; border-top: none; border-left: none; border-bottom: 1pt solid windowtext; border-right: 1pt solid windowtext; padding: 0in 5.4pt;\"> <p style=\"margin-bottom: 0in; margin-top: 0in; text-align: justify; line-height: normal;\"><span style=\"font-size: 12pt; font-family: 'Times New Roman', serif;\">A customer’s age (years old) when receiving the loan offer</span></p> </td> \n",
        "    <td width=\"510\" valign=\"top\" style=\"width: 382.25pt; border-top: none; border-left: none; border-bottom: 1pt solid windowtext; border-right: 1pt solid windowtext; padding: 0in 5.4pt;\"> <p style=\"margin-bottom: 0in; margin-top: 0in; text-align: justify; line-height: normal;\"><span style=\"font-size: 12pt; font-family: 'Times New Roman', serif;\">Numerical</span></p> </td>\n",
        "   </tr> \n",
        "   <tr> \n",
        "    <td width=\"114\" valign=\"top\" style=\"width: 85.25pt; border-right: 1pt solid windowtext; border-bottom: 1pt solid windowtext; border-left: 1pt solid windowtext; border-image: initial; border-top: none; padding: 0in 5.4pt;\"> <p style=\"margin-bottom: 0in; line-height: normal;\"><span style=\"font-size: 12pt; font-family: 'Times New Roman', serif;\">sex</span></p> </td> \n",
        "    <td width=\"510\" valign=\"top\" style=\"width: 382.25pt; border-top: none; border-left: none; border-bottom: 1pt solid windowtext; border-right: 1pt solid windowtext; padding: 0in 5.4pt;\"> <p style=\"margin-bottom: 0in; margin-top: 0in; text-align: justify; line-height: normal;\"><span style=\"font-size: 12pt; font-family: 'Times New Roman', serif;\">A customer’s gender </span></p> </td> \n",
        "    <td width=\"510\" valign=\"top\" style=\"width: 382.25pt; border-top: none; border-left: none; border-bottom: 1pt solid windowtext; border-right: 1pt solid windowtext; padding: 0in 5.4pt;\"> <p style=\"margin-bottom: 0in; margin-top: 0in; text-align: justify; line-height: normal;\"><span style=\"font-size: 12pt; font-family: 'Times New Roman', serif;\">Categorical</span></p> </td>\n",
        "   </tr> \n",
        "   <tr> \n",
        "    <td width=\"114\" valign=\"top\" style=\"width: 85.25pt; border-right: 1pt solid windowtext; border-bottom: 1pt solid windowtext; border-left: 1pt solid windowtext; border-image: initial; border-top: none; padding: 0in 5.4pt;\"> <p style=\"margin-bottom: 0in; line-height: normal;\"><span style=\"font-size: 12pt; font-family: 'Times New Roman', serif;\">region</span></p> </td> \n",
        "    <td width=\"510\" valign=\"top\" style=\"width: 382.25pt; border-top: none; border-left: none; border-bottom: 1pt solid windowtext; border-right: 1pt solid windowtext; padding: 0in 5.4pt;\"> <p style=\"margin-bottom: 0in; margin-top: 0in; text-align: justify; line-height: normal;\"><span style=\"font-size: 12pt; font-family: 'Times New Roman', serif;\">The region in which a customer is living when receiving the loan offer</span></p> </td> \n",
        "    <td width=\"510\" valign=\"top\" style=\"width: 382.25pt; border-top: none; border-left: none; border-bottom: 1pt solid windowtext; border-right: 1pt solid windowtext; padding: 0in 5.4pt;\"> <p style=\"margin-bottom: 0in; margin-top: 0in; text-align: justify; line-height: normal;\"><span style=\"font-size: 12pt; font-family: 'Times New Roman', serif;\">Categorical</span></p> </td>\n",
        "   </tr> \n",
        "   <tr> \n",
        "    <td width=\"114\" valign=\"top\" style=\"width: 85.25pt; border-right: 1pt solid windowtext; border-bottom: 1pt solid windowtext; border-left: 1pt solid windowtext; border-image: initial; border-top: none; padding: 0in 5.4pt;\"> <p style=\"margin-bottom: 0in; line-height: normal;\"><span style=\"font-size: 12pt; font-family: 'Times New Roman', serif;\">income</span></p> </td> \n",
        "    <td width=\"510\" valign=\"top\" style=\"width: 382.25pt; border-top: none; border-left: none; border-bottom: 1pt solid windowtext; border-right: 1pt solid windowtext; padding: 0in 5.4pt;\"> <p style=\"margin-bottom: 0in; margin-top: 0in; text-align: justify; line-height: normal;\"><span style=\"font-size: 12pt; font-family: 'Times New Roman', serif;\">A customer’s annual taxable income when receiving the loan offer</span></p> </td> \n",
        "    <td width=\"510\" valign=\"top\" style=\"width: 382.25pt; border-top: none; border-left: none; border-bottom: 1pt solid windowtext; border-right: 1pt solid windowtext; padding: 0in 5.4pt;\"> <p style=\"margin-bottom: 0in; margin-top: 0in; text-align: justify; line-height: normal;\"><span style=\"font-size: 12pt; font-family: 'Times New Roman', serif;\">Numerical</span></p> </td>\n",
        "   </tr> \n",
        "   <tr> \n",
        "    <td width=\"114\" valign=\"top\" style=\"width: 85.25pt; border-right: 1pt solid windowtext; border-bottom: 1pt solid windowtext; border-left: 1pt solid windowtext; border-image: initial; border-top: none; padding: 0in 5.4pt;\"> <p style=\"margin-bottom: 0in; line-height: normal;\"><span style=\"font-size: 12pt; font-family: 'Times New Roman', serif;\">married</span></p> </td> \n",
        "    <td width=\"510\" valign=\"top\" style=\"width: 382.25pt; border-top: none; border-left: none; border-bottom: 1pt solid windowtext; border-right: 1pt solid windowtext; padding: 0in 5.4pt;\"> <p style=\"margin-bottom: 0in; margin-top: 0in; text-align: justify; line-height: normal;\"><span style=\"font-size: 12pt; font-family: 'Times New Roman', serif;\">Is this customer married when receiving the loan offer? </span></p> </td> \n",
        "    <td width=\"510\" valign=\"top\" style=\"width: 382.25pt; border-top: none; border-left: none; border-bottom: 1pt solid windowtext; border-right: 1pt solid windowtext; padding: 0in 5.4pt;\"> <p style=\"margin-bottom: 0in; margin-top: 0in; text-align: justify; line-height: normal;\"><span style=\"font-size: 12pt; font-family: 'Times New Roman', serif;\">Categorical</span></p> </td>\n",
        "   </tr> \n",
        "   <tr> \n",
        "    <td width=\"114\" valign=\"top\" style=\"width: 85.25pt; border-right: 1pt solid windowtext; border-bottom: 1pt solid windowtext; border-left: 1pt solid windowtext; border-image: initial; border-top: none; padding: 0in 5.4pt;\"> <p style=\"margin-bottom: 0in; line-height: normal;\"><span style=\"font-size: 12pt; font-family: 'Times New Roman', serif;\">children</span></p> </td> \n",
        "    <td width=\"510\" valign=\"top\" style=\"width: 382.25pt; border-top: none; border-left: none; border-bottom: 1pt solid windowtext; border-right: 1pt solid windowtext; padding: 0in 5.4pt;\"> <p style=\"margin-bottom: 0in; margin-top: 0in; text-align: justify; line-height: normal;\"><span style=\"font-size: 12pt; font-family: 'Times New Roman', serif;\">The number of children that a customer has when receiving the loan offer</span></p> </td> \n",
        "    <td width=\"510\" valign=\"top\" style=\"width: 382.25pt; border-top: none; border-left: none; border-bottom: 1pt solid windowtext; border-right: 1pt solid windowtext; padding: 0in 5.4pt;\"> <p style=\"margin-bottom: 0in; margin-top: 0in; text-align: justify; line-height: normal;\"><span style=\"font-size: 12pt; font-family: 'Times New Roman', serif;\">Numerical</span></p> </td>\n",
        "   </tr> \n",
        "   <tr> \n",
        "    <td width=\"114\" valign=\"top\" style=\"width: 85.25pt; border-right: 1pt solid windowtext; border-bottom: 1pt solid windowtext; border-left: 1pt solid windowtext; border-image: initial; border-top: none; padding: 0in 5.4pt;\"> <p style=\"margin-bottom: 0in; line-height: normal;\"><span style=\"font-size: 12pt; font-family: 'Times New Roman', serif;\">car</span></p> </td> \n",
        "    <td width=\"510\" valign=\"top\" style=\"width: 382.25pt; border-top: none; border-left: none; border-bottom: 1pt solid windowtext; border-right: 1pt solid windowtext; padding: 0in 5.4pt;\"> <p style=\"margin-bottom: 0in; margin-top: 0in; text-align: justify; line-height: normal;\"><span style=\"font-size: 12pt; font-family: 'Times New Roman', serif;\">Does this customer own a car when receiving the loan offer?</span></p> </td> \n",
        "    <td width=\"510\" valign=\"top\" style=\"width: 382.25pt; border-top: none; border-left: none; border-bottom: 1pt solid windowtext; border-right: 1pt solid windowtext; padding: 0in 5.4pt;\"> <p style=\"margin-bottom: 0in; margin-top: 0in; text-align: justify; line-height: normal;\"><span style=\"font-size: 12pt; font-family: 'Times New Roman', serif;\">Categorical</span></p> </td>\n",
        "   </tr> \n",
        "   <tr> \n",
        "    <td width=\"114\" valign=\"top\" style=\"width: 85.25pt; border-right: 1pt solid windowtext; border-bottom: 1pt solid windowtext; border-left: 1pt solid windowtext; border-image: initial; border-top: none; padding: 0in 5.4pt;\"> <p style=\"margin-bottom: 0in; line-height: normal;\"><span style=\"font-size: 12pt; font-family: 'Times New Roman', serif;\">save_act</span></p> </td> \n",
        "    <td width=\"510\" valign=\"top\" style=\"width: 382.25pt; border-top: none; border-left: none; border-bottom: 1pt solid windowtext; border-right: 1pt solid windowtext; padding: 0in 5.4pt;\"> <p style=\"margin-bottom: 0in; margin-top: 0in; text-align: justify; line-height: normal;\"><span style=\"font-size: 12pt; font-family: 'Times New Roman', serif;\">Does this customer have a saving account when receiving the loan offer?</span></p> </td>\n",
        "    <td width=\"510\" valign=\"top\" style=\"width: 382.25pt; border-top: none; border-left: none; border-bottom: 1pt solid windowtext; border-right: 1pt solid windowtext; padding: 0in 5.4pt;\"> <p style=\"margin-bottom: 0in; margin-top: 0in; text-align: justify; line-height: normal;\"><span style=\"font-size: 12pt; font-family: 'Times New Roman', serif;\">Categorical</span></p> </td> \n",
        "   </tr> \n",
        "   <tr> \n",
        "    <td width=\"114\" valign=\"bottom\" style=\"width: 85.25pt; border-right: 1pt solid windowtext; border-bottom: 1pt solid windowtext; border-left: 1pt solid windowtext; border-image: initial; border-top: none; padding: 0in 5.4pt;\"> <p style=\"margin-bottom: 0in; line-height: normal;\"><span style=\"font-size: 12pt; font-family: 'Times New Roman', serif; color: black;\">current_act</span></p> </td> \n",
        "    <td width=\"510\" valign=\"top\" style=\"width: 382.25pt; border-top: none; border-left: none; border-bottom: 1pt solid windowtext; border-right: 1pt solid windowtext; padding: 0in 5.4pt;\"> <p style=\"margin-bottom: 0in; margin-top: 0in; text-align: justify; line-height: normal;\"><span style=\"font-size: 12pt; font-family: 'Times New Roman', serif;\">Does this customer have a current loan account with the bank? </span></p> </td> \n",
        "    <td width=\"510\" valign=\"top\" style=\"width: 382.25pt; border-top: none; border-left: none; border-bottom: 1pt solid windowtext; border-right: 1pt solid windowtext; padding: 0in 5.4pt;\"> <p style=\"margin-bottom: 0in; margin-top: 0in; text-align: justify; line-height: normal;\"><span style=\"font-size: 12pt; font-family: 'Times New Roman', serif;\">Categorical</span></p> </td>\n",
        "   </tr> \n",
        "   <tr> \n",
        "    <td width=\"114\" valign=\"bottom\" style=\"width: 85.25pt; border-right: 1pt solid windowtext; border-bottom: 1pt solid windowtext; border-left: 1pt solid windowtext; border-image: initial; border-top: none; padding: 0in 5.4pt;\"> <p style=\"margin-bottom: 0in; line-height: normal;\"><span style=\"font-size: 12pt; font-family: 'Times New Roman', serif; color: black;\">mortgage</span></p> </td> \n",
        "    <td width=\"510\" valign=\"top\" style=\"width: 382.25pt; border-top: none; border-left: none; border-bottom: 1pt solid windowtext; border-right: 1pt solid windowtext; padding: 0in 5.4pt;\"> <p style=\"margin-bottom: 0in; margin-top: 0in; text-align: justify; line-height: normal;\"><span style=\"font-size: 12pt; font-family: 'Times New Roman', serif;\">Does this customer have a mortgage when receiving the loan offer?</span></p> </td> \n",
        "    <td width=\"510\" valign=\"top\" style=\"width: 382.25pt; border-top: none; border-left: none; border-bottom: 1pt solid windowtext; border-right: 1pt solid windowtext; padding: 0in 5.4pt;\"> <p style=\"margin-bottom: 0in; margin-top: 0in; text-align: justify; line-height: normal;\"><span style=\"font-size: 12pt; font-family: 'Times New Roman', serif;\">Categorical</span></p> </td>\n",
        "   </tr> \n",
        "   <tr> \n",
        "    <td width=\"114\" valign=\"bottom\" style=\"width: 85.25pt; border-right: 1pt solid windowtext; border-bottom: 1pt solid windowtext; border-left: 1pt solid windowtext; border-image: initial; border-top: none; padding: 0in 5.4pt;\"> <p style=\"margin-bottom: 0in; line-height: normal;\"><span style=\"font-size: 12pt; font-family: 'Times New Roman', serif; color: black;\">response</span></p> </td> \n",
        "    <td width=\"510\" valign=\"top\" style=\"width: 382.25pt; border-top: none; border-left: none; border-bottom: 1pt solid windowtext; border-right: 1pt solid windowtext; padding: 0in 5.4pt;\"> <p style=\"margin-bottom: 0in; margin-top: 0in; text-align: justify; line-height: normal;\"><span style=\"font-size: 12pt; font-family: 'Times New Roman', serif;\">Does this customer respond to the loan offer</span></p>\n",
        "    <td width=\"510\" valign=\"top\" style=\"width: 382.25pt; border-top: none; border-left: none; border-bottom: 1pt solid windowtext; border-right: 1pt solid windowtext; padding: 0in 5.4pt;\"> <p style=\"margin-bottom: 0in; margin-top: 0in; text-align: justify; line-height: normal;\"><span style=\"font-size: 12pt; font-family: 'Times New Roman', serif;\">Categorical</span></p> </td> </td> \n",
        "   </tr> \n",
        "  </tbody> \n",
        " </table>"
      ]
    },
    {
      "cell_type": "markdown",
      "metadata": {
        "id": "L4KDuhB8EFAG"
      },
      "source": [
        "# **3. Data Preparation**"
      ]
    },
    {
      "cell_type": "markdown",
      "metadata": {
        "id": "owHHryUvEfU4"
      },
      "source": [
        "**a.** Identifying any data quality problems from the training set such as duplicated records, missing values, and outliers, and describing and justifying how you tackle them one by one (Hint: if a variable has too many missing values, you may consider deleting it as it does not provide enough meaningful information)."
      ]
    },
    {
      "cell_type": "markdown",
      "metadata": {
        "id": "7eDkBaCoFhyf"
      },
      "source": [
        "Loading the dataset and inspecting the top 5 rows.\n",
        "We can see how this data is formatted."
      ]
    },
    {
      "cell_type": "code",
      "metadata": {
        "colab": {
          "base_uri": "https://localhost:8080/",
          "height": 203
        },
        "id": "X66xhFto-czH",
        "outputId": "eb3c9966-bd0b-4f9b-a503-dea2139f7db0"
      },
      "source": [
        "import pandas as pd\n",
        "import matplotlib.pyplot as plt\n",
        "import seaborn as sns\n",
        "import numpy as np\n",
        "\n",
        "\n",
        "df = pd.read_csv('loan_train.csv')\n",
        "df.head()"
      ],
      "execution_count": null,
      "outputs": [
        {
          "output_type": "execute_result",
          "data": {
            "text/html": [
              "<div>\n",
              "<style scoped>\n",
              "    .dataframe tbody tr th:only-of-type {\n",
              "        vertical-align: middle;\n",
              "    }\n",
              "\n",
              "    .dataframe tbody tr th {\n",
              "        vertical-align: top;\n",
              "    }\n",
              "\n",
              "    .dataframe thead th {\n",
              "        text-align: right;\n",
              "    }\n",
              "</style>\n",
              "<table border=\"1\" class=\"dataframe\">\n",
              "  <thead>\n",
              "    <tr style=\"text-align: right;\">\n",
              "      <th></th>\n",
              "      <th>id</th>\n",
              "      <th>age</th>\n",
              "      <th>sex</th>\n",
              "      <th>region</th>\n",
              "      <th>income</th>\n",
              "      <th>married</th>\n",
              "      <th>children</th>\n",
              "      <th>car</th>\n",
              "      <th>save_act</th>\n",
              "      <th>current_act</th>\n",
              "      <th>mortgage</th>\n",
              "      <th>response</th>\n",
              "    </tr>\n",
              "  </thead>\n",
              "  <tbody>\n",
              "    <tr>\n",
              "      <th>0</th>\n",
              "      <td>ID12101</td>\n",
              "      <td>48.0</td>\n",
              "      <td>FEMALE</td>\n",
              "      <td>INNER_CITY</td>\n",
              "      <td>17546.0</td>\n",
              "      <td>NO</td>\n",
              "      <td>1</td>\n",
              "      <td>NO</td>\n",
              "      <td>NO</td>\n",
              "      <td>NO</td>\n",
              "      <td>NO</td>\n",
              "      <td>YES</td>\n",
              "    </tr>\n",
              "    <tr>\n",
              "      <th>1</th>\n",
              "      <td>ID12101</td>\n",
              "      <td>48.0</td>\n",
              "      <td>FEMALE</td>\n",
              "      <td>INNER_CITY</td>\n",
              "      <td>17546.0</td>\n",
              "      <td>NO</td>\n",
              "      <td>1</td>\n",
              "      <td>NO</td>\n",
              "      <td>NO</td>\n",
              "      <td>NO</td>\n",
              "      <td>NO</td>\n",
              "      <td>YES</td>\n",
              "    </tr>\n",
              "    <tr>\n",
              "      <th>2</th>\n",
              "      <td>ID12102</td>\n",
              "      <td>40.0</td>\n",
              "      <td>MALE</td>\n",
              "      <td>TOWN</td>\n",
              "      <td>30085.1</td>\n",
              "      <td>YES</td>\n",
              "      <td>3</td>\n",
              "      <td>YES</td>\n",
              "      <td>NO</td>\n",
              "      <td>YES</td>\n",
              "      <td>YES</td>\n",
              "      <td>NO</td>\n",
              "    </tr>\n",
              "    <tr>\n",
              "      <th>3</th>\n",
              "      <td>ID12103</td>\n",
              "      <td>51.0</td>\n",
              "      <td>FEMALE</td>\n",
              "      <td>INNER_CITY</td>\n",
              "      <td>16575.4</td>\n",
              "      <td>YES</td>\n",
              "      <td>0</td>\n",
              "      <td>YES</td>\n",
              "      <td>YES</td>\n",
              "      <td>YES</td>\n",
              "      <td>NO</td>\n",
              "      <td>NO</td>\n",
              "    </tr>\n",
              "    <tr>\n",
              "      <th>4</th>\n",
              "      <td>ID12104</td>\n",
              "      <td>NaN</td>\n",
              "      <td>FEMALE</td>\n",
              "      <td>TOWN</td>\n",
              "      <td>20375.4</td>\n",
              "      <td>YES</td>\n",
              "      <td>3</td>\n",
              "      <td>NO</td>\n",
              "      <td>NO</td>\n",
              "      <td>YES</td>\n",
              "      <td>NO</td>\n",
              "      <td>NO</td>\n",
              "    </tr>\n",
              "  </tbody>\n",
              "</table>\n",
              "</div>"
            ],
            "text/plain": [
              "        id   age     sex      region  ...  save_act current_act  mortgage response\n",
              "0  ID12101  48.0  FEMALE  INNER_CITY  ...        NO          NO        NO      YES\n",
              "1  ID12101  48.0  FEMALE  INNER_CITY  ...        NO          NO        NO      YES\n",
              "2  ID12102  40.0    MALE        TOWN  ...        NO         YES       YES       NO\n",
              "3  ID12103  51.0  FEMALE  INNER_CITY  ...       YES         YES        NO       NO\n",
              "4  ID12104   NaN  FEMALE        TOWN  ...        NO         YES        NO       NO\n",
              "\n",
              "[5 rows x 12 columns]"
            ]
          },
          "metadata": {},
          "execution_count": 1
        }
      ]
    },
    {
      "cell_type": "markdown",
      "metadata": {
        "id": "RfkL2kgxFxu6"
      },
      "source": [
        "Inspecting datatypes within Python (in case I need to convert datatypes).\n",
        "\n",
        "I can also see missing values."
      ]
    },
    {
      "cell_type": "code",
      "metadata": {
        "colab": {
          "base_uri": "https://localhost:8080/"
        },
        "id": "QPTD36ZvEOlR",
        "outputId": "222fb4ec-0ac7-4778-8305-a24795ae355d"
      },
      "source": [
        "df.info()"
      ],
      "execution_count": null,
      "outputs": [
        {
          "output_type": "stream",
          "name": "stdout",
          "text": [
            "<class 'pandas.core.frame.DataFrame'>\n",
            "RangeIndex: 601 entries, 0 to 600\n",
            "Data columns (total 12 columns):\n",
            " #   Column       Non-Null Count  Dtype  \n",
            "---  ------       --------------  -----  \n",
            " 0   id           601 non-null    object \n",
            " 1   age          593 non-null    float64\n",
            " 2   sex          601 non-null    object \n",
            " 3   region       601 non-null    object \n",
            " 4   income       189 non-null    float64\n",
            " 5   married      601 non-null    object \n",
            " 6   children     601 non-null    int64  \n",
            " 7   car          596 non-null    object \n",
            " 8   save_act     601 non-null    object \n",
            " 9   current_act  601 non-null    object \n",
            " 10  mortgage     601 non-null    object \n",
            " 11  response     601 non-null    object \n",
            "dtypes: float64(2), int64(1), object(9)\n",
            "memory usage: 56.5+ KB\n"
          ]
        }
      ]
    },
    {
      "cell_type": "markdown",
      "metadata": {
        "id": "5B8g1HBiGILw"
      },
      "source": [
        "Counts of missing values. The ``income`` variable has many missing values. ``car`` and ``age`` also have missing values."
      ]
    },
    {
      "cell_type": "code",
      "metadata": {
        "colab": {
          "base_uri": "https://localhost:8080/"
        },
        "id": "ytHMwIipEy4v",
        "outputId": "39b6e146-c96f-4aaa-f13b-e5b88ab6af1f"
      },
      "source": [
        "df.isna().sum()"
      ],
      "execution_count": null,
      "outputs": [
        {
          "output_type": "execute_result",
          "data": {
            "text/plain": [
              "id               0\n",
              "age              8\n",
              "sex              0\n",
              "region           0\n",
              "income         412\n",
              "married          0\n",
              "children         0\n",
              "car              5\n",
              "save_act         0\n",
              "current_act      0\n",
              "mortgage         0\n",
              "response         0\n",
              "dtype: int64"
            ]
          },
          "metadata": {},
          "execution_count": 3
        }
      ]
    },
    {
      "cell_type": "code",
      "metadata": {
        "colab": {
          "base_uri": "https://localhost:8080/"
        },
        "id": "JY1nTdsjE5GL",
        "outputId": "0c5a9519-f36d-4d47-9d62-09c7aa0bafcf"
      },
      "source": [
        "print(f'{df.income.isna().sum()/df.shape[0]:.2} percent of the income variable is missing.')"
      ],
      "execution_count": null,
      "outputs": [
        {
          "output_type": "stream",
          "name": "stdout",
          "text": [
            "0.69 percent of the income variable is missing.\n"
          ]
        }
      ]
    },
    {
      "cell_type": "markdown",
      "metadata": {
        "id": "AwxkERlYG4il"
      },
      "source": [
        "If we simply dropped the rows with missing data, we would lose too much of our data trying to keep the ``income`` variable. It would be better to drop this column."
      ]
    },
    {
      "cell_type": "code",
      "metadata": {
        "colab": {
          "base_uri": "https://localhost:8080/"
        },
        "id": "Yc2LbUhXGcgc",
        "outputId": "8dac1743-820e-4c74-fb60-c28bb73cf2d1"
      },
      "source": [
        "df = df.drop(columns=['income'])\n",
        "df.isna().sum()"
      ],
      "execution_count": null,
      "outputs": [
        {
          "output_type": "execute_result",
          "data": {
            "text/plain": [
              "id             0\n",
              "age            8\n",
              "sex            0\n",
              "region         0\n",
              "married        0\n",
              "children       0\n",
              "car            5\n",
              "save_act       0\n",
              "current_act    0\n",
              "mortgage       0\n",
              "response       0\n",
              "dtype: int64"
            ]
          },
          "metadata": {},
          "execution_count": 5
        }
      ]
    },
    {
      "cell_type": "markdown",
      "metadata": {
        "id": "ED5l6C2sHUkT"
      },
      "source": [
        "We no longer have the income variable, but we still have missing values in ``age`` and ``car``. Since we still have 601 records of data, we can drop these rows without having a big impact on our dataset. Trying to impute these values might create some bias."
      ]
    },
    {
      "cell_type": "code",
      "metadata": {
        "colab": {
          "base_uri": "https://localhost:8080/"
        },
        "id": "vnpYKggBGwPd",
        "outputId": "2f8a955e-1f92-498a-c094-c7cc8e3abb32"
      },
      "source": [
        "df = df.dropna()\n",
        "df.shape"
      ],
      "execution_count": null,
      "outputs": [
        {
          "output_type": "execute_result",
          "data": {
            "text/plain": [
              "(590, 11)"
            ]
          },
          "metadata": {},
          "execution_count": 6
        }
      ]
    },
    {
      "cell_type": "markdown",
      "metadata": {
        "id": "NAgPi-c1H-VK"
      },
      "source": [
        "We only lost 11 rows. Now I will check for duplicate values."
      ]
    },
    {
      "cell_type": "code",
      "metadata": {
        "colab": {
          "base_uri": "https://localhost:8080/",
          "height": 110
        },
        "id": "M9AW5cHuIDO2",
        "outputId": "5ed66318-9c3d-4e55-cae4-60f8c7534ef6"
      },
      "source": [
        "df[df.duplicated(keep=False)]"
      ],
      "execution_count": null,
      "outputs": [
        {
          "output_type": "execute_result",
          "data": {
            "text/html": [
              "<div>\n",
              "<style scoped>\n",
              "    .dataframe tbody tr th:only-of-type {\n",
              "        vertical-align: middle;\n",
              "    }\n",
              "\n",
              "    .dataframe tbody tr th {\n",
              "        vertical-align: top;\n",
              "    }\n",
              "\n",
              "    .dataframe thead th {\n",
              "        text-align: right;\n",
              "    }\n",
              "</style>\n",
              "<table border=\"1\" class=\"dataframe\">\n",
              "  <thead>\n",
              "    <tr style=\"text-align: right;\">\n",
              "      <th></th>\n",
              "      <th>id</th>\n",
              "      <th>age</th>\n",
              "      <th>sex</th>\n",
              "      <th>region</th>\n",
              "      <th>married</th>\n",
              "      <th>children</th>\n",
              "      <th>car</th>\n",
              "      <th>save_act</th>\n",
              "      <th>current_act</th>\n",
              "      <th>mortgage</th>\n",
              "      <th>response</th>\n",
              "    </tr>\n",
              "  </thead>\n",
              "  <tbody>\n",
              "    <tr>\n",
              "      <th>0</th>\n",
              "      <td>ID12101</td>\n",
              "      <td>48.0</td>\n",
              "      <td>FEMALE</td>\n",
              "      <td>INNER_CITY</td>\n",
              "      <td>NO</td>\n",
              "      <td>1</td>\n",
              "      <td>NO</td>\n",
              "      <td>NO</td>\n",
              "      <td>NO</td>\n",
              "      <td>NO</td>\n",
              "      <td>YES</td>\n",
              "    </tr>\n",
              "    <tr>\n",
              "      <th>1</th>\n",
              "      <td>ID12101</td>\n",
              "      <td>48.0</td>\n",
              "      <td>FEMALE</td>\n",
              "      <td>INNER_CITY</td>\n",
              "      <td>NO</td>\n",
              "      <td>1</td>\n",
              "      <td>NO</td>\n",
              "      <td>NO</td>\n",
              "      <td>NO</td>\n",
              "      <td>NO</td>\n",
              "      <td>YES</td>\n",
              "    </tr>\n",
              "  </tbody>\n",
              "</table>\n",
              "</div>"
            ],
            "text/plain": [
              "        id   age     sex      region  ... save_act  current_act mortgage response\n",
              "0  ID12101  48.0  FEMALE  INNER_CITY  ...       NO           NO       NO      YES\n",
              "1  ID12101  48.0  FEMALE  INNER_CITY  ...       NO           NO       NO      YES\n",
              "\n",
              "[2 rows x 11 columns]"
            ]
          },
          "metadata": {},
          "execution_count": 7
        }
      ]
    },
    {
      "cell_type": "markdown",
      "metadata": {
        "id": "yBRNdqAcIfvx"
      },
      "source": [
        "The first row is duplicated. One of these rows should be dropped."
      ]
    },
    {
      "cell_type": "code",
      "metadata": {
        "colab": {
          "base_uri": "https://localhost:8080/",
          "height": 203
        },
        "id": "1McaZZDzInSa",
        "outputId": "3192921b-55dc-480a-b6ce-247e77104b84"
      },
      "source": [
        "df = df.drop_duplicates()\n",
        "df.head()"
      ],
      "execution_count": null,
      "outputs": [
        {
          "output_type": "execute_result",
          "data": {
            "text/html": [
              "<div>\n",
              "<style scoped>\n",
              "    .dataframe tbody tr th:only-of-type {\n",
              "        vertical-align: middle;\n",
              "    }\n",
              "\n",
              "    .dataframe tbody tr th {\n",
              "        vertical-align: top;\n",
              "    }\n",
              "\n",
              "    .dataframe thead th {\n",
              "        text-align: right;\n",
              "    }\n",
              "</style>\n",
              "<table border=\"1\" class=\"dataframe\">\n",
              "  <thead>\n",
              "    <tr style=\"text-align: right;\">\n",
              "      <th></th>\n",
              "      <th>id</th>\n",
              "      <th>age</th>\n",
              "      <th>sex</th>\n",
              "      <th>region</th>\n",
              "      <th>married</th>\n",
              "      <th>children</th>\n",
              "      <th>car</th>\n",
              "      <th>save_act</th>\n",
              "      <th>current_act</th>\n",
              "      <th>mortgage</th>\n",
              "      <th>response</th>\n",
              "    </tr>\n",
              "  </thead>\n",
              "  <tbody>\n",
              "    <tr>\n",
              "      <th>0</th>\n",
              "      <td>ID12101</td>\n",
              "      <td>48.0</td>\n",
              "      <td>FEMALE</td>\n",
              "      <td>INNER_CITY</td>\n",
              "      <td>NO</td>\n",
              "      <td>1</td>\n",
              "      <td>NO</td>\n",
              "      <td>NO</td>\n",
              "      <td>NO</td>\n",
              "      <td>NO</td>\n",
              "      <td>YES</td>\n",
              "    </tr>\n",
              "    <tr>\n",
              "      <th>2</th>\n",
              "      <td>ID12102</td>\n",
              "      <td>40.0</td>\n",
              "      <td>MALE</td>\n",
              "      <td>TOWN</td>\n",
              "      <td>YES</td>\n",
              "      <td>3</td>\n",
              "      <td>YES</td>\n",
              "      <td>NO</td>\n",
              "      <td>YES</td>\n",
              "      <td>YES</td>\n",
              "      <td>NO</td>\n",
              "    </tr>\n",
              "    <tr>\n",
              "      <th>3</th>\n",
              "      <td>ID12103</td>\n",
              "      <td>51.0</td>\n",
              "      <td>FEMALE</td>\n",
              "      <td>INNER_CITY</td>\n",
              "      <td>YES</td>\n",
              "      <td>0</td>\n",
              "      <td>YES</td>\n",
              "      <td>YES</td>\n",
              "      <td>YES</td>\n",
              "      <td>NO</td>\n",
              "      <td>NO</td>\n",
              "    </tr>\n",
              "    <tr>\n",
              "      <th>5</th>\n",
              "      <td>ID12105</td>\n",
              "      <td>23.0</td>\n",
              "      <td>FEMALE</td>\n",
              "      <td>RURAL</td>\n",
              "      <td>YES</td>\n",
              "      <td>0</td>\n",
              "      <td>NO</td>\n",
              "      <td>YES</td>\n",
              "      <td>NO</td>\n",
              "      <td>NO</td>\n",
              "      <td>NO</td>\n",
              "    </tr>\n",
              "    <tr>\n",
              "      <th>6</th>\n",
              "      <td>ID12106</td>\n",
              "      <td>25.0</td>\n",
              "      <td>FEMALE</td>\n",
              "      <td>TOWN</td>\n",
              "      <td>YES</td>\n",
              "      <td>2</td>\n",
              "      <td>NO</td>\n",
              "      <td>YES</td>\n",
              "      <td>YES</td>\n",
              "      <td>NO</td>\n",
              "      <td>YES</td>\n",
              "    </tr>\n",
              "  </tbody>\n",
              "</table>\n",
              "</div>"
            ],
            "text/plain": [
              "        id   age     sex      region  ... save_act  current_act mortgage response\n",
              "0  ID12101  48.0  FEMALE  INNER_CITY  ...       NO           NO       NO      YES\n",
              "2  ID12102  40.0    MALE        TOWN  ...       NO          YES      YES       NO\n",
              "3  ID12103  51.0  FEMALE  INNER_CITY  ...      YES          YES       NO       NO\n",
              "5  ID12105  23.0  FEMALE       RURAL  ...      YES           NO       NO       NO\n",
              "6  ID12106  25.0  FEMALE        TOWN  ...      YES          YES       NO      YES\n",
              "\n",
              "[5 rows x 11 columns]"
            ]
          },
          "metadata": {},
          "execution_count": 8
        }
      ]
    },
    {
      "cell_type": "markdown",
      "metadata": {
        "id": "A5ujtgnaJCN7"
      },
      "source": [
        "Lets verify ``age`` for outliers."
      ]
    },
    {
      "cell_type": "code",
      "metadata": {
        "colab": {
          "base_uri": "https://localhost:8080/"
        },
        "id": "mERd2dMAI5N1",
        "outputId": "698588aa-b1f3-46f9-c7bf-451591b443d5"
      },
      "source": [
        "df.age.value_counts().sort_index(ascending=False)"
      ],
      "execution_count": null,
      "outputs": [
        {
          "output_type": "execute_result",
          "data": {
            "text/plain": [
              "999.0     3\n",
              "420.0     1\n",
              "158.0     1\n",
              "67.0     13\n",
              "66.0      4\n",
              "65.0      8\n",
              "64.0     13\n",
              "63.0      9\n",
              "62.0      4\n",
              "61.0     10\n",
              "60.0      5\n",
              "59.0     10\n",
              "58.0     15\n",
              "57.0     10\n",
              "56.0     14\n",
              "55.0      5\n",
              "54.0      8\n",
              "53.0      5\n",
              "52.0     15\n",
              "51.0      8\n",
              "50.0      5\n",
              "49.0     14\n",
              "48.0     17\n",
              "47.0     17\n",
              "46.0     15\n",
              "45.0      9\n",
              "44.0     12\n",
              "43.0     21\n",
              "42.0     12\n",
              "41.0     13\n",
              "40.0     18\n",
              "39.0     13\n",
              "38.0     12\n",
              "37.0     14\n",
              "36.0     17\n",
              "35.0     17\n",
              "34.0     14\n",
              "33.0      9\n",
              "32.0     14\n",
              "31.0     12\n",
              "30.0     12\n",
              "29.0     12\n",
              "28.0      9\n",
              "27.0     17\n",
              "26.0     13\n",
              "25.0     11\n",
              "24.0     12\n",
              "23.0     17\n",
              "22.0     11\n",
              "21.0      8\n",
              "20.0     12\n",
              "19.0      9\n",
              "18.0     10\n",
              "Name: age, dtype: int64"
            ]
          },
          "metadata": {},
          "execution_count": 9
        }
      ]
    },
    {
      "cell_type": "markdown",
      "metadata": {
        "id": "H_KhWp6KL5e_"
      },
      "source": [
        "Clearly 999, 420, and 158 are incorrect values for age. I will also drop these values, because I do not believe the other features would give us enough information to replace these values with a value that makes sense."
      ]
    },
    {
      "cell_type": "code",
      "metadata": {
        "colab": {
          "base_uri": "https://localhost:8080/"
        },
        "id": "a0e-xmuqNIdF",
        "outputId": "49f5617e-6f1e-4c6b-c35c-3e7e1632bfae"
      },
      "source": [
        "df = df.query('age < 158')\n",
        "df.age.value_counts().sort_index(ascending=False)"
      ],
      "execution_count": null,
      "outputs": [
        {
          "output_type": "execute_result",
          "data": {
            "text/plain": [
              "67.0    13\n",
              "66.0     4\n",
              "65.0     8\n",
              "64.0    13\n",
              "63.0     9\n",
              "62.0     4\n",
              "61.0    10\n",
              "60.0     5\n",
              "59.0    10\n",
              "58.0    15\n",
              "57.0    10\n",
              "56.0    14\n",
              "55.0     5\n",
              "54.0     8\n",
              "53.0     5\n",
              "52.0    15\n",
              "51.0     8\n",
              "50.0     5\n",
              "49.0    14\n",
              "48.0    17\n",
              "47.0    17\n",
              "46.0    15\n",
              "45.0     9\n",
              "44.0    12\n",
              "43.0    21\n",
              "42.0    12\n",
              "41.0    13\n",
              "40.0    18\n",
              "39.0    13\n",
              "38.0    12\n",
              "37.0    14\n",
              "36.0    17\n",
              "35.0    17\n",
              "34.0    14\n",
              "33.0     9\n",
              "32.0    14\n",
              "31.0    12\n",
              "30.0    12\n",
              "29.0    12\n",
              "28.0     9\n",
              "27.0    17\n",
              "26.0    13\n",
              "25.0    11\n",
              "24.0    12\n",
              "23.0    17\n",
              "22.0    11\n",
              "21.0     8\n",
              "20.0    12\n",
              "19.0     9\n",
              "18.0    10\n",
              "Name: age, dtype: int64"
            ]
          },
          "metadata": {},
          "execution_count": 10
        }
      ]
    },
    {
      "cell_type": "markdown",
      "metadata": {
        "id": "enreGon7NqDu"
      },
      "source": [
        "Lastly, I will verify number of ``children`` for outliers."
      ]
    },
    {
      "cell_type": "code",
      "metadata": {
        "colab": {
          "base_uri": "https://localhost:8080/"
        },
        "id": "2IuRsPyxN14s",
        "outputId": "d9ed3afd-5e8e-4bd5-c18f-382567084286"
      },
      "source": [
        "df.children.value_counts().sort_index(ascending=False)"
      ],
      "execution_count": null,
      "outputs": [
        {
          "output_type": "execute_result",
          "data": {
            "text/plain": [
              "99      1\n",
              "3      67\n",
              "2     130\n",
              "1     129\n",
              "0     257\n",
              "Name: children, dtype: int64"
            ]
          },
          "metadata": {},
          "execution_count": 11
        }
      ]
    },
    {
      "cell_type": "markdown",
      "metadata": {
        "id": "gZ7iKP3eOAmf"
      },
      "source": [
        "We have a value for a person with 99 children. This is also clearly an extreme value. I will drop it as well."
      ]
    },
    {
      "cell_type": "code",
      "metadata": {
        "colab": {
          "base_uri": "https://localhost:8080/"
        },
        "id": "NsUc_cbzN__o",
        "outputId": "08a11c22-903f-4deb-e6c0-485de0c3b00c"
      },
      "source": [
        "df = df.query('children < 4')\n",
        "df.children.value_counts().sort_index(ascending=False)"
      ],
      "execution_count": null,
      "outputs": [
        {
          "output_type": "execute_result",
          "data": {
            "text/plain": [
              "3     67\n",
              "2    130\n",
              "1    129\n",
              "0    257\n",
              "Name: children, dtype: int64"
            ]
          },
          "metadata": {},
          "execution_count": 12
        }
      ]
    },
    {
      "cell_type": "markdown",
      "metadata": {
        "id": "QGVYgR9KTo5f"
      },
      "source": [
        "Since we will also be modeling our data, I will drop the ID column."
      ]
    },
    {
      "cell_type": "code",
      "metadata": {
        "id": "3UdbrctYTu0U"
      },
      "source": [
        "df = df.drop(columns='id').reset_index(drop=True)"
      ],
      "execution_count": null,
      "outputs": []
    },
    {
      "cell_type": "markdown",
      "metadata": {
        "id": "o6UFCZJ6QDfq"
      },
      "source": [
        "After cleaning the data, we still retain 583 records."
      ]
    },
    {
      "cell_type": "code",
      "metadata": {
        "colab": {
          "base_uri": "https://localhost:8080/"
        },
        "id": "5u3VrAa5P9Qt",
        "outputId": "74ee7205-b308-4511-e197-f277e40203eb"
      },
      "source": [
        "df.shape"
      ],
      "execution_count": null,
      "outputs": [
        {
          "output_type": "execute_result",
          "data": {
            "text/plain": [
              "(583, 10)"
            ]
          },
          "metadata": {},
          "execution_count": 14
        }
      ]
    },
    {
      "cell_type": "markdown",
      "metadata": {
        "id": "KwxMntQVbjd2"
      },
      "source": [
        "**b.** Organizing each categorical variable from the training data using a frequency table or column/bar chart and describing each numerical variable by computing their mean, sample standard deviation, minimal, and maximum. "
      ]
    },
    {
      "cell_type": "markdown",
      "metadata": {
        "id": "N7tJA446Zksd"
      },
      "source": [
        "Plotting the counts of categories to compare their frequencies. The leftmost side (or blue) of each subplot is the most frequent value within that category."
      ]
    },
    {
      "cell_type": "code",
      "metadata": {
        "colab": {
          "base_uri": "https://localhost:8080/",
          "height": 857
        },
        "id": "9yGuQE49Q-26",
        "outputId": "90eaee9c-d31f-4086-9b48-5a3ac42435a3"
      },
      "source": [
        "c = 0\n",
        "plt.figure(figsize=(15,15))\n",
        "plt.suptitle('Counts of categorical values', y=1)\n",
        "for col in df.select_dtypes(include=['object']).columns:\n",
        "  c += 1\n",
        "  plt.subplot(4,3, c)\n",
        "  sns.countplot(x=col, data=df, order=df[col].value_counts().index)\n",
        "plt.tight_layout()\n",
        "plt.show()"
      ],
      "execution_count": null,
      "outputs": [
        {
          "output_type": "display_data",
          "data": {
            "image/png": "[encoded data removed]",
            "text/plain": [
              "<Figure size 1080x1080 with 8 Axes>"
            ]
          },
          "metadata": {
            "needs_background": "light"
          }
        }
      ]
    },
    {
      "cell_type": "markdown",
      "metadata": {
        "id": "xg_TqwX3b7Jf"
      },
      "source": [
        "Summary measures for numerical variables."
      ]
    },
    {
      "cell_type": "code",
      "metadata": {
        "colab": {
          "base_uri": "https://localhost:8080/",
          "height": 295
        },
        "id": "wEpzonyRbN0l",
        "outputId": "b093f152-4615-40df-df5d-bee34e68eb25"
      },
      "source": [
        "df.select_dtypes(include=['float', 'int']).describe()"
      ],
      "execution_count": null,
      "outputs": [
        {
          "output_type": "execute_result",
          "data": {
            "text/html": [
              "<div>\n",
              "<style scoped>\n",
              "    .dataframe tbody tr th:only-of-type {\n",
              "        vertical-align: middle;\n",
              "    }\n",
              "\n",
              "    .dataframe tbody tr th {\n",
              "        vertical-align: top;\n",
              "    }\n",
              "\n",
              "    .dataframe thead th {\n",
              "        text-align: right;\n",
              "    }\n",
              "</style>\n",
              "<table border=\"1\" class=\"dataframe\">\n",
              "  <thead>\n",
              "    <tr style=\"text-align: right;\">\n",
              "      <th></th>\n",
              "      <th>age</th>\n",
              "      <th>children</th>\n",
              "    </tr>\n",
              "  </thead>\n",
              "  <tbody>\n",
              "    <tr>\n",
              "      <th>count</th>\n",
              "      <td>583.000000</td>\n",
              "      <td>583.000000</td>\n",
              "    </tr>\n",
              "    <tr>\n",
              "      <th>mean</th>\n",
              "      <td>41.078902</td>\n",
              "      <td>1.012007</td>\n",
              "    </tr>\n",
              "    <tr>\n",
              "      <th>std</th>\n",
              "      <td>13.526122</td>\n",
              "      <td>1.060795</td>\n",
              "    </tr>\n",
              "    <tr>\n",
              "      <th>min</th>\n",
              "      <td>18.000000</td>\n",
              "      <td>0.000000</td>\n",
              "    </tr>\n",
              "    <tr>\n",
              "      <th>25%</th>\n",
              "      <td>30.000000</td>\n",
              "      <td>0.000000</td>\n",
              "    </tr>\n",
              "    <tr>\n",
              "      <th>50%</th>\n",
              "      <td>40.000000</td>\n",
              "      <td>1.000000</td>\n",
              "    </tr>\n",
              "    <tr>\n",
              "      <th>75%</th>\n",
              "      <td>52.000000</td>\n",
              "      <td>2.000000</td>\n",
              "    </tr>\n",
              "    <tr>\n",
              "      <th>max</th>\n",
              "      <td>67.000000</td>\n",
              "      <td>3.000000</td>\n",
              "    </tr>\n",
              "  </tbody>\n",
              "</table>\n",
              "</div>"
            ],
            "text/plain": [
              "              age    children\n",
              "count  583.000000  583.000000\n",
              "mean    41.078902    1.012007\n",
              "std     13.526122    1.060795\n",
              "min     18.000000    0.000000\n",
              "25%     30.000000    0.000000\n",
              "50%     40.000000    1.000000\n",
              "75%     52.000000    2.000000\n",
              "max     67.000000    3.000000"
            ]
          },
          "metadata": {},
          "execution_count": 16
        }
      ]
    },
    {
      "cell_type": "markdown",
      "metadata": {
        "id": "05T_d8_hcDZQ"
      },
      "source": [
        "**c.** Checking if there is any redundant or irrelevant attribute before modeling and describing how are you deal with them one by one."
      ]
    },
    {
      "cell_type": "markdown",
      "metadata": {
        "id": "i6CSjrsucG9H"
      },
      "source": [
        "The irrelevant attribute was the ID column. Since this variable was only used as an identifier and held no relevant information for our analysis, I have dropped this column."
      ]
    },
    {
      "cell_type": "markdown",
      "metadata": {
        "id": "rfTmoKpGcldQ"
      },
      "source": [
        "4. **Modeling:**\n"
      ]
    },
    {
      "cell_type": "markdown",
      "metadata": {
        "id": "20uFb2s_ed4b"
      },
      "source": [
        "Our categorical variables need to be encoded for our modeling."
      ]
    },
    {
      "cell_type": "code",
      "metadata": {
        "colab": {
          "base_uri": "https://localhost:8080/",
          "height": 203
        },
        "id": "OJmoqC5Xe_kO",
        "outputId": "d10f407a-b151-4ae0-d45f-f4220c6ccf46"
      },
      "source": [
        "df.head()"
      ],
      "execution_count": null,
      "outputs": [
        {
          "output_type": "execute_result",
          "data": {
            "text/html": [
              "<div>\n",
              "<style scoped>\n",
              "    .dataframe tbody tr th:only-of-type {\n",
              "        vertical-align: middle;\n",
              "    }\n",
              "\n",
              "    .dataframe tbody tr th {\n",
              "        vertical-align: top;\n",
              "    }\n",
              "\n",
              "    .dataframe thead th {\n",
              "        text-align: right;\n",
              "    }\n",
              "</style>\n",
              "<table border=\"1\" class=\"dataframe\">\n",
              "  <thead>\n",
              "    <tr style=\"text-align: right;\">\n",
              "      <th></th>\n",
              "      <th>age</th>\n",
              "      <th>sex</th>\n",
              "      <th>region</th>\n",
              "      <th>married</th>\n",
              "      <th>children</th>\n",
              "      <th>car</th>\n",
              "      <th>save_act</th>\n",
              "      <th>current_act</th>\n",
              "      <th>mortgage</th>\n",
              "      <th>response</th>\n",
              "    </tr>\n",
              "  </thead>\n",
              "  <tbody>\n",
              "    <tr>\n",
              "      <th>0</th>\n",
              "      <td>48.0</td>\n",
              "      <td>FEMALE</td>\n",
              "      <td>INNER_CITY</td>\n",
              "      <td>NO</td>\n",
              "      <td>1</td>\n",
              "      <td>NO</td>\n",
              "      <td>NO</td>\n",
              "      <td>NO</td>\n",
              "      <td>NO</td>\n",
              "      <td>YES</td>\n",
              "    </tr>\n",
              "    <tr>\n",
              "      <th>1</th>\n",
              "      <td>40.0</td>\n",
              "      <td>MALE</td>\n",
              "      <td>TOWN</td>\n",
              "      <td>YES</td>\n",
              "      <td>3</td>\n",
              "      <td>YES</td>\n",
              "      <td>NO</td>\n",
              "      <td>YES</td>\n",
              "      <td>YES</td>\n",
              "      <td>NO</td>\n",
              "    </tr>\n",
              "    <tr>\n",
              "      <th>2</th>\n",
              "      <td>51.0</td>\n",
              "      <td>FEMALE</td>\n",
              "      <td>INNER_CITY</td>\n",
              "      <td>YES</td>\n",
              "      <td>0</td>\n",
              "      <td>YES</td>\n",
              "      <td>YES</td>\n",
              "      <td>YES</td>\n",
              "      <td>NO</td>\n",
              "      <td>NO</td>\n",
              "    </tr>\n",
              "    <tr>\n",
              "      <th>3</th>\n",
              "      <td>23.0</td>\n",
              "      <td>FEMALE</td>\n",
              "      <td>RURAL</td>\n",
              "      <td>YES</td>\n",
              "      <td>0</td>\n",
              "      <td>NO</td>\n",
              "      <td>YES</td>\n",
              "      <td>NO</td>\n",
              "      <td>NO</td>\n",
              "      <td>NO</td>\n",
              "    </tr>\n",
              "    <tr>\n",
              "      <th>4</th>\n",
              "      <td>25.0</td>\n",
              "      <td>FEMALE</td>\n",
              "      <td>TOWN</td>\n",
              "      <td>YES</td>\n",
              "      <td>2</td>\n",
              "      <td>NO</td>\n",
              "      <td>YES</td>\n",
              "      <td>YES</td>\n",
              "      <td>NO</td>\n",
              "      <td>YES</td>\n",
              "    </tr>\n",
              "  </tbody>\n",
              "</table>\n",
              "</div>"
            ],
            "text/plain": [
              "    age     sex      region married  ...  save_act current_act mortgage response\n",
              "0  48.0  FEMALE  INNER_CITY      NO  ...        NO          NO       NO      YES\n",
              "1  40.0    MALE        TOWN     YES  ...        NO         YES      YES       NO\n",
              "2  51.0  FEMALE  INNER_CITY     YES  ...       YES         YES       NO       NO\n",
              "3  23.0  FEMALE       RURAL     YES  ...       YES          NO       NO       NO\n",
              "4  25.0  FEMALE        TOWN     YES  ...       YES         YES       NO      YES\n",
              "\n",
              "[5 rows x 10 columns]"
            ]
          },
          "metadata": {},
          "execution_count": 17
        }
      ]
    },
    {
      "cell_type": "code",
      "metadata": {
        "id": "A19zW0W4hmWc"
      },
      "source": [
        "dummies = pd.get_dummies(df.select_dtypes(include=['object']), drop_first=True)"
      ],
      "execution_count": null,
      "outputs": []
    },
    {
      "cell_type": "code",
      "metadata": {
        "id": "_RO6H3ySjTE7"
      },
      "source": [
        "numerical_data = df.drop(columns=df.select_dtypes(include=['object']))"
      ],
      "execution_count": null,
      "outputs": []
    },
    {
      "cell_type": "markdown",
      "metadata": {
        "id": "hL-5ydCLEtrz"
      },
      "source": [
        "Note: Our variable of interest \"Yes\" was coded a 1."
      ]
    },
    {
      "cell_type": "code",
      "metadata": {
        "colab": {
          "base_uri": "https://localhost:8080/",
          "height": 437
        },
        "id": "W1-GZ03ikSHQ",
        "outputId": "27308716-d1f8-4f9f-bd75-54146d1fb3dc"
      },
      "source": [
        "data = pd.concat([numerical_data, dummies], axis=1)\n",
        "data"
      ],
      "execution_count": null,
      "outputs": [
        {
          "output_type": "execute_result",
          "data": {
            "text/html": [
              "<div>\n",
              "<style scoped>\n",
              "    .dataframe tbody tr th:only-of-type {\n",
              "        vertical-align: middle;\n",
              "    }\n",
              "\n",
              "    .dataframe tbody tr th {\n",
              "        vertical-align: top;\n",
              "    }\n",
              "\n",
              "    .dataframe thead th {\n",
              "        text-align: right;\n",
              "    }\n",
              "</style>\n",
              "<table border=\"1\" class=\"dataframe\">\n",
              "  <thead>\n",
              "    <tr style=\"text-align: right;\">\n",
              "      <th></th>\n",
              "      <th>age</th>\n",
              "      <th>children</th>\n",
              "      <th>sex_MALE</th>\n",
              "      <th>region_RURAL</th>\n",
              "      <th>region_SUBURBAN</th>\n",
              "      <th>region_TOWN</th>\n",
              "      <th>married_YES</th>\n",
              "      <th>car_YES</th>\n",
              "      <th>save_act_YES</th>\n",
              "      <th>current_act_YES</th>\n",
              "      <th>mortgage_YES</th>\n",
              "      <th>response_YES</th>\n",
              "    </tr>\n",
              "  </thead>\n",
              "  <tbody>\n",
              "    <tr>\n",
              "      <th>0</th>\n",
              "      <td>48.0</td>\n",
              "      <td>1</td>\n",
              "      <td>0</td>\n",
              "      <td>0</td>\n",
              "      <td>0</td>\n",
              "      <td>0</td>\n",
              "      <td>0</td>\n",
              "      <td>0</td>\n",
              "      <td>0</td>\n",
              "      <td>0</td>\n",
              "      <td>0</td>\n",
              "      <td>1</td>\n",
              "    </tr>\n",
              "    <tr>\n",
              "      <th>1</th>\n",
              "      <td>40.0</td>\n",
              "      <td>3</td>\n",
              "      <td>1</td>\n",
              "      <td>0</td>\n",
              "      <td>0</td>\n",
              "      <td>1</td>\n",
              "      <td>1</td>\n",
              "      <td>1</td>\n",
              "      <td>0</td>\n",
              "      <td>1</td>\n",
              "      <td>1</td>\n",
              "      <td>0</td>\n",
              "    </tr>\n",
              "    <tr>\n",
              "      <th>2</th>\n",
              "      <td>51.0</td>\n",
              "      <td>0</td>\n",
              "      <td>0</td>\n",
              "      <td>0</td>\n",
              "      <td>0</td>\n",
              "      <td>0</td>\n",
              "      <td>1</td>\n",
              "      <td>1</td>\n",
              "      <td>1</td>\n",
              "      <td>1</td>\n",
              "      <td>0</td>\n",
              "      <td>0</td>\n",
              "    </tr>\n",
              "    <tr>\n",
              "      <th>3</th>\n",
              "      <td>23.0</td>\n",
              "      <td>0</td>\n",
              "      <td>0</td>\n",
              "      <td>1</td>\n",
              "      <td>0</td>\n",
              "      <td>0</td>\n",
              "      <td>1</td>\n",
              "      <td>0</td>\n",
              "      <td>1</td>\n",
              "      <td>0</td>\n",
              "      <td>0</td>\n",
              "      <td>0</td>\n",
              "    </tr>\n",
              "    <tr>\n",
              "      <th>4</th>\n",
              "      <td>25.0</td>\n",
              "      <td>2</td>\n",
              "      <td>0</td>\n",
              "      <td>0</td>\n",
              "      <td>0</td>\n",
              "      <td>1</td>\n",
              "      <td>1</td>\n",
              "      <td>0</td>\n",
              "      <td>1</td>\n",
              "      <td>1</td>\n",
              "      <td>0</td>\n",
              "      <td>1</td>\n",
              "    </tr>\n",
              "    <tr>\n",
              "      <th>...</th>\n",
              "      <td>...</td>\n",
              "      <td>...</td>\n",
              "      <td>...</td>\n",
              "      <td>...</td>\n",
              "      <td>...</td>\n",
              "      <td>...</td>\n",
              "      <td>...</td>\n",
              "      <td>...</td>\n",
              "      <td>...</td>\n",
              "      <td>...</td>\n",
              "      <td>...</td>\n",
              "      <td>...</td>\n",
              "    </tr>\n",
              "    <tr>\n",
              "      <th>578</th>\n",
              "      <td>61.0</td>\n",
              "      <td>2</td>\n",
              "      <td>0</td>\n",
              "      <td>0</td>\n",
              "      <td>0</td>\n",
              "      <td>0</td>\n",
              "      <td>0</td>\n",
              "      <td>1</td>\n",
              "      <td>1</td>\n",
              "      <td>1</td>\n",
              "      <td>1</td>\n",
              "      <td>0</td>\n",
              "    </tr>\n",
              "    <tr>\n",
              "      <th>579</th>\n",
              "      <td>30.0</td>\n",
              "      <td>0</td>\n",
              "      <td>0</td>\n",
              "      <td>0</td>\n",
              "      <td>0</td>\n",
              "      <td>0</td>\n",
              "      <td>1</td>\n",
              "      <td>1</td>\n",
              "      <td>1</td>\n",
              "      <td>1</td>\n",
              "      <td>0</td>\n",
              "      <td>0</td>\n",
              "    </tr>\n",
              "    <tr>\n",
              "      <th>580</th>\n",
              "      <td>31.0</td>\n",
              "      <td>0</td>\n",
              "      <td>0</td>\n",
              "      <td>0</td>\n",
              "      <td>0</td>\n",
              "      <td>1</td>\n",
              "      <td>1</td>\n",
              "      <td>1</td>\n",
              "      <td>1</td>\n",
              "      <td>0</td>\n",
              "      <td>0</td>\n",
              "      <td>1</td>\n",
              "    </tr>\n",
              "    <tr>\n",
              "      <th>581</th>\n",
              "      <td>29.0</td>\n",
              "      <td>0</td>\n",
              "      <td>1</td>\n",
              "      <td>0</td>\n",
              "      <td>0</td>\n",
              "      <td>0</td>\n",
              "      <td>1</td>\n",
              "      <td>0</td>\n",
              "      <td>1</td>\n",
              "      <td>0</td>\n",
              "      <td>1</td>\n",
              "      <td>0</td>\n",
              "    </tr>\n",
              "    <tr>\n",
              "      <th>582</th>\n",
              "      <td>38.0</td>\n",
              "      <td>0</td>\n",
              "      <td>1</td>\n",
              "      <td>0</td>\n",
              "      <td>0</td>\n",
              "      <td>1</td>\n",
              "      <td>0</td>\n",
              "      <td>1</td>\n",
              "      <td>0</td>\n",
              "      <td>1</td>\n",
              "      <td>1</td>\n",
              "      <td>1</td>\n",
              "    </tr>\n",
              "  </tbody>\n",
              "</table>\n",
              "<p>583 rows × 12 columns</p>\n",
              "</div>"
            ],
            "text/plain": [
              "      age  children  sex_MALE  ...  current_act_YES  mortgage_YES  response_YES\n",
              "0    48.0         1         0  ...                0             0             1\n",
              "1    40.0         3         1  ...                1             1             0\n",
              "2    51.0         0         0  ...                1             0             0\n",
              "3    23.0         0         0  ...                0             0             0\n",
              "4    25.0         2         0  ...                1             0             1\n",
              "..    ...       ...       ...  ...              ...           ...           ...\n",
              "578  61.0         2         0  ...                1             1             0\n",
              "579  30.0         0         0  ...                1             0             0\n",
              "580  31.0         0         0  ...                0             0             1\n",
              "581  29.0         0         1  ...                0             1             0\n",
              "582  38.0         0         1  ...                1             1             1\n",
              "\n",
              "[583 rows x 12 columns]"
            ]
          },
          "metadata": {},
          "execution_count": 20
        }
      ]
    },
    {
      "cell_type": "markdown",
      "metadata": {
        "id": "amDHT6bW5EXy"
      },
      "source": [
        "Lets inspect the dataset to be predicted."
      ]
    },
    {
      "cell_type": "code",
      "metadata": {
        "colab": {
          "base_uri": "https://localhost:8080/",
          "height": 203
        },
        "id": "scnRgm8Z5DRs",
        "outputId": "c16c9531-55da-4f23-e1b9-7288641e48fd"
      },
      "source": [
        "pd.read_csv('loan_predict.csv').head()"
      ],
      "execution_count": null,
      "outputs": [
        {
          "output_type": "execute_result",
          "data": {
            "text/html": [
              "<div>\n",
              "<style scoped>\n",
              "    .dataframe tbody tr th:only-of-type {\n",
              "        vertical-align: middle;\n",
              "    }\n",
              "\n",
              "    .dataframe tbody tr th {\n",
              "        vertical-align: top;\n",
              "    }\n",
              "\n",
              "    .dataframe thead th {\n",
              "        text-align: right;\n",
              "    }\n",
              "</style>\n",
              "<table border=\"1\" class=\"dataframe\">\n",
              "  <thead>\n",
              "    <tr style=\"text-align: right;\">\n",
              "      <th></th>\n",
              "      <th>id</th>\n",
              "      <th>age</th>\n",
              "      <th>sex</th>\n",
              "      <th>region</th>\n",
              "      <th>income</th>\n",
              "      <th>married</th>\n",
              "      <th>car</th>\n",
              "      <th>save_act</th>\n",
              "      <th>current_act</th>\n",
              "      <th>mortgage</th>\n",
              "      <th>response</th>\n",
              "    </tr>\n",
              "  </thead>\n",
              "  <tbody>\n",
              "    <tr>\n",
              "      <th>0</th>\n",
              "      <td>ID12701</td>\n",
              "      <td>23</td>\n",
              "      <td>MALE</td>\n",
              "      <td>INNER_CITY</td>\n",
              "      <td>18766.90</td>\n",
              "      <td>YES</td>\n",
              "      <td>YES</td>\n",
              "      <td>YES</td>\n",
              "      <td>NO</td>\n",
              "      <td>YES</td>\n",
              "      <td>?</td>\n",
              "    </tr>\n",
              "    <tr>\n",
              "      <th>1</th>\n",
              "      <td>ID12702</td>\n",
              "      <td>30</td>\n",
              "      <td>MALE</td>\n",
              "      <td>RURAL</td>\n",
              "      <td>9915.67</td>\n",
              "      <td>NO</td>\n",
              "      <td>NO</td>\n",
              "      <td>YES</td>\n",
              "      <td>NO</td>\n",
              "      <td>YES</td>\n",
              "      <td>?</td>\n",
              "    </tr>\n",
              "    <tr>\n",
              "      <th>2</th>\n",
              "      <td>ID12703</td>\n",
              "      <td>45</td>\n",
              "      <td>FEMALE</td>\n",
              "      <td>RURAL</td>\n",
              "      <td>21881.60</td>\n",
              "      <td>NO</td>\n",
              "      <td>YES</td>\n",
              "      <td>YES</td>\n",
              "      <td>YES</td>\n",
              "      <td>NO</td>\n",
              "      <td>?</td>\n",
              "    </tr>\n",
              "    <tr>\n",
              "      <th>3</th>\n",
              "      <td>ID12704</td>\n",
              "      <td>50</td>\n",
              "      <td>MALE</td>\n",
              "      <td>TOWN</td>\n",
              "      <td>46794.40</td>\n",
              "      <td>YES</td>\n",
              "      <td>NO</td>\n",
              "      <td>YES</td>\n",
              "      <td>NO</td>\n",
              "      <td>YES</td>\n",
              "      <td>?</td>\n",
              "    </tr>\n",
              "    <tr>\n",
              "      <th>4</th>\n",
              "      <td>ID12705</td>\n",
              "      <td>41</td>\n",
              "      <td>FEMALE</td>\n",
              "      <td>INNER_CITY</td>\n",
              "      <td>20721.10</td>\n",
              "      <td>YES</td>\n",
              "      <td>YES</td>\n",
              "      <td>YES</td>\n",
              "      <td>YES</td>\n",
              "      <td>NO</td>\n",
              "      <td>?</td>\n",
              "    </tr>\n",
              "  </tbody>\n",
              "</table>\n",
              "</div>"
            ],
            "text/plain": [
              "        id  age     sex      region  ...  save_act current_act mortgage response\n",
              "0  ID12701   23    MALE  INNER_CITY  ...       YES          NO      YES        ?\n",
              "1  ID12702   30    MALE       RURAL  ...       YES          NO      YES        ?\n",
              "2  ID12703   45  FEMALE       RURAL  ...       YES         YES       NO        ?\n",
              "3  ID12704   50    MALE        TOWN  ...       YES          NO      YES        ?\n",
              "4  ID12705   41  FEMALE  INNER_CITY  ...       YES         YES       NO        ?\n",
              "\n",
              "[5 rows x 11 columns]"
            ]
          },
          "metadata": {},
          "execution_count": 21
        }
      ]
    },
    {
      "cell_type": "markdown",
      "metadata": {
        "id": "HWJA-72W5WLB"
      },
      "source": [
        "It appears this dataset does not consider children. Also age is an interget datatype here. We should format our training dataset to match the datatypes and features considered here."
      ]
    },
    {
      "cell_type": "code",
      "metadata": {
        "colab": {
          "base_uri": "https://localhost:8080/",
          "height": 203
        },
        "id": "ePhug5GX5l00",
        "outputId": "77908773-b4e5-4f0e-a067-4ac30bc174cb"
      },
      "source": [
        "data = data.drop(columns=['children'])\n",
        "data.head()"
      ],
      "execution_count": null,
      "outputs": [
        {
          "output_type": "execute_result",
          "data": {
            "text/html": [
              "<div>\n",
              "<style scoped>\n",
              "    .dataframe tbody tr th:only-of-type {\n",
              "        vertical-align: middle;\n",
              "    }\n",
              "\n",
              "    .dataframe tbody tr th {\n",
              "        vertical-align: top;\n",
              "    }\n",
              "\n",
              "    .dataframe thead th {\n",
              "        text-align: right;\n",
              "    }\n",
              "</style>\n",
              "<table border=\"1\" class=\"dataframe\">\n",
              "  <thead>\n",
              "    <tr style=\"text-align: right;\">\n",
              "      <th></th>\n",
              "      <th>age</th>\n",
              "      <th>sex_MALE</th>\n",
              "      <th>region_RURAL</th>\n",
              "      <th>region_SUBURBAN</th>\n",
              "      <th>region_TOWN</th>\n",
              "      <th>married_YES</th>\n",
              "      <th>car_YES</th>\n",
              "      <th>save_act_YES</th>\n",
              "      <th>current_act_YES</th>\n",
              "      <th>mortgage_YES</th>\n",
              "      <th>response_YES</th>\n",
              "    </tr>\n",
              "  </thead>\n",
              "  <tbody>\n",
              "    <tr>\n",
              "      <th>0</th>\n",
              "      <td>48.0</td>\n",
              "      <td>0</td>\n",
              "      <td>0</td>\n",
              "      <td>0</td>\n",
              "      <td>0</td>\n",
              "      <td>0</td>\n",
              "      <td>0</td>\n",
              "      <td>0</td>\n",
              "      <td>0</td>\n",
              "      <td>0</td>\n",
              "      <td>1</td>\n",
              "    </tr>\n",
              "    <tr>\n",
              "      <th>1</th>\n",
              "      <td>40.0</td>\n",
              "      <td>1</td>\n",
              "      <td>0</td>\n",
              "      <td>0</td>\n",
              "      <td>1</td>\n",
              "      <td>1</td>\n",
              "      <td>1</td>\n",
              "      <td>0</td>\n",
              "      <td>1</td>\n",
              "      <td>1</td>\n",
              "      <td>0</td>\n",
              "    </tr>\n",
              "    <tr>\n",
              "      <th>2</th>\n",
              "      <td>51.0</td>\n",
              "      <td>0</td>\n",
              "      <td>0</td>\n",
              "      <td>0</td>\n",
              "      <td>0</td>\n",
              "      <td>1</td>\n",
              "      <td>1</td>\n",
              "      <td>1</td>\n",
              "      <td>1</td>\n",
              "      <td>0</td>\n",
              "      <td>0</td>\n",
              "    </tr>\n",
              "    <tr>\n",
              "      <th>3</th>\n",
              "      <td>23.0</td>\n",
              "      <td>0</td>\n",
              "      <td>1</td>\n",
              "      <td>0</td>\n",
              "      <td>0</td>\n",
              "      <td>1</td>\n",
              "      <td>0</td>\n",
              "      <td>1</td>\n",
              "      <td>0</td>\n",
              "      <td>0</td>\n",
              "      <td>0</td>\n",
              "    </tr>\n",
              "    <tr>\n",
              "      <th>4</th>\n",
              "      <td>25.0</td>\n",
              "      <td>0</td>\n",
              "      <td>0</td>\n",
              "      <td>0</td>\n",
              "      <td>1</td>\n",
              "      <td>1</td>\n",
              "      <td>0</td>\n",
              "      <td>1</td>\n",
              "      <td>1</td>\n",
              "      <td>0</td>\n",
              "      <td>1</td>\n",
              "    </tr>\n",
              "  </tbody>\n",
              "</table>\n",
              "</div>"
            ],
            "text/plain": [
              "    age  sex_MALE  region_RURAL  ...  current_act_YES  mortgage_YES  response_YES\n",
              "0  48.0         0             0  ...                0             0             1\n",
              "1  40.0         1             0  ...                1             1             0\n",
              "2  51.0         0             0  ...                1             0             0\n",
              "3  23.0         0             1  ...                0             0             0\n",
              "4  25.0         0             0  ...                1             0             1\n",
              "\n",
              "[5 rows x 11 columns]"
            ]
          },
          "metadata": {},
          "execution_count": 22
        }
      ]
    },
    {
      "cell_type": "code",
      "metadata": {
        "colab": {
          "base_uri": "https://localhost:8080/",
          "height": 203
        },
        "id": "elD-lHMr6E7E",
        "outputId": "4ef403cb-03f9-41fc-d003-904aa0c117fa"
      },
      "source": [
        "data.loc[:, ['age']] = data.age.astype('int')\n",
        "data.head()"
      ],
      "execution_count": null,
      "outputs": [
        {
          "output_type": "execute_result",
          "data": {
            "text/html": [
              "<div>\n",
              "<style scoped>\n",
              "    .dataframe tbody tr th:only-of-type {\n",
              "        vertical-align: middle;\n",
              "    }\n",
              "\n",
              "    .dataframe tbody tr th {\n",
              "        vertical-align: top;\n",
              "    }\n",
              "\n",
              "    .dataframe thead th {\n",
              "        text-align: right;\n",
              "    }\n",
              "</style>\n",
              "<table border=\"1\" class=\"dataframe\">\n",
              "  <thead>\n",
              "    <tr style=\"text-align: right;\">\n",
              "      <th></th>\n",
              "      <th>age</th>\n",
              "      <th>sex_MALE</th>\n",
              "      <th>region_RURAL</th>\n",
              "      <th>region_SUBURBAN</th>\n",
              "      <th>region_TOWN</th>\n",
              "      <th>married_YES</th>\n",
              "      <th>car_YES</th>\n",
              "      <th>save_act_YES</th>\n",
              "      <th>current_act_YES</th>\n",
              "      <th>mortgage_YES</th>\n",
              "      <th>response_YES</th>\n",
              "    </tr>\n",
              "  </thead>\n",
              "  <tbody>\n",
              "    <tr>\n",
              "      <th>0</th>\n",
              "      <td>48</td>\n",
              "      <td>0</td>\n",
              "      <td>0</td>\n",
              "      <td>0</td>\n",
              "      <td>0</td>\n",
              "      <td>0</td>\n",
              "      <td>0</td>\n",
              "      <td>0</td>\n",
              "      <td>0</td>\n",
              "      <td>0</td>\n",
              "      <td>1</td>\n",
              "    </tr>\n",
              "    <tr>\n",
              "      <th>1</th>\n",
              "      <td>40</td>\n",
              "      <td>1</td>\n",
              "      <td>0</td>\n",
              "      <td>0</td>\n",
              "      <td>1</td>\n",
              "      <td>1</td>\n",
              "      <td>1</td>\n",
              "      <td>0</td>\n",
              "      <td>1</td>\n",
              "      <td>1</td>\n",
              "      <td>0</td>\n",
              "    </tr>\n",
              "    <tr>\n",
              "      <th>2</th>\n",
              "      <td>51</td>\n",
              "      <td>0</td>\n",
              "      <td>0</td>\n",
              "      <td>0</td>\n",
              "      <td>0</td>\n",
              "      <td>1</td>\n",
              "      <td>1</td>\n",
              "      <td>1</td>\n",
              "      <td>1</td>\n",
              "      <td>0</td>\n",
              "      <td>0</td>\n",
              "    </tr>\n",
              "    <tr>\n",
              "      <th>3</th>\n",
              "      <td>23</td>\n",
              "      <td>0</td>\n",
              "      <td>1</td>\n",
              "      <td>0</td>\n",
              "      <td>0</td>\n",
              "      <td>1</td>\n",
              "      <td>0</td>\n",
              "      <td>1</td>\n",
              "      <td>0</td>\n",
              "      <td>0</td>\n",
              "      <td>0</td>\n",
              "    </tr>\n",
              "    <tr>\n",
              "      <th>4</th>\n",
              "      <td>25</td>\n",
              "      <td>0</td>\n",
              "      <td>0</td>\n",
              "      <td>0</td>\n",
              "      <td>1</td>\n",
              "      <td>1</td>\n",
              "      <td>0</td>\n",
              "      <td>1</td>\n",
              "      <td>1</td>\n",
              "      <td>0</td>\n",
              "      <td>1</td>\n",
              "    </tr>\n",
              "  </tbody>\n",
              "</table>\n",
              "</div>"
            ],
            "text/plain": [
              "   age  sex_MALE  region_RURAL  ...  current_act_YES  mortgage_YES  response_YES\n",
              "0   48         0             0  ...                0             0             1\n",
              "1   40         1             0  ...                1             1             0\n",
              "2   51         0             0  ...                1             0             0\n",
              "3   23         0             1  ...                0             0             0\n",
              "4   25         0             0  ...                1             0             1\n",
              "\n",
              "[5 rows x 11 columns]"
            ]
          },
          "metadata": {},
          "execution_count": 23
        }
      ]
    },
    {
      "cell_type": "markdown",
      "metadata": {
        "id": "prr09RR0ml5c"
      },
      "source": [
        "We split our data into train and test sets."
      ]
    },
    {
      "cell_type": "markdown",
      "metadata": {
        "id": "L_ZnjLJfofZR"
      },
      "source": [
        "Important to note is that Logistic Regression and Tree based algorithms such as Decision Tree, Random forest and gradient boosting, are not sensitive to the magnitude of variables. So standardization is not needed before fitting these kind of models"
      ]
    },
    {
      "cell_type": "markdown",
      "metadata": {
        "id": "MR9TRiXB26Km"
      },
      "source": [
        "**Decision tree model**\n",
        "\n",
        "Hyperparameter tuning with grid search"
      ]
    },
    {
      "cell_type": "markdown",
      "metadata": {
        "id": "7y7pz-8etNhf"
      },
      "source": [
        "In information retrieval, a perfect precision score of 1.0 means that every result retrieved by a search was relevant (but says nothing about whether all relevant documents were retrieved) whereas a perfect recall score of 1.0 means that all relevant documents were retrieved by the search (but says nothing about how many irrelevant documents were also retrieved).\n",
        "\n",
        "Since we are interested in the customers who are most likely to accept the loan, I will tune parameters for precision. Correctly identifying customers who are likely to accept while potentially missing some is better than incorrectly classifying a customer who is unlikely to accept as a candidate ``Yes``.\n",
        "\n",
        "We must keep in mind that the relative importance of precision and recall is an aspect of the problem we are solving."
      ]
    },
    {
      "cell_type": "code",
      "metadata": {
        "colab": {
          "base_uri": "https://localhost:8080/",
          "height": 239
        },
        "id": "bNl3MwlHnZWM",
        "outputId": "9957dec2-2191-491b-a129-1426385a3bad"
      },
      "source": [
        "from sklearn.tree import  DecisionTreeClassifier\n",
        "from sklearn.model_selection import train_test_split\n",
        "from sklearn.metrics import accuracy_score, average_precision_score, precision_score, f1_score\n",
        "from sklearn.model_selection import GridSearchCVsna\n",
        "from sklearn.metrics import classification_report, confusion_matrix\n",
        "\n",
        "X = data.drop(columns=['response_YES'])\n",
        "y = data.response_YES\n",
        "\n",
        "X_train, X_test, y_train, y_test = train_test_split(X, y, test_size=0.2, stratify=y, random_state=0)\n",
        "\n",
        "tuned_parameters = [{'max_depth': range(1, 15),\n",
        "                     'min_samples_split': range(2, 15, 2),\n",
        "                    'min_samples_leaf': range(2, 15, 2)}]\n",
        "\n",
        "\n",
        "tree_model = GridSearchCV(\n",
        "    DecisionTreeClassifier(random_state=0), tuned_parameters,\n",
        "    scoring = 'precision_macro'\n",
        ").fit(X_train, y_train)\n",
        "\n",
        "print(f\"Best parameters: {tree_model.best_params_}\\n\")\n",
        "\n",
        "tree_preds = tree_model.predict(X_test)\n",
        "print(f'Test predictions {tree_preds.sum()} yes\\n')\n",
        "\n",
        "pd.DataFrame(classification_report(y_test, tree_preds, output_dict=True))"
      ],
      "execution_count": null,
      "outputs": [
        {
          "output_type": "stream",
          "name": "stdout",
          "text": [
            "Best parameters: {'max_depth': 2, 'min_samples_leaf': 2, 'min_samples_split': 2}\n",
            "\n",
            "Test predictions 29 yes\n",
            "\n"
          ]
        },
        {
          "output_type": "execute_result",
          "data": {
            "text/html": [
              "<div>\n",
              "<style scoped>\n",
              "    .dataframe tbody tr th:only-of-type {\n",
              "        vertical-align: middle;\n",
              "    }\n",
              "\n",
              "    .dataframe tbody tr th {\n",
              "        vertical-align: top;\n",
              "    }\n",
              "\n",
              "    .dataframe thead th {\n",
              "        text-align: right;\n",
              "    }\n",
              "</style>\n",
              "<table border=\"1\" class=\"dataframe\">\n",
              "  <thead>\n",
              "    <tr style=\"text-align: right;\">\n",
              "      <th></th>\n",
              "      <th>0</th>\n",
              "      <th>1</th>\n",
              "      <th>accuracy</th>\n",
              "      <th>macro avg</th>\n",
              "      <th>weighted avg</th>\n",
              "    </tr>\n",
              "  </thead>\n",
              "  <tbody>\n",
              "    <tr>\n",
              "      <th>precision</th>\n",
              "      <td>0.613636</td>\n",
              "      <td>0.655172</td>\n",
              "      <td>0.623932</td>\n",
              "      <td>0.634404</td>\n",
              "      <td>0.632452</td>\n",
              "    </tr>\n",
              "    <tr>\n",
              "      <th>recall</th>\n",
              "      <td>0.843750</td>\n",
              "      <td>0.358491</td>\n",
              "      <td>0.623932</td>\n",
              "      <td>0.601120</td>\n",
              "      <td>0.623932</td>\n",
              "    </tr>\n",
              "    <tr>\n",
              "      <th>f1-score</th>\n",
              "      <td>0.710526</td>\n",
              "      <td>0.463415</td>\n",
              "      <td>0.623932</td>\n",
              "      <td>0.586970</td>\n",
              "      <td>0.598587</td>\n",
              "    </tr>\n",
              "    <tr>\n",
              "      <th>support</th>\n",
              "      <td>64.000000</td>\n",
              "      <td>53.000000</td>\n",
              "      <td>0.623932</td>\n",
              "      <td>117.000000</td>\n",
              "      <td>117.000000</td>\n",
              "    </tr>\n",
              "  </tbody>\n",
              "</table>\n",
              "</div>"
            ],
            "text/plain": [
              "                   0          1  accuracy   macro avg  weighted avg\n",
              "precision   0.613636   0.655172  0.623932    0.634404      0.632452\n",
              "recall      0.843750   0.358491  0.623932    0.601120      0.623932\n",
              "f1-score    0.710526   0.463415  0.623932    0.586970      0.598587\n",
              "support    64.000000  53.000000  0.623932  117.000000    117.000000"
            ]
          },
          "metadata": {},
          "execution_count": 24
        }
      ]
    },
    {
      "cell_type": "markdown",
      "metadata": {
        "id": "QrbQTjtaWUNP"
      },
      "source": [
        "Confusion matrix visualization function"
      ]
    },
    {
      "cell_type": "code",
      "metadata": {
        "id": "9vd5lOl0WTSG"
      },
      "source": [
        "def confusion_matrix_visual(y_true, y_pred, class_labels, normalize=False,\n",
        "                            flip=False, ax=None, title=None, **kwargs):\n",
        "    \"\"\"\n",
        "    Create a confusion matrix heatmap to evaluate classification.\n",
        "    Parameters:\n",
        "        - y_test: The true values for y\n",
        "        - preds: The predicted values for y\n",
        "        - class_labels: What to label the classes.\n",
        "        - normalize: Whether to plot the values as percentages.\n",
        "        - flip: Whether to flip the confusion matrix. This is helpful to get\n",
        "                TP in the top left corner and TN in the bottom right when dealing\n",
        "                with binary classification with labels True and False.\n",
        "        - ax: The matplotlib `Axes` object to plot on.\n",
        "        - title: The title for the confusion matrix\n",
        "        - kwargs: Additional keyword arguments for `seaborn.heatmap()`\n",
        "    Returns:\n",
        "        A matplotlib `Axes` object.\n",
        "    \"\"\"\n",
        "    mat = confusion_matrix(y_true, y_pred)\n",
        "    if normalize:\n",
        "        fmt, mat = '.2%', mat / mat.sum()\n",
        "    else:\n",
        "        fmt = 'd'\n",
        "\n",
        "    if flip:\n",
        "        class_labels = class_labels[::-1]\n",
        "        mat = np.flip(mat)\n",
        "\n",
        "    axes = sns.heatmap(\n",
        "        mat.T, square=True, annot=True, fmt=fmt,\n",
        "        cbar=True, cmap=plt.cm.Blues, ax=ax, **kwargs\n",
        "    )\n",
        "    axes.set(xlabel='Actual', ylabel='Model Prediction')\n",
        "    tick_marks = np.arange(len(class_labels)) + 0.5\n",
        "    axes.set_xticks(tick_marks)\n",
        "    axes.set_xticklabels(class_labels)\n",
        "    axes.set_yticks(tick_marks)\n",
        "    axes.set_yticklabels(class_labels, rotation=0)\n",
        "    axes.set_title(title or 'Confusion Matrix')\n",
        "    return axes"
      ],
      "execution_count": null,
      "outputs": []
    },
    {
      "cell_type": "code",
      "metadata": {
        "colab": {
          "base_uri": "https://localhost:8080/",
          "height": 295
        },
        "id": "513M1fs5VayU",
        "outputId": "cb06768f-3dd1-4b4f-d711-3d21882b3795"
      },
      "source": [
        "confusion_matrix_visual(y_test, tree_preds, ['No', \"Yes\"])\n",
        "plt.show()"
      ],
      "execution_count": null,
      "outputs": [
        {
          "output_type": "display_data",
          "data": {
            "image/png": "[encoded data removed]",
            "text/plain": [
              "<Figure size 432x288 with 2 Axes>"
            ]
          },
          "metadata": {
            "needs_background": "light"
          }
        }
      ]
    },
    {
      "cell_type": "markdown",
      "metadata": {
        "id": "Cr9ws7oYPKGR"
      },
      "source": [
        "**Logistic Regression model**"
      ]
    },
    {
      "cell_type": "code",
      "metadata": {
        "colab": {
          "base_uri": "https://localhost:8080/",
          "height": 189
        },
        "id": "xyoPOpmvPJpY",
        "outputId": "8cb171d3-57cc-4d5d-8d51-509ec66be7c1"
      },
      "source": [
        "from sklearn.linear_model import LogisticRegression\n",
        "from sklearn.pipeline import Pipeline\n",
        "from sklearn.preprocessing import StandardScaler\n",
        "from sklearn.metrics import confusion_matrix\n",
        "\n",
        "lr_model = Pipeline([\n",
        "                     ('scale', StandardScaler()),\n",
        "                     ('lr', LogisticRegression(\n",
        "                         class_weight='balanced', random_state=0\n",
        "                     ))\n",
        "])\n",
        "\n",
        "search_space = {\n",
        " 'lr__C': np.logspace(-1, 1, num=20),\n",
        " 'lr__fit_intercept': [True, False]\n",
        " }\n",
        "\n",
        "lr_grid = GridSearchCV(\n",
        "lr_model, search_space, scoring='precision_macro', cv=5\n",
        ").fit(X_train, y_train)\n",
        "print(lr_grid.best_params_)\n",
        "pd.DataFrame(classification_report(y_test, lr_grid.predict(X_test), output_dict=True))"
      ],
      "execution_count": null,
      "outputs": [
        {
          "output_type": "stream",
          "name": "stdout",
          "text": [
            "{'lr__C': 0.33598182862837817, 'lr__fit_intercept': True}\n"
          ]
        },
        {
          "output_type": "execute_result",
          "data": {
            "text/html": [
              "<div>\n",
              "<style scoped>\n",
              "    .dataframe tbody tr th:only-of-type {\n",
              "        vertical-align: middle;\n",
              "    }\n",
              "\n",
              "    .dataframe tbody tr th {\n",
              "        vertical-align: top;\n",
              "    }\n",
              "\n",
              "    .dataframe thead th {\n",
              "        text-align: right;\n",
              "    }\n",
              "</style>\n",
              "<table border=\"1\" class=\"dataframe\">\n",
              "  <thead>\n",
              "    <tr style=\"text-align: right;\">\n",
              "      <th></th>\n",
              "      <th>0</th>\n",
              "      <th>1</th>\n",
              "      <th>accuracy</th>\n",
              "      <th>macro avg</th>\n",
              "      <th>weighted avg</th>\n",
              "    </tr>\n",
              "  </thead>\n",
              "  <tbody>\n",
              "    <tr>\n",
              "      <th>precision</th>\n",
              "      <td>0.661538</td>\n",
              "      <td>0.596154</td>\n",
              "      <td>0.632479</td>\n",
              "      <td>0.628846</td>\n",
              "      <td>0.631920</td>\n",
              "    </tr>\n",
              "    <tr>\n",
              "      <th>recall</th>\n",
              "      <td>0.671875</td>\n",
              "      <td>0.584906</td>\n",
              "      <td>0.632479</td>\n",
              "      <td>0.628390</td>\n",
              "      <td>0.632479</td>\n",
              "    </tr>\n",
              "    <tr>\n",
              "      <th>f1-score</th>\n",
              "      <td>0.666667</td>\n",
              "      <td>0.590476</td>\n",
              "      <td>0.632479</td>\n",
              "      <td>0.628571</td>\n",
              "      <td>0.632153</td>\n",
              "    </tr>\n",
              "    <tr>\n",
              "      <th>support</th>\n",
              "      <td>64.000000</td>\n",
              "      <td>53.000000</td>\n",
              "      <td>0.632479</td>\n",
              "      <td>117.000000</td>\n",
              "      <td>117.000000</td>\n",
              "    </tr>\n",
              "  </tbody>\n",
              "</table>\n",
              "</div>"
            ],
            "text/plain": [
              "                   0          1  accuracy   macro avg  weighted avg\n",
              "precision   0.661538   0.596154  0.632479    0.628846      0.631920\n",
              "recall      0.671875   0.584906  0.632479    0.628390      0.632479\n",
              "f1-score    0.666667   0.590476  0.632479    0.628571      0.632153\n",
              "support    64.000000  53.000000  0.632479  117.000000    117.000000"
            ]
          },
          "metadata": {},
          "execution_count": 27
        }
      ]
    },
    {
      "cell_type": "code",
      "metadata": {
        "colab": {
          "base_uri": "https://localhost:8080/"
        },
        "id": "_IOyTgNuVARe",
        "outputId": "b6039d12-46a3-4ccd-8778-743ba5edefa0"
      },
      "source": [
        "lr_preds = lr_grid.predict(X_test)\n",
        "print(f'Test predictions {lr_preds.sum()} yes\\n')"
      ],
      "execution_count": null,
      "outputs": [
        {
          "output_type": "stream",
          "name": "stdout",
          "text": [
            "Test predictions 52 yes\n",
            "\n"
          ]
        }
      ]
    },
    {
      "cell_type": "code",
      "metadata": {
        "colab": {
          "base_uri": "https://localhost:8080/",
          "height": 295
        },
        "id": "Kp8nX2oPUWKc",
        "outputId": "08c16567-1fa1-4f17-a47a-89f4c6fe2db5"
      },
      "source": [
        "confusion_matrix_visual(y_test, lr_preds, ['No', \"Yes\"])\n",
        "plt.show()"
      ],
      "execution_count": null,
      "outputs": [
        {
          "output_type": "display_data",
          "data": {
            "image/png": "[encoded data removed]",
            "text/plain": [
              "<Figure size 432x288 with 2 Axes>"
            ]
          },
          "metadata": {
            "needs_background": "light"
          }
        }
      ]
    },
    {
      "cell_type": "markdown",
      "metadata": {
        "id": "gVSjI13dqI1J"
      },
      "source": [
        "The decision tree model performed better at classifying True positives. Since True positives are the variable we are most concerned with, we might consider the decision tree over the logistic regression model."
      ]
    },
    {
      "cell_type": "markdown",
      "metadata": {
        "id": "zwUtP6Ncg9se"
      },
      "source": [
        "**5. Prediction and Deployment of Decision Tree and Logistic regression**"
      ]
    },
    {
      "cell_type": "markdown",
      "metadata": {
        "id": "jGLjSgD_qn_r"
      },
      "source": [
        "We need to format the prediction dataset the same as our training set."
      ]
    },
    {
      "cell_type": "code",
      "metadata": {
        "colab": {
          "base_uri": "https://localhost:8080/",
          "height": 417
        },
        "id": "Kk8WLhblo7s9",
        "outputId": "0405df82-a728-47f9-ac0c-1ac732b489b9"
      },
      "source": [
        "loan_predict = pd.read_csv('loan_predict.csv')\n",
        "\n",
        "loan_predict = loan_predict.drop(columns=['id', 'response', 'income'])\n",
        "\n",
        "dummies = pd.get_dummies(loan_predict.select_dtypes(include=['object']), drop_first=True)\n",
        "\n",
        "numerical_data = loan_predict.drop(columns=loan_predict.select_dtypes(include=['object']))\n",
        "loan_predict = pd.concat([numerical_data, dummies], axis=1)\n",
        "loan_predict"
      ],
      "execution_count": null,
      "outputs": [
        {
          "output_type": "execute_result",
          "data": {
            "text/html": [
              "<div>\n",
              "<style scoped>\n",
              "    .dataframe tbody tr th:only-of-type {\n",
              "        vertical-align: middle;\n",
              "    }\n",
              "\n",
              "    .dataframe tbody tr th {\n",
              "        vertical-align: top;\n",
              "    }\n",
              "\n",
              "    .dataframe thead th {\n",
              "        text-align: right;\n",
              "    }\n",
              "</style>\n",
              "<table border=\"1\" class=\"dataframe\">\n",
              "  <thead>\n",
              "    <tr style=\"text-align: right;\">\n",
              "      <th></th>\n",
              "      <th>age</th>\n",
              "      <th>sex_MALE</th>\n",
              "      <th>region_RURAL</th>\n",
              "      <th>region_SUBURBAN</th>\n",
              "      <th>region_TOWN</th>\n",
              "      <th>married_YES</th>\n",
              "      <th>car_YES</th>\n",
              "      <th>save_act_YES</th>\n",
              "      <th>current_act_YES</th>\n",
              "      <th>mortgage_YES</th>\n",
              "    </tr>\n",
              "  </thead>\n",
              "  <tbody>\n",
              "    <tr>\n",
              "      <th>0</th>\n",
              "      <td>23</td>\n",
              "      <td>1</td>\n",
              "      <td>0</td>\n",
              "      <td>0</td>\n",
              "      <td>0</td>\n",
              "      <td>1</td>\n",
              "      <td>1</td>\n",
              "      <td>1</td>\n",
              "      <td>0</td>\n",
              "      <td>1</td>\n",
              "    </tr>\n",
              "    <tr>\n",
              "      <th>1</th>\n",
              "      <td>30</td>\n",
              "      <td>1</td>\n",
              "      <td>1</td>\n",
              "      <td>0</td>\n",
              "      <td>0</td>\n",
              "      <td>0</td>\n",
              "      <td>0</td>\n",
              "      <td>1</td>\n",
              "      <td>0</td>\n",
              "      <td>1</td>\n",
              "    </tr>\n",
              "    <tr>\n",
              "      <th>2</th>\n",
              "      <td>45</td>\n",
              "      <td>0</td>\n",
              "      <td>1</td>\n",
              "      <td>0</td>\n",
              "      <td>0</td>\n",
              "      <td>0</td>\n",
              "      <td>1</td>\n",
              "      <td>1</td>\n",
              "      <td>1</td>\n",
              "      <td>0</td>\n",
              "    </tr>\n",
              "    <tr>\n",
              "      <th>3</th>\n",
              "      <td>50</td>\n",
              "      <td>1</td>\n",
              "      <td>0</td>\n",
              "      <td>0</td>\n",
              "      <td>1</td>\n",
              "      <td>1</td>\n",
              "      <td>0</td>\n",
              "      <td>1</td>\n",
              "      <td>0</td>\n",
              "      <td>1</td>\n",
              "    </tr>\n",
              "    <tr>\n",
              "      <th>4</th>\n",
              "      <td>41</td>\n",
              "      <td>0</td>\n",
              "      <td>0</td>\n",
              "      <td>0</td>\n",
              "      <td>0</td>\n",
              "      <td>1</td>\n",
              "      <td>1</td>\n",
              "      <td>1</td>\n",
              "      <td>1</td>\n",
              "      <td>0</td>\n",
              "    </tr>\n",
              "    <tr>\n",
              "      <th>...</th>\n",
              "      <td>...</td>\n",
              "      <td>...</td>\n",
              "      <td>...</td>\n",
              "      <td>...</td>\n",
              "      <td>...</td>\n",
              "      <td>...</td>\n",
              "      <td>...</td>\n",
              "      <td>...</td>\n",
              "      <td>...</td>\n",
              "      <td>...</td>\n",
              "    </tr>\n",
              "    <tr>\n",
              "      <th>195</th>\n",
              "      <td>66</td>\n",
              "      <td>1</td>\n",
              "      <td>0</td>\n",
              "      <td>0</td>\n",
              "      <td>0</td>\n",
              "      <td>0</td>\n",
              "      <td>1</td>\n",
              "      <td>1</td>\n",
              "      <td>1</td>\n",
              "      <td>1</td>\n",
              "    </tr>\n",
              "    <tr>\n",
              "      <th>196</th>\n",
              "      <td>19</td>\n",
              "      <td>1</td>\n",
              "      <td>0</td>\n",
              "      <td>0</td>\n",
              "      <td>0</td>\n",
              "      <td>0</td>\n",
              "      <td>1</td>\n",
              "      <td>1</td>\n",
              "      <td>0</td>\n",
              "      <td>0</td>\n",
              "    </tr>\n",
              "    <tr>\n",
              "      <th>197</th>\n",
              "      <td>54</td>\n",
              "      <td>1</td>\n",
              "      <td>1</td>\n",
              "      <td>0</td>\n",
              "      <td>0</td>\n",
              "      <td>0</td>\n",
              "      <td>0</td>\n",
              "      <td>0</td>\n",
              "      <td>1</td>\n",
              "      <td>1</td>\n",
              "    </tr>\n",
              "    <tr>\n",
              "      <th>198</th>\n",
              "      <td>42</td>\n",
              "      <td>0</td>\n",
              "      <td>0</td>\n",
              "      <td>0</td>\n",
              "      <td>1</td>\n",
              "      <td>1</td>\n",
              "      <td>1</td>\n",
              "      <td>1</td>\n",
              "      <td>1</td>\n",
              "      <td>0</td>\n",
              "    </tr>\n",
              "    <tr>\n",
              "      <th>199</th>\n",
              "      <td>34</td>\n",
              "      <td>1</td>\n",
              "      <td>0</td>\n",
              "      <td>0</td>\n",
              "      <td>0</td>\n",
              "      <td>0</td>\n",
              "      <td>0</td>\n",
              "      <td>1</td>\n",
              "      <td>1</td>\n",
              "      <td>0</td>\n",
              "    </tr>\n",
              "  </tbody>\n",
              "</table>\n",
              "<p>200 rows × 10 columns</p>\n",
              "</div>"
            ],
            "text/plain": [
              "     age  sex_MALE  region_RURAL  ...  save_act_YES  current_act_YES  mortgage_YES\n",
              "0     23         1             0  ...             1                0             1\n",
              "1     30         1             1  ...             1                0             1\n",
              "2     45         0             1  ...             1                1             0\n",
              "3     50         1             0  ...             1                0             1\n",
              "4     41         0             0  ...             1                1             0\n",
              "..   ...       ...           ...  ...           ...              ...           ...\n",
              "195   66         1             0  ...             1                1             1\n",
              "196   19         1             0  ...             1                0             0\n",
              "197   54         1             1  ...             0                1             1\n",
              "198   42         0             0  ...             1                1             0\n",
              "199   34         1             0  ...             1                1             0\n",
              "\n",
              "[200 rows x 10 columns]"
            ]
          },
          "metadata": {},
          "execution_count": 30
        }
      ]
    },
    {
      "cell_type": "code",
      "metadata": {
        "id": "Feo0PHlJr77N"
      },
      "source": [
        "tree_predictions = tree_model.predict(loan_predict)\n",
        "lr_predictions = lr_grid.predict(loan_predict)"
      ],
      "execution_count": null,
      "outputs": []
    },
    {
      "cell_type": "code",
      "metadata": {
        "colab": {
          "base_uri": "https://localhost:8080/",
          "height": 437
        },
        "id": "g7MftFaj3dtM",
        "outputId": "d6ee4b5a-1d47-47f4-daba-93785365ccc4"
      },
      "source": [
        "proba_preds = pd.read_csv('loan_predict.csv').drop(columns=['response']).assign(tree_predicted=tree_predictions,\n",
        "                                                                             lr_predicted=lr_predictions)\n",
        "\n",
        "tree_proba = tree_model.predict_proba(loan_predict)\n",
        "lr_proba = lr_grid.predict_proba(loan_predict)\n",
        "\n",
        "proba_preds = pd.concat([proba_preds, pd.DataFrame(tree_proba)], axis=1).drop(columns=0).rename(columns={1:'tree_proba'})\n",
        "proba_preds = pd.concat([proba_preds, pd.DataFrame(lr_proba)], axis=1).drop(columns=0).rename(columns={1:'lr_proba'})\n",
        "proba_preds"
      ],
      "execution_count": null,
      "outputs": [
        {
          "output_type": "execute_result",
          "data": {
            "text/html": [
              "<div>\n",
              "<style scoped>\n",
              "    .dataframe tbody tr th:only-of-type {\n",
              "        vertical-align: middle;\n",
              "    }\n",
              "\n",
              "    .dataframe tbody tr th {\n",
              "        vertical-align: top;\n",
              "    }\n",
              "\n",
              "    .dataframe thead th {\n",
              "        text-align: right;\n",
              "    }\n",
              "</style>\n",
              "<table border=\"1\" class=\"dataframe\">\n",
              "  <thead>\n",
              "    <tr style=\"text-align: right;\">\n",
              "      <th></th>\n",
              "      <th>id</th>\n",
              "      <th>age</th>\n",
              "      <th>sex</th>\n",
              "      <th>region</th>\n",
              "      <th>income</th>\n",
              "      <th>married</th>\n",
              "      <th>car</th>\n",
              "      <th>save_act</th>\n",
              "      <th>current_act</th>\n",
              "      <th>mortgage</th>\n",
              "      <th>tree_predicted</th>\n",
              "      <th>lr_predicted</th>\n",
              "      <th>tree_proba</th>\n",
              "      <th>lr_proba</th>\n",
              "    </tr>\n",
              "  </thead>\n",
              "  <tbody>\n",
              "    <tr>\n",
              "      <th>0</th>\n",
              "      <td>ID12701</td>\n",
              "      <td>23</td>\n",
              "      <td>MALE</td>\n",
              "      <td>INNER_CITY</td>\n",
              "      <td>18766.90</td>\n",
              "      <td>YES</td>\n",
              "      <td>YES</td>\n",
              "      <td>YES</td>\n",
              "      <td>NO</td>\n",
              "      <td>YES</td>\n",
              "      <td>0</td>\n",
              "      <td>0</td>\n",
              "      <td>0.310559</td>\n",
              "      <td>0.276078</td>\n",
              "    </tr>\n",
              "    <tr>\n",
              "      <th>1</th>\n",
              "      <td>ID12702</td>\n",
              "      <td>30</td>\n",
              "      <td>MALE</td>\n",
              "      <td>RURAL</td>\n",
              "      <td>9915.67</td>\n",
              "      <td>NO</td>\n",
              "      <td>NO</td>\n",
              "      <td>YES</td>\n",
              "      <td>NO</td>\n",
              "      <td>YES</td>\n",
              "      <td>0</td>\n",
              "      <td>0</td>\n",
              "      <td>0.350877</td>\n",
              "      <td>0.494372</td>\n",
              "    </tr>\n",
              "    <tr>\n",
              "      <th>2</th>\n",
              "      <td>ID12703</td>\n",
              "      <td>45</td>\n",
              "      <td>FEMALE</td>\n",
              "      <td>RURAL</td>\n",
              "      <td>21881.60</td>\n",
              "      <td>NO</td>\n",
              "      <td>YES</td>\n",
              "      <td>YES</td>\n",
              "      <td>YES</td>\n",
              "      <td>NO</td>\n",
              "      <td>1</td>\n",
              "      <td>1</td>\n",
              "      <td>0.727273</td>\n",
              "      <td>0.627391</td>\n",
              "    </tr>\n",
              "    <tr>\n",
              "      <th>3</th>\n",
              "      <td>ID12704</td>\n",
              "      <td>50</td>\n",
              "      <td>MALE</td>\n",
              "      <td>TOWN</td>\n",
              "      <td>46794.40</td>\n",
              "      <td>YES</td>\n",
              "      <td>NO</td>\n",
              "      <td>YES</td>\n",
              "      <td>NO</td>\n",
              "      <td>YES</td>\n",
              "      <td>0</td>\n",
              "      <td>0</td>\n",
              "      <td>0.456376</td>\n",
              "      <td>0.395168</td>\n",
              "    </tr>\n",
              "    <tr>\n",
              "      <th>4</th>\n",
              "      <td>ID12705</td>\n",
              "      <td>41</td>\n",
              "      <td>FEMALE</td>\n",
              "      <td>INNER_CITY</td>\n",
              "      <td>20721.10</td>\n",
              "      <td>YES</td>\n",
              "      <td>YES</td>\n",
              "      <td>YES</td>\n",
              "      <td>YES</td>\n",
              "      <td>NO</td>\n",
              "      <td>0</td>\n",
              "      <td>0</td>\n",
              "      <td>0.310559</td>\n",
              "      <td>0.398504</td>\n",
              "    </tr>\n",
              "    <tr>\n",
              "      <th>...</th>\n",
              "      <td>...</td>\n",
              "      <td>...</td>\n",
              "      <td>...</td>\n",
              "      <td>...</td>\n",
              "      <td>...</td>\n",
              "      <td>...</td>\n",
              "      <td>...</td>\n",
              "      <td>...</td>\n",
              "      <td>...</td>\n",
              "      <td>...</td>\n",
              "      <td>...</td>\n",
              "      <td>...</td>\n",
              "      <td>...</td>\n",
              "      <td>...</td>\n",
              "    </tr>\n",
              "    <tr>\n",
              "      <th>195</th>\n",
              "      <td>ID12896</td>\n",
              "      <td>66</td>\n",
              "      <td>MALE</td>\n",
              "      <td>INNER_CITY</td>\n",
              "      <td>58792.60</td>\n",
              "      <td>NO</td>\n",
              "      <td>YES</td>\n",
              "      <td>YES</td>\n",
              "      <td>YES</td>\n",
              "      <td>YES</td>\n",
              "      <td>0</td>\n",
              "      <td>1</td>\n",
              "      <td>0.350877</td>\n",
              "      <td>0.757059</td>\n",
              "    </tr>\n",
              "    <tr>\n",
              "      <th>196</th>\n",
              "      <td>ID12897</td>\n",
              "      <td>19</td>\n",
              "      <td>MALE</td>\n",
              "      <td>INNER_CITY</td>\n",
              "      <td>17906.80</td>\n",
              "      <td>NO</td>\n",
              "      <td>YES</td>\n",
              "      <td>YES</td>\n",
              "      <td>NO</td>\n",
              "      <td>NO</td>\n",
              "      <td>1</td>\n",
              "      <td>0</td>\n",
              "      <td>0.727273</td>\n",
              "      <td>0.479672</td>\n",
              "    </tr>\n",
              "    <tr>\n",
              "      <th>197</th>\n",
              "      <td>ID12898</td>\n",
              "      <td>54</td>\n",
              "      <td>MALE</td>\n",
              "      <td>RURAL</td>\n",
              "      <td>29348.80</td>\n",
              "      <td>NO</td>\n",
              "      <td>NO</td>\n",
              "      <td>NO</td>\n",
              "      <td>YES</td>\n",
              "      <td>YES</td>\n",
              "      <td>0</td>\n",
              "      <td>1</td>\n",
              "      <td>0.350877</td>\n",
              "      <td>0.764587</td>\n",
              "    </tr>\n",
              "    <tr>\n",
              "      <th>198</th>\n",
              "      <td>ID12899</td>\n",
              "      <td>42</td>\n",
              "      <td>FEMALE</td>\n",
              "      <td>TOWN</td>\n",
              "      <td>20552.50</td>\n",
              "      <td>YES</td>\n",
              "      <td>YES</td>\n",
              "      <td>YES</td>\n",
              "      <td>YES</td>\n",
              "      <td>NO</td>\n",
              "      <td>0</td>\n",
              "      <td>0</td>\n",
              "      <td>0.456376</td>\n",
              "      <td>0.377730</td>\n",
              "    </tr>\n",
              "    <tr>\n",
              "      <th>199</th>\n",
              "      <td>ID12900</td>\n",
              "      <td>34</td>\n",
              "      <td>MALE</td>\n",
              "      <td>INNER_CITY</td>\n",
              "      <td>25843.10</td>\n",
              "      <td>NO</td>\n",
              "      <td>NO</td>\n",
              "      <td>YES</td>\n",
              "      <td>YES</td>\n",
              "      <td>NO</td>\n",
              "      <td>1</td>\n",
              "      <td>1</td>\n",
              "      <td>0.727273</td>\n",
              "      <td>0.593560</td>\n",
              "    </tr>\n",
              "  </tbody>\n",
              "</table>\n",
              "<p>200 rows × 14 columns</p>\n",
              "</div>"
            ],
            "text/plain": [
              "          id  age     sex  ... lr_predicted  tree_proba  lr_proba\n",
              "0    ID12701   23    MALE  ...            0    0.310559  0.276078\n",
              "1    ID12702   30    MALE  ...            0    0.350877  0.494372\n",
              "2    ID12703   45  FEMALE  ...            1    0.727273  0.627391\n",
              "3    ID12704   50    MALE  ...            0    0.456376  0.395168\n",
              "4    ID12705   41  FEMALE  ...            0    0.310559  0.398504\n",
              "..       ...  ...     ...  ...          ...         ...       ...\n",
              "195  ID12896   66    MALE  ...            1    0.350877  0.757059\n",
              "196  ID12897   19    MALE  ...            0    0.727273  0.479672\n",
              "197  ID12898   54    MALE  ...            1    0.350877  0.764587\n",
              "198  ID12899   42  FEMALE  ...            0    0.456376  0.377730\n",
              "199  ID12900   34    MALE  ...            1    0.727273  0.593560\n",
              "\n",
              "[200 rows x 14 columns]"
            ]
          },
          "metadata": {},
          "execution_count": 32
        }
      ]
    },
    {
      "cell_type": "markdown",
      "metadata": {
        "id": "Uc9tBRVlE3d5"
      },
      "source": [
        "Note: the .predict_proba() method returns the probabilities for each of our class variables."
      ]
    },
    {
      "cell_type": "markdown",
      "metadata": {
        "id": "l4zE5zd5BFIE"
      },
      "source": [
        "The largest probabilities for customers that the decision tree or logistic regression model classified as \"Yes\"."
      ]
    },
    {
      "cell_type": "markdown",
      "metadata": {
        "id": "B47bUeXFvejJ"
      },
      "source": [
        "**a.** Apply the two models to the prediction dataset"
      ]
    },
    {
      "cell_type": "code",
      "metadata": {
        "colab": {
          "base_uri": "https://localhost:8080/",
          "height": 685
        },
        "id": "G84D5KPeAKNV",
        "outputId": "d7b0340a-a30f-49f1-a42f-d4497e2022c6"
      },
      "source": [
        "proba_preds.query('tree_predicted > 0 | lr_predicted > 0').nlargest(20, 'lr_proba')"
      ],
      "execution_count": null,
      "outputs": [
        {
          "output_type": "execute_result",
          "data": {
            "text/html": [
              "<div>\n",
              "<style scoped>\n",
              "    .dataframe tbody tr th:only-of-type {\n",
              "        vertical-align: middle;\n",
              "    }\n",
              "\n",
              "    .dataframe tbody tr th {\n",
              "        vertical-align: top;\n",
              "    }\n",
              "\n",
              "    .dataframe thead th {\n",
              "        text-align: right;\n",
              "    }\n",
              "</style>\n",
              "<table border=\"1\" class=\"dataframe\">\n",
              "  <thead>\n",
              "    <tr style=\"text-align: right;\">\n",
              "      <th></th>\n",
              "      <th>id</th>\n",
              "      <th>age</th>\n",
              "      <th>sex</th>\n",
              "      <th>region</th>\n",
              "      <th>income</th>\n",
              "      <th>married</th>\n",
              "      <th>car</th>\n",
              "      <th>save_act</th>\n",
              "      <th>current_act</th>\n",
              "      <th>mortgage</th>\n",
              "      <th>tree_predicted</th>\n",
              "      <th>lr_predicted</th>\n",
              "      <th>tree_proba</th>\n",
              "      <th>lr_proba</th>\n",
              "    </tr>\n",
              "  </thead>\n",
              "  <tbody>\n",
              "    <tr>\n",
              "      <th>55</th>\n",
              "      <td>ID12756</td>\n",
              "      <td>58</td>\n",
              "      <td>MALE</td>\n",
              "      <td>SUBURBAN</td>\n",
              "      <td>37681.4</td>\n",
              "      <td>NO</td>\n",
              "      <td>YES</td>\n",
              "      <td>NO</td>\n",
              "      <td>YES</td>\n",
              "      <td>YES</td>\n",
              "      <td>0</td>\n",
              "      <td>1</td>\n",
              "      <td>0.350877</td>\n",
              "      <td>0.829650</td>\n",
              "    </tr>\n",
              "    <tr>\n",
              "      <th>77</th>\n",
              "      <td>ID12778</td>\n",
              "      <td>64</td>\n",
              "      <td>MALE</td>\n",
              "      <td>TOWN</td>\n",
              "      <td>29107.5</td>\n",
              "      <td>NO</td>\n",
              "      <td>YES</td>\n",
              "      <td>NO</td>\n",
              "      <td>YES</td>\n",
              "      <td>NO</td>\n",
              "      <td>1</td>\n",
              "      <td>1</td>\n",
              "      <td>0.727273</td>\n",
              "      <td>0.827536</td>\n",
              "    </tr>\n",
              "    <tr>\n",
              "      <th>45</th>\n",
              "      <td>ID12746</td>\n",
              "      <td>61</td>\n",
              "      <td>MALE</td>\n",
              "      <td>INNER_CITY</td>\n",
              "      <td>26527.9</td>\n",
              "      <td>NO</td>\n",
              "      <td>NO</td>\n",
              "      <td>NO</td>\n",
              "      <td>YES</td>\n",
              "      <td>NO</td>\n",
              "      <td>1</td>\n",
              "      <td>1</td>\n",
              "      <td>0.727273</td>\n",
              "      <td>0.822058</td>\n",
              "    </tr>\n",
              "    <tr>\n",
              "      <th>82</th>\n",
              "      <td>ID12783</td>\n",
              "      <td>67</td>\n",
              "      <td>MALE</td>\n",
              "      <td>INNER_CITY</td>\n",
              "      <td>35004.9</td>\n",
              "      <td>NO</td>\n",
              "      <td>NO</td>\n",
              "      <td>NO</td>\n",
              "      <td>YES</td>\n",
              "      <td>YES</td>\n",
              "      <td>0</td>\n",
              "      <td>1</td>\n",
              "      <td>0.350877</td>\n",
              "      <td>0.820382</td>\n",
              "    </tr>\n",
              "    <tr>\n",
              "      <th>113</th>\n",
              "      <td>ID12814</td>\n",
              "      <td>57</td>\n",
              "      <td>MALE</td>\n",
              "      <td>INNER_CITY</td>\n",
              "      <td>37548.0</td>\n",
              "      <td>NO</td>\n",
              "      <td>NO</td>\n",
              "      <td>NO</td>\n",
              "      <td>YES</td>\n",
              "      <td>NO</td>\n",
              "      <td>1</td>\n",
              "      <td>1</td>\n",
              "      <td>0.727273</td>\n",
              "      <td>0.805813</td>\n",
              "    </tr>\n",
              "    <tr>\n",
              "      <th>141</th>\n",
              "      <td>ID12842</td>\n",
              "      <td>66</td>\n",
              "      <td>MALE</td>\n",
              "      <td>SUBURBAN</td>\n",
              "      <td>21489.5</td>\n",
              "      <td>NO</td>\n",
              "      <td>NO</td>\n",
              "      <td>YES</td>\n",
              "      <td>YES</td>\n",
              "      <td>YES</td>\n",
              "      <td>0</td>\n",
              "      <td>1</td>\n",
              "      <td>0.350877</td>\n",
              "      <td>0.785637</td>\n",
              "    </tr>\n",
              "    <tr>\n",
              "      <th>96</th>\n",
              "      <td>ID12797</td>\n",
              "      <td>65</td>\n",
              "      <td>FEMALE</td>\n",
              "      <td>SUBURBAN</td>\n",
              "      <td>47289.2</td>\n",
              "      <td>NO</td>\n",
              "      <td>YES</td>\n",
              "      <td>YES</td>\n",
              "      <td>YES</td>\n",
              "      <td>NO</td>\n",
              "      <td>1</td>\n",
              "      <td>1</td>\n",
              "      <td>0.727273</td>\n",
              "      <td>0.783086</td>\n",
              "    </tr>\n",
              "    <tr>\n",
              "      <th>110</th>\n",
              "      <td>ID12811</td>\n",
              "      <td>67</td>\n",
              "      <td>MALE</td>\n",
              "      <td>INNER_CITY</td>\n",
              "      <td>39137.0</td>\n",
              "      <td>NO</td>\n",
              "      <td>YES</td>\n",
              "      <td>YES</td>\n",
              "      <td>NO</td>\n",
              "      <td>NO</td>\n",
              "      <td>1</td>\n",
              "      <td>1</td>\n",
              "      <td>0.727273</td>\n",
              "      <td>0.769681</td>\n",
              "    </tr>\n",
              "    <tr>\n",
              "      <th>40</th>\n",
              "      <td>ID12741</td>\n",
              "      <td>44</td>\n",
              "      <td>MALE</td>\n",
              "      <td>SUBURBAN</td>\n",
              "      <td>26553.5</td>\n",
              "      <td>NO</td>\n",
              "      <td>NO</td>\n",
              "      <td>NO</td>\n",
              "      <td>NO</td>\n",
              "      <td>NO</td>\n",
              "      <td>1</td>\n",
              "      <td>1</td>\n",
              "      <td>0.727273</td>\n",
              "      <td>0.764738</td>\n",
              "    </tr>\n",
              "    <tr>\n",
              "      <th>197</th>\n",
              "      <td>ID12898</td>\n",
              "      <td>54</td>\n",
              "      <td>MALE</td>\n",
              "      <td>RURAL</td>\n",
              "      <td>29348.8</td>\n",
              "      <td>NO</td>\n",
              "      <td>NO</td>\n",
              "      <td>NO</td>\n",
              "      <td>YES</td>\n",
              "      <td>YES</td>\n",
              "      <td>0</td>\n",
              "      <td>1</td>\n",
              "      <td>0.350877</td>\n",
              "      <td>0.764587</td>\n",
              "    </tr>\n",
              "    <tr>\n",
              "      <th>116</th>\n",
              "      <td>ID12817</td>\n",
              "      <td>47</td>\n",
              "      <td>MALE</td>\n",
              "      <td>INNER_CITY</td>\n",
              "      <td>36766.0</td>\n",
              "      <td>NO</td>\n",
              "      <td>NO</td>\n",
              "      <td>NO</td>\n",
              "      <td>YES</td>\n",
              "      <td>NO</td>\n",
              "      <td>1</td>\n",
              "      <td>1</td>\n",
              "      <td>0.727273</td>\n",
              "      <td>0.760373</td>\n",
              "    </tr>\n",
              "    <tr>\n",
              "      <th>195</th>\n",
              "      <td>ID12896</td>\n",
              "      <td>66</td>\n",
              "      <td>MALE</td>\n",
              "      <td>INNER_CITY</td>\n",
              "      <td>58792.6</td>\n",
              "      <td>NO</td>\n",
              "      <td>YES</td>\n",
              "      <td>YES</td>\n",
              "      <td>YES</td>\n",
              "      <td>YES</td>\n",
              "      <td>0</td>\n",
              "      <td>1</td>\n",
              "      <td>0.350877</td>\n",
              "      <td>0.757059</td>\n",
              "    </tr>\n",
              "    <tr>\n",
              "      <th>58</th>\n",
              "      <td>ID12759</td>\n",
              "      <td>54</td>\n",
              "      <td>FEMALE</td>\n",
              "      <td>INNER_CITY</td>\n",
              "      <td>27775.7</td>\n",
              "      <td>NO</td>\n",
              "      <td>NO</td>\n",
              "      <td>NO</td>\n",
              "      <td>YES</td>\n",
              "      <td>NO</td>\n",
              "      <td>1</td>\n",
              "      <td>1</td>\n",
              "      <td>0.727273</td>\n",
              "      <td>0.752155</td>\n",
              "    </tr>\n",
              "    <tr>\n",
              "      <th>107</th>\n",
              "      <td>ID12808</td>\n",
              "      <td>58</td>\n",
              "      <td>FEMALE</td>\n",
              "      <td>SUBURBAN</td>\n",
              "      <td>40491.4</td>\n",
              "      <td>NO</td>\n",
              "      <td>YES</td>\n",
              "      <td>YES</td>\n",
              "      <td>YES</td>\n",
              "      <td>NO</td>\n",
              "      <td>1</td>\n",
              "      <td>1</td>\n",
              "      <td>0.727273</td>\n",
              "      <td>0.749496</td>\n",
              "    </tr>\n",
              "    <tr>\n",
              "      <th>103</th>\n",
              "      <td>ID12804</td>\n",
              "      <td>60</td>\n",
              "      <td>MALE</td>\n",
              "      <td>INNER_CITY</td>\n",
              "      <td>19849.0</td>\n",
              "      <td>NO</td>\n",
              "      <td>NO</td>\n",
              "      <td>YES</td>\n",
              "      <td>YES</td>\n",
              "      <td>NO</td>\n",
              "      <td>1</td>\n",
              "      <td>1</td>\n",
              "      <td>0.727273</td>\n",
              "      <td>0.745793</td>\n",
              "    </tr>\n",
              "    <tr>\n",
              "      <th>78</th>\n",
              "      <td>ID12779</td>\n",
              "      <td>57</td>\n",
              "      <td>MALE</td>\n",
              "      <td>INNER_CITY</td>\n",
              "      <td>39576.3</td>\n",
              "      <td>NO</td>\n",
              "      <td>YES</td>\n",
              "      <td>YES</td>\n",
              "      <td>YES</td>\n",
              "      <td>NO</td>\n",
              "      <td>1</td>\n",
              "      <td>1</td>\n",
              "      <td>0.727273</td>\n",
              "      <td>0.744131</td>\n",
              "    </tr>\n",
              "    <tr>\n",
              "      <th>123</th>\n",
              "      <td>ID12824</td>\n",
              "      <td>65</td>\n",
              "      <td>FEMALE</td>\n",
              "      <td>TOWN</td>\n",
              "      <td>23904.0</td>\n",
              "      <td>NO</td>\n",
              "      <td>YES</td>\n",
              "      <td>NO</td>\n",
              "      <td>NO</td>\n",
              "      <td>YES</td>\n",
              "      <td>0</td>\n",
              "      <td>1</td>\n",
              "      <td>0.350877</td>\n",
              "      <td>0.742872</td>\n",
              "    </tr>\n",
              "    <tr>\n",
              "      <th>175</th>\n",
              "      <td>ID12876</td>\n",
              "      <td>47</td>\n",
              "      <td>MALE</td>\n",
              "      <td>TOWN</td>\n",
              "      <td>15237.0</td>\n",
              "      <td>NO</td>\n",
              "      <td>YES</td>\n",
              "      <td>NO</td>\n",
              "      <td>NO</td>\n",
              "      <td>NO</td>\n",
              "      <td>1</td>\n",
              "      <td>1</td>\n",
              "      <td>0.727273</td>\n",
              "      <td>0.727664</td>\n",
              "    </tr>\n",
              "    <tr>\n",
              "      <th>46</th>\n",
              "      <td>ID12747</td>\n",
              "      <td>65</td>\n",
              "      <td>FEMALE</td>\n",
              "      <td>INNER_CITY</td>\n",
              "      <td>58002.2</td>\n",
              "      <td>NO</td>\n",
              "      <td>NO</td>\n",
              "      <td>YES</td>\n",
              "      <td>YES</td>\n",
              "      <td>NO</td>\n",
              "      <td>1</td>\n",
              "      <td>1</td>\n",
              "      <td>0.727273</td>\n",
              "      <td>0.726721</td>\n",
              "    </tr>\n",
              "    <tr>\n",
              "      <th>152</th>\n",
              "      <td>ID12853</td>\n",
              "      <td>56</td>\n",
              "      <td>FEMALE</td>\n",
              "      <td>SUBURBAN</td>\n",
              "      <td>48758.6</td>\n",
              "      <td>NO</td>\n",
              "      <td>NO</td>\n",
              "      <td>YES</td>\n",
              "      <td>YES</td>\n",
              "      <td>NO</td>\n",
              "      <td>1</td>\n",
              "      <td>1</td>\n",
              "      <td>0.727273</td>\n",
              "      <td>0.725223</td>\n",
              "    </tr>\n",
              "  </tbody>\n",
              "</table>\n",
              "</div>"
            ],
            "text/plain": [
              "          id  age     sex  ... lr_predicted  tree_proba  lr_proba\n",
              "55   ID12756   58    MALE  ...            1    0.350877  0.829650\n",
              "77   ID12778   64    MALE  ...            1    0.727273  0.827536\n",
              "45   ID12746   61    MALE  ...            1    0.727273  0.822058\n",
              "82   ID12783   67    MALE  ...            1    0.350877  0.820382\n",
              "113  ID12814   57    MALE  ...            1    0.727273  0.805813\n",
              "141  ID12842   66    MALE  ...            1    0.350877  0.785637\n",
              "96   ID12797   65  FEMALE  ...            1    0.727273  0.783086\n",
              "110  ID12811   67    MALE  ...            1    0.727273  0.769681\n",
              "40   ID12741   44    MALE  ...            1    0.727273  0.764738\n",
              "197  ID12898   54    MALE  ...            1    0.350877  0.764587\n",
              "116  ID12817   47    MALE  ...            1    0.727273  0.760373\n",
              "195  ID12896   66    MALE  ...            1    0.350877  0.757059\n",
              "58   ID12759   54  FEMALE  ...            1    0.727273  0.752155\n",
              "107  ID12808   58  FEMALE  ...            1    0.727273  0.749496\n",
              "103  ID12804   60    MALE  ...            1    0.727273  0.745793\n",
              "78   ID12779   57    MALE  ...            1    0.727273  0.744131\n",
              "123  ID12824   65  FEMALE  ...            1    0.350877  0.742872\n",
              "175  ID12876   47    MALE  ...            1    0.727273  0.727664\n",
              "46   ID12747   65  FEMALE  ...            1    0.727273  0.726721\n",
              "152  ID12853   56  FEMALE  ...            1    0.727273  0.725223\n",
              "\n",
              "[20 rows x 14 columns]"
            ]
          },
          "metadata": {},
          "execution_count": 33
        }
      ]
    },
    {
      "cell_type": "markdown",
      "metadata": {
        "id": "M_uXKkrMvyQo"
      },
      "source": [
        "**b**. Please compute how many customers are predicted to Yes by each model"
      ]
    },
    {
      "cell_type": "code",
      "metadata": {
        "colab": {
          "base_uri": "https://localhost:8080/"
        },
        "id": "tuKPzkX3v3Cz",
        "outputId": "5836e1ed-dff0-4845-b640-68ff893ee2f8"
      },
      "source": [
        "sum(proba_preds.tree_predicted > 0)"
      ],
      "execution_count": null,
      "outputs": [
        {
          "output_type": "execute_result",
          "data": {
            "text/plain": [
              "57"
            ]
          },
          "metadata": {},
          "execution_count": 34
        }
      ]
    },
    {
      "cell_type": "code",
      "metadata": {
        "colab": {
          "base_uri": "https://localhost:8080/"
        },
        "id": "4HEJJJQ1wOxq",
        "outputId": "a553d3cc-cdb1-4da6-e65c-47bb58d2934b"
      },
      "source": [
        "sum(proba_preds.lr_predicted > 0)"
      ],
      "execution_count": null,
      "outputs": [
        {
          "output_type": "execute_result",
          "data": {
            "text/plain": [
              "103"
            ]
          },
          "metadata": {},
          "execution_count": 35
        }
      ]
    },
    {
      "cell_type": "markdown",
      "metadata": {
        "id": "3MK7e5BuwWpa"
      },
      "source": [
        "**c**. Compare the prediction results by the two models. Are they the same?"
      ]
    },
    {
      "cell_type": "code",
      "metadata": {
        "colab": {
          "base_uri": "https://localhost:8080/"
        },
        "id": "cXg-DM1mwWCr",
        "outputId": "6d70309a-fd24-4783-c4d4-c736bbecd991"
      },
      "source": [
        "proba_preds.query('tree_predicted > 0 and lr_predicted > 0').shape[0]"
      ],
      "execution_count": null,
      "outputs": [
        {
          "output_type": "execute_result",
          "data": {
            "text/plain": [
              "52"
            ]
          },
          "metadata": {},
          "execution_count": 36
        }
      ]
    },
    {
      "cell_type": "markdown",
      "metadata": {
        "id": "BxXJynW509Bt"
      },
      "source": [
        "The two models share 52 ``Yes`` predictons in common."
      ]
    },
    {
      "cell_type": "code",
      "metadata": {
        "colab": {
          "base_uri": "https://localhost:8080/"
        },
        "id": "1Ff4TNXo0oeH",
        "outputId": "cd794762-06d6-4794-d8c8-48f4529517b3"
      },
      "source": [
        "proba_preds.query('tree_predicted == 0 | lr_predicted == 0').shape[0]"
      ],
      "execution_count": null,
      "outputs": [
        {
          "output_type": "execute_result",
          "data": {
            "text/plain": [
              "148"
            ]
          },
          "metadata": {},
          "execution_count": 37
        }
      ]
    },
    {
      "cell_type": "markdown",
      "metadata": {
        "id": "kZXE_hVi0Zot"
      },
      "source": [
        "They also share 148 ``No`` predictions in common."
      ]
    },
    {
      "cell_type": "code",
      "metadata": {
        "colab": {
          "base_uri": "https://localhost:8080/"
        },
        "id": "WdfM3vQC1GR1",
        "outputId": "0e052aae-e02a-47f9-c165-a75ba7e91dc5"
      },
      "source": [
        "proba_preds.query('tree_predicted == 0 and lr_predicted > 0').shape[0]"
      ],
      "execution_count": null,
      "outputs": [
        {
          "output_type": "execute_result",
          "data": {
            "text/plain": [
              "51"
            ]
          },
          "metadata": {},
          "execution_count": 38
        }
      ]
    },
    {
      "cell_type": "markdown",
      "metadata": {
        "id": "vxlaLesh1zRM"
      },
      "source": [
        "The tree model does not seem to agree with 51 of the ``Yes`` classifications of the regression model."
      ]
    },
    {
      "cell_type": "code",
      "metadata": {
        "colab": {
          "base_uri": "https://localhost:8080/"
        },
        "id": "L3s9mH-41bOl",
        "outputId": "1bfba3ff-8c1e-4852-cc9a-a98e619f3d53"
      },
      "source": [
        "proba_preds.query('tree_predicted > 0 and lr_predicted == 0').shape[0]"
      ],
      "execution_count": null,
      "outputs": [
        {
          "output_type": "execute_result",
          "data": {
            "text/plain": [
              "5"
            ]
          },
          "metadata": {},
          "execution_count": 39
        }
      ]
    },
    {
      "cell_type": "markdown",
      "metadata": {
        "id": "PA1BcB8r1mkQ"
      },
      "source": [
        "The logistic regression model does not seem to disagree with the tree model in clasifying ``Yes``."
      ]
    },
    {
      "cell_type": "markdown",
      "metadata": {
        "id": "rJYu08VM2JN5"
      },
      "source": [
        "**d**. Identify the top 20 customers by listing their ID and then compute the maximum expected return for each model."
      ]
    },
    {
      "cell_type": "markdown",
      "metadata": {
        "id": "1OAGIZE73X6G"
      },
      "source": [
        "```\n",
        "$10,000 if the person lives in INNER_CITY\n",
        "$9,000 if the person lives in SUBURBAN\n",
        "$7,200 if the person lives in TOWN\n",
        "$4,800 if the person lives in RURAL\n",
        "```"
      ]
    },
    {
      "cell_type": "code",
      "metadata": {
        "colab": {
          "base_uri": "https://localhost:8080/",
          "height": 437
        },
        "id": "ZV8VcDSZ2Ia3",
        "outputId": "c333d852-b722-42a0-9729-35145b32c52d"
      },
      "source": [
        "conditions = [proba_preds.region == 'INNER_CITY', proba_preds.region == 'RURAL',\\\n",
        "              proba_preds.region == 'TOWN', proba_preds.region == 'SUBURBAN']\n",
        "\n",
        "choices = [10000, 4800, 7200, 9000]\n",
        "\n",
        "proba_preds['benefits'] = np.select(conditions, choices)\n",
        "proba_preds"
      ],
      "execution_count": null,
      "outputs": [
        {
          "output_type": "execute_result",
          "data": {
            "text/html": [
              "<div>\n",
              "<style scoped>\n",
              "    .dataframe tbody tr th:only-of-type {\n",
              "        vertical-align: middle;\n",
              "    }\n",
              "\n",
              "    .dataframe tbody tr th {\n",
              "        vertical-align: top;\n",
              "    }\n",
              "\n",
              "    .dataframe thead th {\n",
              "        text-align: right;\n",
              "    }\n",
              "</style>\n",
              "<table border=\"1\" class=\"dataframe\">\n",
              "  <thead>\n",
              "    <tr style=\"text-align: right;\">\n",
              "      <th></th>\n",
              "      <th>id</th>\n",
              "      <th>age</th>\n",
              "      <th>sex</th>\n",
              "      <th>region</th>\n",
              "      <th>income</th>\n",
              "      <th>married</th>\n",
              "      <th>car</th>\n",
              "      <th>save_act</th>\n",
              "      <th>current_act</th>\n",
              "      <th>mortgage</th>\n",
              "      <th>tree_predicted</th>\n",
              "      <th>lr_predicted</th>\n",
              "      <th>tree_proba</th>\n",
              "      <th>lr_proba</th>\n",
              "      <th>benefits</th>\n",
              "    </tr>\n",
              "  </thead>\n",
              "  <tbody>\n",
              "    <tr>\n",
              "      <th>0</th>\n",
              "      <td>ID12701</td>\n",
              "      <td>23</td>\n",
              "      <td>MALE</td>\n",
              "      <td>INNER_CITY</td>\n",
              "      <td>18766.90</td>\n",
              "      <td>YES</td>\n",
              "      <td>YES</td>\n",
              "      <td>YES</td>\n",
              "      <td>NO</td>\n",
              "      <td>YES</td>\n",
              "      <td>0</td>\n",
              "      <td>0</td>\n",
              "      <td>0.310559</td>\n",
              "      <td>0.276078</td>\n",
              "      <td>10000</td>\n",
              "    </tr>\n",
              "    <tr>\n",
              "      <th>1</th>\n",
              "      <td>ID12702</td>\n",
              "      <td>30</td>\n",
              "      <td>MALE</td>\n",
              "      <td>RURAL</td>\n",
              "      <td>9915.67</td>\n",
              "      <td>NO</td>\n",
              "      <td>NO</td>\n",
              "      <td>YES</td>\n",
              "      <td>NO</td>\n",
              "      <td>YES</td>\n",
              "      <td>0</td>\n",
              "      <td>0</td>\n",
              "      <td>0.350877</td>\n",
              "      <td>0.494372</td>\n",
              "      <td>4800</td>\n",
              "    </tr>\n",
              "    <tr>\n",
              "      <th>2</th>\n",
              "      <td>ID12703</td>\n",
              "      <td>45</td>\n",
              "      <td>FEMALE</td>\n",
              "      <td>RURAL</td>\n",
              "      <td>21881.60</td>\n",
              "      <td>NO</td>\n",
              "      <td>YES</td>\n",
              "      <td>YES</td>\n",
              "      <td>YES</td>\n",
              "      <td>NO</td>\n",
              "      <td>1</td>\n",
              "      <td>1</td>\n",
              "      <td>0.727273</td>\n",
              "      <td>0.627391</td>\n",
              "      <td>4800</td>\n",
              "    </tr>\n",
              "    <tr>\n",
              "      <th>3</th>\n",
              "      <td>ID12704</td>\n",
              "      <td>50</td>\n",
              "      <td>MALE</td>\n",
              "      <td>TOWN</td>\n",
              "      <td>46794.40</td>\n",
              "      <td>YES</td>\n",
              "      <td>NO</td>\n",
              "      <td>YES</td>\n",
              "      <td>NO</td>\n",
              "      <td>YES</td>\n",
              "      <td>0</td>\n",
              "      <td>0</td>\n",
              "      <td>0.456376</td>\n",
              "      <td>0.395168</td>\n",
              "      <td>7200</td>\n",
              "    </tr>\n",
              "    <tr>\n",
              "      <th>4</th>\n",
              "      <td>ID12705</td>\n",
              "      <td>41</td>\n",
              "      <td>FEMALE</td>\n",
              "      <td>INNER_CITY</td>\n",
              "      <td>20721.10</td>\n",
              "      <td>YES</td>\n",
              "      <td>YES</td>\n",
              "      <td>YES</td>\n",
              "      <td>YES</td>\n",
              "      <td>NO</td>\n",
              "      <td>0</td>\n",
              "      <td>0</td>\n",
              "      <td>0.310559</td>\n",
              "      <td>0.398504</td>\n",
              "      <td>10000</td>\n",
              "    </tr>\n",
              "    <tr>\n",
              "      <th>...</th>\n",
              "      <td>...</td>\n",
              "      <td>...</td>\n",
              "      <td>...</td>\n",
              "      <td>...</td>\n",
              "      <td>...</td>\n",
              "      <td>...</td>\n",
              "      <td>...</td>\n",
              "      <td>...</td>\n",
              "      <td>...</td>\n",
              "      <td>...</td>\n",
              "      <td>...</td>\n",
              "      <td>...</td>\n",
              "      <td>...</td>\n",
              "      <td>...</td>\n",
              "      <td>...</td>\n",
              "    </tr>\n",
              "    <tr>\n",
              "      <th>195</th>\n",
              "      <td>ID12896</td>\n",
              "      <td>66</td>\n",
              "      <td>MALE</td>\n",
              "      <td>INNER_CITY</td>\n",
              "      <td>58792.60</td>\n",
              "      <td>NO</td>\n",
              "      <td>YES</td>\n",
              "      <td>YES</td>\n",
              "      <td>YES</td>\n",
              "      <td>YES</td>\n",
              "      <td>0</td>\n",
              "      <td>1</td>\n",
              "      <td>0.350877</td>\n",
              "      <td>0.757059</td>\n",
              "      <td>10000</td>\n",
              "    </tr>\n",
              "    <tr>\n",
              "      <th>196</th>\n",
              "      <td>ID12897</td>\n",
              "      <td>19</td>\n",
              "      <td>MALE</td>\n",
              "      <td>INNER_CITY</td>\n",
              "      <td>17906.80</td>\n",
              "      <td>NO</td>\n",
              "      <td>YES</td>\n",
              "      <td>YES</td>\n",
              "      <td>NO</td>\n",
              "      <td>NO</td>\n",
              "      <td>1</td>\n",
              "      <td>0</td>\n",
              "      <td>0.727273</td>\n",
              "      <td>0.479672</td>\n",
              "      <td>10000</td>\n",
              "    </tr>\n",
              "    <tr>\n",
              "      <th>197</th>\n",
              "      <td>ID12898</td>\n",
              "      <td>54</td>\n",
              "      <td>MALE</td>\n",
              "      <td>RURAL</td>\n",
              "      <td>29348.80</td>\n",
              "      <td>NO</td>\n",
              "      <td>NO</td>\n",
              "      <td>NO</td>\n",
              "      <td>YES</td>\n",
              "      <td>YES</td>\n",
              "      <td>0</td>\n",
              "      <td>1</td>\n",
              "      <td>0.350877</td>\n",
              "      <td>0.764587</td>\n",
              "      <td>4800</td>\n",
              "    </tr>\n",
              "    <tr>\n",
              "      <th>198</th>\n",
              "      <td>ID12899</td>\n",
              "      <td>42</td>\n",
              "      <td>FEMALE</td>\n",
              "      <td>TOWN</td>\n",
              "      <td>20552.50</td>\n",
              "      <td>YES</td>\n",
              "      <td>YES</td>\n",
              "      <td>YES</td>\n",
              "      <td>YES</td>\n",
              "      <td>NO</td>\n",
              "      <td>0</td>\n",
              "      <td>0</td>\n",
              "      <td>0.456376</td>\n",
              "      <td>0.377730</td>\n",
              "      <td>7200</td>\n",
              "    </tr>\n",
              "    <tr>\n",
              "      <th>199</th>\n",
              "      <td>ID12900</td>\n",
              "      <td>34</td>\n",
              "      <td>MALE</td>\n",
              "      <td>INNER_CITY</td>\n",
              "      <td>25843.10</td>\n",
              "      <td>NO</td>\n",
              "      <td>NO</td>\n",
              "      <td>YES</td>\n",
              "      <td>YES</td>\n",
              "      <td>NO</td>\n",
              "      <td>1</td>\n",
              "      <td>1</td>\n",
              "      <td>0.727273</td>\n",
              "      <td>0.593560</td>\n",
              "      <td>10000</td>\n",
              "    </tr>\n",
              "  </tbody>\n",
              "</table>\n",
              "<p>200 rows × 15 columns</p>\n",
              "</div>"
            ],
            "text/plain": [
              "          id  age     sex  ... tree_proba  lr_proba benefits\n",
              "0    ID12701   23    MALE  ...   0.310559  0.276078    10000\n",
              "1    ID12702   30    MALE  ...   0.350877  0.494372     4800\n",
              "2    ID12703   45  FEMALE  ...   0.727273  0.627391     4800\n",
              "3    ID12704   50    MALE  ...   0.456376  0.395168     7200\n",
              "4    ID12705   41  FEMALE  ...   0.310559  0.398504    10000\n",
              "..       ...  ...     ...  ...        ...       ...      ...\n",
              "195  ID12896   66    MALE  ...   0.350877  0.757059    10000\n",
              "196  ID12897   19    MALE  ...   0.727273  0.479672    10000\n",
              "197  ID12898   54    MALE  ...   0.350877  0.764587     4800\n",
              "198  ID12899   42  FEMALE  ...   0.456376  0.377730     7200\n",
              "199  ID12900   34    MALE  ...   0.727273  0.593560    10000\n",
              "\n",
              "[200 rows x 15 columns]"
            ]
          },
          "metadata": {},
          "execution_count": 40
        }
      ]
    },
    {
      "cell_type": "code",
      "metadata": {
        "colab": {
          "base_uri": "https://localhost:8080/",
          "height": 437
        },
        "id": "yupHifqG57VG",
        "outputId": "45082f11-e5f3-48b5-9cc6-95c751cb8ae4"
      },
      "source": [
        "proba_preds = proba_preds.assign(tree_expected = proba_preds.benefits * proba_preds.tree_proba)\n",
        "proba_preds = proba_preds.assign(lr_expected= proba_preds.benefits * proba_preds.lr_proba)\n",
        "proba_preds"
      ],
      "execution_count": null,
      "outputs": [
        {
          "output_type": "execute_result",
          "data": {
            "text/html": [
              "<div>\n",
              "<style scoped>\n",
              "    .dataframe tbody tr th:only-of-type {\n",
              "        vertical-align: middle;\n",
              "    }\n",
              "\n",
              "    .dataframe tbody tr th {\n",
              "        vertical-align: top;\n",
              "    }\n",
              "\n",
              "    .dataframe thead th {\n",
              "        text-align: right;\n",
              "    }\n",
              "</style>\n",
              "<table border=\"1\" class=\"dataframe\">\n",
              "  <thead>\n",
              "    <tr style=\"text-align: right;\">\n",
              "      <th></th>\n",
              "      <th>id</th>\n",
              "      <th>age</th>\n",
              "      <th>sex</th>\n",
              "      <th>region</th>\n",
              "      <th>income</th>\n",
              "      <th>married</th>\n",
              "      <th>car</th>\n",
              "      <th>save_act</th>\n",
              "      <th>current_act</th>\n",
              "      <th>mortgage</th>\n",
              "      <th>tree_predicted</th>\n",
              "      <th>lr_predicted</th>\n",
              "      <th>tree_proba</th>\n",
              "      <th>lr_proba</th>\n",
              "      <th>benefits</th>\n",
              "      <th>tree_expected</th>\n",
              "      <th>lr_expected</th>\n",
              "    </tr>\n",
              "  </thead>\n",
              "  <tbody>\n",
              "    <tr>\n",
              "      <th>0</th>\n",
              "      <td>ID12701</td>\n",
              "      <td>23</td>\n",
              "      <td>MALE</td>\n",
              "      <td>INNER_CITY</td>\n",
              "      <td>18766.90</td>\n",
              "      <td>YES</td>\n",
              "      <td>YES</td>\n",
              "      <td>YES</td>\n",
              "      <td>NO</td>\n",
              "      <td>YES</td>\n",
              "      <td>0</td>\n",
              "      <td>0</td>\n",
              "      <td>0.310559</td>\n",
              "      <td>0.276078</td>\n",
              "      <td>10000</td>\n",
              "      <td>3105.590062</td>\n",
              "      <td>2760.780801</td>\n",
              "    </tr>\n",
              "    <tr>\n",
              "      <th>1</th>\n",
              "      <td>ID12702</td>\n",
              "      <td>30</td>\n",
              "      <td>MALE</td>\n",
              "      <td>RURAL</td>\n",
              "      <td>9915.67</td>\n",
              "      <td>NO</td>\n",
              "      <td>NO</td>\n",
              "      <td>YES</td>\n",
              "      <td>NO</td>\n",
              "      <td>YES</td>\n",
              "      <td>0</td>\n",
              "      <td>0</td>\n",
              "      <td>0.350877</td>\n",
              "      <td>0.494372</td>\n",
              "      <td>4800</td>\n",
              "      <td>1684.210526</td>\n",
              "      <td>2372.987646</td>\n",
              "    </tr>\n",
              "    <tr>\n",
              "      <th>2</th>\n",
              "      <td>ID12703</td>\n",
              "      <td>45</td>\n",
              "      <td>FEMALE</td>\n",
              "      <td>RURAL</td>\n",
              "      <td>21881.60</td>\n",
              "      <td>NO</td>\n",
              "      <td>YES</td>\n",
              "      <td>YES</td>\n",
              "      <td>YES</td>\n",
              "      <td>NO</td>\n",
              "      <td>1</td>\n",
              "      <td>1</td>\n",
              "      <td>0.727273</td>\n",
              "      <td>0.627391</td>\n",
              "      <td>4800</td>\n",
              "      <td>3490.909091</td>\n",
              "      <td>3011.476422</td>\n",
              "    </tr>\n",
              "    <tr>\n",
              "      <th>3</th>\n",
              "      <td>ID12704</td>\n",
              "      <td>50</td>\n",
              "      <td>MALE</td>\n",
              "      <td>TOWN</td>\n",
              "      <td>46794.40</td>\n",
              "      <td>YES</td>\n",
              "      <td>NO</td>\n",
              "      <td>YES</td>\n",
              "      <td>NO</td>\n",
              "      <td>YES</td>\n",
              "      <td>0</td>\n",
              "      <td>0</td>\n",
              "      <td>0.456376</td>\n",
              "      <td>0.395168</td>\n",
              "      <td>7200</td>\n",
              "      <td>3285.906040</td>\n",
              "      <td>2845.208299</td>\n",
              "    </tr>\n",
              "    <tr>\n",
              "      <th>4</th>\n",
              "      <td>ID12705</td>\n",
              "      <td>41</td>\n",
              "      <td>FEMALE</td>\n",
              "      <td>INNER_CITY</td>\n",
              "      <td>20721.10</td>\n",
              "      <td>YES</td>\n",
              "      <td>YES</td>\n",
              "      <td>YES</td>\n",
              "      <td>YES</td>\n",
              "      <td>NO</td>\n",
              "      <td>0</td>\n",
              "      <td>0</td>\n",
              "      <td>0.310559</td>\n",
              "      <td>0.398504</td>\n",
              "      <td>10000</td>\n",
              "      <td>3105.590062</td>\n",
              "      <td>3985.044314</td>\n",
              "    </tr>\n",
              "    <tr>\n",
              "      <th>...</th>\n",
              "      <td>...</td>\n",
              "      <td>...</td>\n",
              "      <td>...</td>\n",
              "      <td>...</td>\n",
              "      <td>...</td>\n",
              "      <td>...</td>\n",
              "      <td>...</td>\n",
              "      <td>...</td>\n",
              "      <td>...</td>\n",
              "      <td>...</td>\n",
              "      <td>...</td>\n",
              "      <td>...</td>\n",
              "      <td>...</td>\n",
              "      <td>...</td>\n",
              "      <td>...</td>\n",
              "      <td>...</td>\n",
              "      <td>...</td>\n",
              "    </tr>\n",
              "    <tr>\n",
              "      <th>195</th>\n",
              "      <td>ID12896</td>\n",
              "      <td>66</td>\n",
              "      <td>MALE</td>\n",
              "      <td>INNER_CITY</td>\n",
              "      <td>58792.60</td>\n",
              "      <td>NO</td>\n",
              "      <td>YES</td>\n",
              "      <td>YES</td>\n",
              "      <td>YES</td>\n",
              "      <td>YES</td>\n",
              "      <td>0</td>\n",
              "      <td>1</td>\n",
              "      <td>0.350877</td>\n",
              "      <td>0.757059</td>\n",
              "      <td>10000</td>\n",
              "      <td>3508.771930</td>\n",
              "      <td>7570.591023</td>\n",
              "    </tr>\n",
              "    <tr>\n",
              "      <th>196</th>\n",
              "      <td>ID12897</td>\n",
              "      <td>19</td>\n",
              "      <td>MALE</td>\n",
              "      <td>INNER_CITY</td>\n",
              "      <td>17906.80</td>\n",
              "      <td>NO</td>\n",
              "      <td>YES</td>\n",
              "      <td>YES</td>\n",
              "      <td>NO</td>\n",
              "      <td>NO</td>\n",
              "      <td>1</td>\n",
              "      <td>0</td>\n",
              "      <td>0.727273</td>\n",
              "      <td>0.479672</td>\n",
              "      <td>10000</td>\n",
              "      <td>7272.727273</td>\n",
              "      <td>4796.717261</td>\n",
              "    </tr>\n",
              "    <tr>\n",
              "      <th>197</th>\n",
              "      <td>ID12898</td>\n",
              "      <td>54</td>\n",
              "      <td>MALE</td>\n",
              "      <td>RURAL</td>\n",
              "      <td>29348.80</td>\n",
              "      <td>NO</td>\n",
              "      <td>NO</td>\n",
              "      <td>NO</td>\n",
              "      <td>YES</td>\n",
              "      <td>YES</td>\n",
              "      <td>0</td>\n",
              "      <td>1</td>\n",
              "      <td>0.350877</td>\n",
              "      <td>0.764587</td>\n",
              "      <td>4800</td>\n",
              "      <td>1684.210526</td>\n",
              "      <td>3670.017563</td>\n",
              "    </tr>\n",
              "    <tr>\n",
              "      <th>198</th>\n",
              "      <td>ID12899</td>\n",
              "      <td>42</td>\n",
              "      <td>FEMALE</td>\n",
              "      <td>TOWN</td>\n",
              "      <td>20552.50</td>\n",
              "      <td>YES</td>\n",
              "      <td>YES</td>\n",
              "      <td>YES</td>\n",
              "      <td>YES</td>\n",
              "      <td>NO</td>\n",
              "      <td>0</td>\n",
              "      <td>0</td>\n",
              "      <td>0.456376</td>\n",
              "      <td>0.377730</td>\n",
              "      <td>7200</td>\n",
              "      <td>3285.906040</td>\n",
              "      <td>2719.658767</td>\n",
              "    </tr>\n",
              "    <tr>\n",
              "      <th>199</th>\n",
              "      <td>ID12900</td>\n",
              "      <td>34</td>\n",
              "      <td>MALE</td>\n",
              "      <td>INNER_CITY</td>\n",
              "      <td>25843.10</td>\n",
              "      <td>NO</td>\n",
              "      <td>NO</td>\n",
              "      <td>YES</td>\n",
              "      <td>YES</td>\n",
              "      <td>NO</td>\n",
              "      <td>1</td>\n",
              "      <td>1</td>\n",
              "      <td>0.727273</td>\n",
              "      <td>0.593560</td>\n",
              "      <td>10000</td>\n",
              "      <td>7272.727273</td>\n",
              "      <td>5935.603021</td>\n",
              "    </tr>\n",
              "  </tbody>\n",
              "</table>\n",
              "<p>200 rows × 17 columns</p>\n",
              "</div>"
            ],
            "text/plain": [
              "          id  age     sex  ... benefits  tree_expected  lr_expected\n",
              "0    ID12701   23    MALE  ...    10000    3105.590062  2760.780801\n",
              "1    ID12702   30    MALE  ...     4800    1684.210526  2372.987646\n",
              "2    ID12703   45  FEMALE  ...     4800    3490.909091  3011.476422\n",
              "3    ID12704   50    MALE  ...     7200    3285.906040  2845.208299\n",
              "4    ID12705   41  FEMALE  ...    10000    3105.590062  3985.044314\n",
              "..       ...  ...     ...  ...      ...            ...          ...\n",
              "195  ID12896   66    MALE  ...    10000    3508.771930  7570.591023\n",
              "196  ID12897   19    MALE  ...    10000    7272.727273  4796.717261\n",
              "197  ID12898   54    MALE  ...     4800    1684.210526  3670.017563\n",
              "198  ID12899   42  FEMALE  ...     7200    3285.906040  2719.658767\n",
              "199  ID12900   34    MALE  ...    10000    7272.727273  5935.603021\n",
              "\n",
              "[200 rows x 17 columns]"
            ]
          },
          "metadata": {},
          "execution_count": 41
        }
      ]
    },
    {
      "cell_type": "markdown",
      "metadata": {
        "id": "qLMemDto7CZq"
      },
      "source": [
        "Largest 20 expected returns from logistic regression model"
      ]
    },
    {
      "cell_type": "code",
      "metadata": {
        "colab": {
          "base_uri": "https://localhost:8080/",
          "height": 665
        },
        "id": "ah5GxgGz6sHf",
        "outputId": "0cd15e8d-7018-4839-a790-26a9ede379d1"
      },
      "source": [
        "proba_preds.nlargest(20, 'lr_expected').loc[:, ['id', 'lr_expected']]"
      ],
      "execution_count": null,
      "outputs": [
        {
          "output_type": "execute_result",
          "data": {
            "text/html": [
              "<div>\n",
              "<style scoped>\n",
              "    .dataframe tbody tr th:only-of-type {\n",
              "        vertical-align: middle;\n",
              "    }\n",
              "\n",
              "    .dataframe tbody tr th {\n",
              "        vertical-align: top;\n",
              "    }\n",
              "\n",
              "    .dataframe thead th {\n",
              "        text-align: right;\n",
              "    }\n",
              "</style>\n",
              "<table border=\"1\" class=\"dataframe\">\n",
              "  <thead>\n",
              "    <tr style=\"text-align: right;\">\n",
              "      <th></th>\n",
              "      <th>id</th>\n",
              "      <th>lr_expected</th>\n",
              "    </tr>\n",
              "  </thead>\n",
              "  <tbody>\n",
              "    <tr>\n",
              "      <th>45</th>\n",
              "      <td>ID12746</td>\n",
              "      <td>8220.581774</td>\n",
              "    </tr>\n",
              "    <tr>\n",
              "      <th>82</th>\n",
              "      <td>ID12783</td>\n",
              "      <td>8203.816517</td>\n",
              "    </tr>\n",
              "    <tr>\n",
              "      <th>113</th>\n",
              "      <td>ID12814</td>\n",
              "      <td>8058.133227</td>\n",
              "    </tr>\n",
              "    <tr>\n",
              "      <th>110</th>\n",
              "      <td>ID12811</td>\n",
              "      <td>7696.809073</td>\n",
              "    </tr>\n",
              "    <tr>\n",
              "      <th>116</th>\n",
              "      <td>ID12817</td>\n",
              "      <td>7603.731301</td>\n",
              "    </tr>\n",
              "    <tr>\n",
              "      <th>195</th>\n",
              "      <td>ID12896</td>\n",
              "      <td>7570.591023</td>\n",
              "    </tr>\n",
              "    <tr>\n",
              "      <th>58</th>\n",
              "      <td>ID12759</td>\n",
              "      <td>7521.552605</td>\n",
              "    </tr>\n",
              "    <tr>\n",
              "      <th>55</th>\n",
              "      <td>ID12756</td>\n",
              "      <td>7466.850534</td>\n",
              "    </tr>\n",
              "    <tr>\n",
              "      <th>103</th>\n",
              "      <td>ID12804</td>\n",
              "      <td>7457.928787</td>\n",
              "    </tr>\n",
              "    <tr>\n",
              "      <th>78</th>\n",
              "      <td>ID12779</td>\n",
              "      <td>7441.308147</td>\n",
              "    </tr>\n",
              "    <tr>\n",
              "      <th>46</th>\n",
              "      <td>ID12747</td>\n",
              "      <td>7267.213938</td>\n",
              "    </tr>\n",
              "    <tr>\n",
              "      <th>42</th>\n",
              "      <td>ID12743</td>\n",
              "      <td>7181.965196</td>\n",
              "    </tr>\n",
              "    <tr>\n",
              "      <th>141</th>\n",
              "      <td>ID12842</td>\n",
              "      <td>7070.734173</td>\n",
              "    </tr>\n",
              "    <tr>\n",
              "      <th>96</th>\n",
              "      <td>ID12797</td>\n",
              "      <td>7047.772403</td>\n",
              "    </tr>\n",
              "    <tr>\n",
              "      <th>40</th>\n",
              "      <td>ID12741</td>\n",
              "      <td>6882.642493</td>\n",
              "    </tr>\n",
              "    <tr>\n",
              "      <th>130</th>\n",
              "      <td>ID12831</td>\n",
              "      <td>6762.466833</td>\n",
              "    </tr>\n",
              "    <tr>\n",
              "      <th>107</th>\n",
              "      <td>ID12808</td>\n",
              "      <td>6745.464515</td>\n",
              "    </tr>\n",
              "    <tr>\n",
              "      <th>151</th>\n",
              "      <td>ID12852</td>\n",
              "      <td>6698.886396</td>\n",
              "    </tr>\n",
              "    <tr>\n",
              "      <th>131</th>\n",
              "      <td>ID12832</td>\n",
              "      <td>6558.704463</td>\n",
              "    </tr>\n",
              "    <tr>\n",
              "      <th>152</th>\n",
              "      <td>ID12853</td>\n",
              "      <td>6527.010835</td>\n",
              "    </tr>\n",
              "  </tbody>\n",
              "</table>\n",
              "</div>"
            ],
            "text/plain": [
              "          id  lr_expected\n",
              "45   ID12746  8220.581774\n",
              "82   ID12783  8203.816517\n",
              "113  ID12814  8058.133227\n",
              "110  ID12811  7696.809073\n",
              "116  ID12817  7603.731301\n",
              "195  ID12896  7570.591023\n",
              "58   ID12759  7521.552605\n",
              "55   ID12756  7466.850534\n",
              "103  ID12804  7457.928787\n",
              "78   ID12779  7441.308147\n",
              "46   ID12747  7267.213938\n",
              "42   ID12743  7181.965196\n",
              "141  ID12842  7070.734173\n",
              "96   ID12797  7047.772403\n",
              "40   ID12741  6882.642493\n",
              "130  ID12831  6762.466833\n",
              "107  ID12808  6745.464515\n",
              "151  ID12852  6698.886396\n",
              "131  ID12832  6558.704463\n",
              "152  ID12853  6527.010835"
            ]
          },
          "metadata": {},
          "execution_count": 42
        }
      ]
    },
    {
      "cell_type": "markdown",
      "metadata": {
        "id": "iBBreSF67IMS"
      },
      "source": [
        "Largest 20 expected returns based on tree model. Because decision tree models are based on rectangular regions of space, we see discrete values for expectd returns due to their discrete probabilities."
      ]
    },
    {
      "cell_type": "code",
      "metadata": {
        "colab": {
          "base_uri": "https://localhost:8080/",
          "height": 665
        },
        "id": "cAAaZ2Lb7LLJ",
        "outputId": "9467b4cb-97d7-45fe-9000-77b8f9e0fb74"
      },
      "source": [
        "proba_preds.nlargest(20, 'tree_expected').loc[:, ['id', 'tree_expected']]"
      ],
      "execution_count": null,
      "outputs": [
        {
          "output_type": "execute_result",
          "data": {
            "text/html": [
              "<div>\n",
              "<style scoped>\n",
              "    .dataframe tbody tr th:only-of-type {\n",
              "        vertical-align: middle;\n",
              "    }\n",
              "\n",
              "    .dataframe tbody tr th {\n",
              "        vertical-align: top;\n",
              "    }\n",
              "\n",
              "    .dataframe thead th {\n",
              "        text-align: right;\n",
              "    }\n",
              "</style>\n",
              "<table border=\"1\" class=\"dataframe\">\n",
              "  <thead>\n",
              "    <tr style=\"text-align: right;\">\n",
              "      <th></th>\n",
              "      <th>id</th>\n",
              "      <th>tree_expected</th>\n",
              "    </tr>\n",
              "  </thead>\n",
              "  <tbody>\n",
              "    <tr>\n",
              "      <th>8</th>\n",
              "      <td>ID12709</td>\n",
              "      <td>7272.727273</td>\n",
              "    </tr>\n",
              "    <tr>\n",
              "      <th>29</th>\n",
              "      <td>ID12730</td>\n",
              "      <td>7272.727273</td>\n",
              "    </tr>\n",
              "    <tr>\n",
              "      <th>45</th>\n",
              "      <td>ID12746</td>\n",
              "      <td>7272.727273</td>\n",
              "    </tr>\n",
              "    <tr>\n",
              "      <th>46</th>\n",
              "      <td>ID12747</td>\n",
              "      <td>7272.727273</td>\n",
              "    </tr>\n",
              "    <tr>\n",
              "      <th>47</th>\n",
              "      <td>ID12748</td>\n",
              "      <td>7272.727273</td>\n",
              "    </tr>\n",
              "    <tr>\n",
              "      <th>52</th>\n",
              "      <td>ID12753</td>\n",
              "      <td>7272.727273</td>\n",
              "    </tr>\n",
              "    <tr>\n",
              "      <th>56</th>\n",
              "      <td>ID12757</td>\n",
              "      <td>7272.727273</td>\n",
              "    </tr>\n",
              "    <tr>\n",
              "      <th>58</th>\n",
              "      <td>ID12759</td>\n",
              "      <td>7272.727273</td>\n",
              "    </tr>\n",
              "    <tr>\n",
              "      <th>65</th>\n",
              "      <td>ID12766</td>\n",
              "      <td>7272.727273</td>\n",
              "    </tr>\n",
              "    <tr>\n",
              "      <th>69</th>\n",
              "      <td>ID12770</td>\n",
              "      <td>7272.727273</td>\n",
              "    </tr>\n",
              "    <tr>\n",
              "      <th>70</th>\n",
              "      <td>ID12771</td>\n",
              "      <td>7272.727273</td>\n",
              "    </tr>\n",
              "    <tr>\n",
              "      <th>72</th>\n",
              "      <td>ID12773</td>\n",
              "      <td>7272.727273</td>\n",
              "    </tr>\n",
              "    <tr>\n",
              "      <th>78</th>\n",
              "      <td>ID12779</td>\n",
              "      <td>7272.727273</td>\n",
              "    </tr>\n",
              "    <tr>\n",
              "      <th>87</th>\n",
              "      <td>ID12788</td>\n",
              "      <td>7272.727273</td>\n",
              "    </tr>\n",
              "    <tr>\n",
              "      <th>103</th>\n",
              "      <td>ID12804</td>\n",
              "      <td>7272.727273</td>\n",
              "    </tr>\n",
              "    <tr>\n",
              "      <th>110</th>\n",
              "      <td>ID12811</td>\n",
              "      <td>7272.727273</td>\n",
              "    </tr>\n",
              "    <tr>\n",
              "      <th>113</th>\n",
              "      <td>ID12814</td>\n",
              "      <td>7272.727273</td>\n",
              "    </tr>\n",
              "    <tr>\n",
              "      <th>116</th>\n",
              "      <td>ID12817</td>\n",
              "      <td>7272.727273</td>\n",
              "    </tr>\n",
              "    <tr>\n",
              "      <th>129</th>\n",
              "      <td>ID12830</td>\n",
              "      <td>7272.727273</td>\n",
              "    </tr>\n",
              "    <tr>\n",
              "      <th>130</th>\n",
              "      <td>ID12831</td>\n",
              "      <td>7272.727273</td>\n",
              "    </tr>\n",
              "  </tbody>\n",
              "</table>\n",
              "</div>"
            ],
            "text/plain": [
              "          id  tree_expected\n",
              "8    ID12709    7272.727273\n",
              "29   ID12730    7272.727273\n",
              "45   ID12746    7272.727273\n",
              "46   ID12747    7272.727273\n",
              "47   ID12748    7272.727273\n",
              "52   ID12753    7272.727273\n",
              "56   ID12757    7272.727273\n",
              "58   ID12759    7272.727273\n",
              "65   ID12766    7272.727273\n",
              "69   ID12770    7272.727273\n",
              "70   ID12771    7272.727273\n",
              "72   ID12773    7272.727273\n",
              "78   ID12779    7272.727273\n",
              "87   ID12788    7272.727273\n",
              "103  ID12804    7272.727273\n",
              "110  ID12811    7272.727273\n",
              "113  ID12814    7272.727273\n",
              "116  ID12817    7272.727273\n",
              "129  ID12830    7272.727273\n",
              "130  ID12831    7272.727273"
            ]
          },
          "metadata": {},
          "execution_count": 43
        }
      ]
    },
    {
      "cell_type": "markdown",
      "metadata": {
        "id": "281IYboV8BWm"
      },
      "source": [
        "**e.** Discuss which model will generate the highest expected return and provide your recommendation."
      ]
    },
    {
      "cell_type": "code",
      "metadata": {
        "colab": {
          "base_uri": "https://localhost:8080/"
        },
        "id": "WUQ9W5Qj8RQ0",
        "outputId": "d15c8cf3-879d-43a2-eccb-13efbaeca371"
      },
      "source": [
        "proba_preds.nlargest(20, 'tree_expected').tree_expected.sum()"
      ],
      "execution_count": null,
      "outputs": [
        {
          "output_type": "execute_result",
          "data": {
            "text/plain": [
              "145454.54545454547"
            ]
          },
          "metadata": {},
          "execution_count": 44
        }
      ]
    },
    {
      "cell_type": "code",
      "metadata": {
        "colab": {
          "base_uri": "https://localhost:8080/"
        },
        "id": "gBmUFL1F8WIE",
        "outputId": "4a38be10-1b82-46a9-c7be-1d2f6f77ea64"
      },
      "source": [
        "proba_preds.nlargest(20, 'lr_expected').lr_expected.sum()"
      ],
      "execution_count": null,
      "outputs": [
        {
          "output_type": "execute_result",
          "data": {
            "text/plain": [
              "145984.16423418358"
            ]
          },
          "metadata": {},
          "execution_count": 45
        }
      ]
    },
    {
      "cell_type": "code",
      "metadata": {
        "colab": {
          "base_uri": "https://localhost:8080/"
        },
        "id": "56uj0arK9PVR",
        "outputId": "64fbe2bf-e3b2-4534-fa5b-1ffd04fba3f9"
      },
      "source": [
        "proba_preds.nlargest(20, 'lr_expected').lr_expected.sum() - proba_preds.nlargest(20, 'tree_expected').tree_expected.sum()"
      ],
      "execution_count": null,
      "outputs": [
        {
          "output_type": "execute_result",
          "data": {
            "text/plain": [
              "529.6187796381128"
            ]
          },
          "metadata": {},
          "execution_count": 46
        }
      ]
    },
    {
      "cell_type": "markdown",
      "metadata": {
        "id": "VyHvoA2R-h-T"
      },
      "source": [
        "Just by looking at the values for expected returns, we might think the logistic regression model performs better. However, we must remember that the decision tree model was more precise in classifying True positives for customers that are likely to accept the loan offer. Therefore, we would be more likely to get a greater expected return with the decision tree model. \n",
        "\n",
        "This is because there is a greater chance of having a true positives in the tree model, and false positives in our logistic regression model. Furthermore, the logistic regression model only expects $529 more than the decision tree model. If just one of the predictions in the logistic regression model is wrong, the bank loses more money than with the tree model. The better option is the safer decision tree model."
      ]
    },
    {
      "cell_type": "markdown",
      "metadata": {
        "id": "VYl6lws-8EYL"
      },
      "source": [
        "**6.** Reflection & Discussion: please briefly discuss the following questions:\n",
        "\n"
      ]
    },
    {
      "cell_type": "markdown",
      "metadata": {
        "id": "Nj2jqbyU_C-P"
      },
      "source": [
        "**a.** Do you encounter any problems in this project? How do you solve them?"
      ]
    },
    {
      "cell_type": "markdown",
      "metadata": {
        "id": "G4WpJ3q-_Gjr"
      },
      "source": [
        "I was initially unsure of how to fine tune the parameters for both models. From reading the scikit-learn documentation and Stefanie Molin's \"Hands on data analysis with Pandas\" book, I found hyperparameter tuning with GridSearchCV. This technique allowed me to find the best parameter for each model on the given dataset.\n",
        "\n",
        "I was also unsure of what metric to use to judge the performance of each model. I decided precision was most important to this problem because it would maximize expected returns to correctly identify True positives, rather than risk false positives in our predictions."
      ]
    },
    {
      "cell_type": "markdown",
      "metadata": {
        "id": "vqnPTwr8ABpt"
      },
      "source": [
        "**b**. Are there any other important factors that are not considered here? Discuss clearly at least two factors here."
      ]
    },
    {
      "cell_type": "markdown",
      "metadata": {
        "id": "Kw6OGkDAAhfe"
      },
      "source": [
        "Perhaps the most important factor is testing the assumption that we used to conduct this analysis. Is there reason to believe these particular past features can inform future decisions? If this is the first time this bank performs this kind of analysis, we might see if this assumption holds based on the results of this analysis.\n",
        "\n",
        "Other very important factors are trying to make sure we have a representative sample for each category in our data. There are not many categories for suburban customers, despite these yielding the second highest benefit. Also, why are there so many missing values for income? Income seems like it would be an important factor to determine if a person accepts a loan. However, since our prediction data does not contain an ``income`` feature, we cannot use this variable.\n",
        "\n",
        "Capturing a ``sex`` variable is also something worth reconsidering. We would not want to inadvertently discriminate against a gender because our model was given historical data where the bank might have discriminated in some way before."
      ]
    }
  ]
}