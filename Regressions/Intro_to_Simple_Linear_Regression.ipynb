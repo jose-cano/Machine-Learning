{
  "cells": [
    {
      "cell_type": "markdown",
      "metadata": {
        "id": "BcScgmwh0dxx"
      },
      "source": [
        "# Introduction to Simple Linear Regression\n",
        "\n",
        "In this very simple example, we'll explore how to create a very simple fit line, the classic case of y=mx+b. We'll go carefully through each step, so you can see what type of question a simple fit line can answer. Keep in mind, this case is very simplified and is not the approach we'll take later on, its just here to get you thinking about linear regression in perhaps the same way [Galton](https://en.wikipedia.org/wiki/Francis_Galton) did."
      ]
    },
    {
      "cell_type": "markdown",
      "metadata": {
        "id": "qYrMA-gq0dxx"
      },
      "source": [
        "## Imports"
      ]
    },
    {
      "cell_type": "code",
      "execution_count": 1,
      "metadata": {
        "id": "SvB1vqGC0dxy"
      },
      "outputs": [],
      "source": [
        "import numpy as np\n",
        "import pandas as pd\n",
        "import matplotlib.pyplot as plt\n",
        "import seaborn as sns"
      ]
    },
    {
      "cell_type": "markdown",
      "metadata": {
        "id": "InAjZl-Z0dxz"
      },
      "source": [
        "## Sample Data\n",
        "\n",
        "This sample data is from ISLR. It displays sales (in thousands of units) for a particular product as a function of advertising budgets (in thousands of dollars) for TV, radio, and newspaper media."
      ]
    },
    {
      "cell_type": "code",
      "execution_count": 2,
      "metadata": {
        "id": "xkN3fICz0dx0"
      },
      "outputs": [],
      "source": [
        "df = pd.read_csv(\"Advertising.csv\")"
      ]
    },
    {
      "cell_type": "code",
      "execution_count": 3,
      "metadata": {
        "colab": {
          "base_uri": "https://localhost:8080/",
          "height": 206
        },
        "id": "kfAiHEbd0dx0",
        "outputId": "2487f2dd-d839-40aa-c552-7502663b4e49"
      },
      "outputs": [
        {
          "output_type": "execute_result",
          "data": {
            "text/plain": [
              "      TV  radio  newspaper  sales\n",
              "0  230.1   37.8       69.2   22.1\n",
              "1   44.5   39.3       45.1   10.4\n",
              "2   17.2   45.9       69.3    9.3\n",
              "3  151.5   41.3       58.5   18.5\n",
              "4  180.8   10.8       58.4   12.9"
            ],
            "text/html": [
              "\n",
              "  <div id=\"df-c87bf10f-4f39-456d-8388-4ff312297486\">\n",
              "    <div class=\"colab-df-container\">\n",
              "      <div>\n",
              "<style scoped>\n",
              "    .dataframe tbody tr th:only-of-type {\n",
              "        vertical-align: middle;\n",
              "    }\n",
              "\n",
              "    .dataframe tbody tr th {\n",
              "        vertical-align: top;\n",
              "    }\n",
              "\n",
              "    .dataframe thead th {\n",
              "        text-align: right;\n",
              "    }\n",
              "</style>\n",
              "<table border=\"1\" class=\"dataframe\">\n",
              "  <thead>\n",
              "    <tr style=\"text-align: right;\">\n",
              "      <th></th>\n",
              "      <th>TV</th>\n",
              "      <th>radio</th>\n",
              "      <th>newspaper</th>\n",
              "      <th>sales</th>\n",
              "    </tr>\n",
              "  </thead>\n",
              "  <tbody>\n",
              "    <tr>\n",
              "      <th>0</th>\n",
              "      <td>230.1</td>\n",
              "      <td>37.8</td>\n",
              "      <td>69.2</td>\n",
              "      <td>22.1</td>\n",
              "    </tr>\n",
              "    <tr>\n",
              "      <th>1</th>\n",
              "      <td>44.5</td>\n",
              "      <td>39.3</td>\n",
              "      <td>45.1</td>\n",
              "      <td>10.4</td>\n",
              "    </tr>\n",
              "    <tr>\n",
              "      <th>2</th>\n",
              "      <td>17.2</td>\n",
              "      <td>45.9</td>\n",
              "      <td>69.3</td>\n",
              "      <td>9.3</td>\n",
              "    </tr>\n",
              "    <tr>\n",
              "      <th>3</th>\n",
              "      <td>151.5</td>\n",
              "      <td>41.3</td>\n",
              "      <td>58.5</td>\n",
              "      <td>18.5</td>\n",
              "    </tr>\n",
              "    <tr>\n",
              "      <th>4</th>\n",
              "      <td>180.8</td>\n",
              "      <td>10.8</td>\n",
              "      <td>58.4</td>\n",
              "      <td>12.9</td>\n",
              "    </tr>\n",
              "  </tbody>\n",
              "</table>\n",
              "</div>\n",
              "      <button class=\"colab-df-convert\" onclick=\"convertToInteractive('df-c87bf10f-4f39-456d-8388-4ff312297486')\"\n",
              "              title=\"Convert this dataframe to an interactive table.\"\n",
              "              style=\"display:none;\">\n",
              "        \n",
              "  <svg xmlns=\"http://www.w3.org/2000/svg\" height=\"24px\"viewBox=\"0 0 24 24\"\n",
              "       width=\"24px\">\n",
              "    <path d=\"M0 0h24v24H0V0z\" fill=\"none\"/>\n",
              "    <path d=\"M18.56 5.44l.94 2.06.94-2.06 2.06-.94-2.06-.94-.94-2.06-.94 2.06-2.06.94zm-11 1L8.5 8.5l.94-2.06 2.06-.94-2.06-.94L8.5 2.5l-.94 2.06-2.06.94zm10 10l.94 2.06.94-2.06 2.06-.94-2.06-.94-.94-2.06-.94 2.06-2.06.94z\"/><path d=\"M17.41 7.96l-1.37-1.37c-.4-.4-.92-.59-1.43-.59-.52 0-1.04.2-1.43.59L10.3 9.45l-7.72 7.72c-.78.78-.78 2.05 0 2.83L4 21.41c.39.39.9.59 1.41.59.51 0 1.02-.2 1.41-.59l7.78-7.78 2.81-2.81c.8-.78.8-2.07 0-2.86zM5.41 20L4 18.59l7.72-7.72 1.47 1.35L5.41 20z\"/>\n",
              "  </svg>\n",
              "      </button>\n",
              "      \n",
              "  <style>\n",
              "    .colab-df-container {\n",
              "      display:flex;\n",
              "      flex-wrap:wrap;\n",
              "      gap: 12px;\n",
              "    }\n",
              "\n",
              "    .colab-df-convert {\n",
              "      background-color: #E8F0FE;\n",
              "      border: none;\n",
              "      border-radius: 50%;\n",
              "      cursor: pointer;\n",
              "      display: none;\n",
              "      fill: #1967D2;\n",
              "      height: 32px;\n",
              "      padding: 0 0 0 0;\n",
              "      width: 32px;\n",
              "    }\n",
              "\n",
              "    .colab-df-convert:hover {\n",
              "      background-color: #E2EBFA;\n",
              "      box-shadow: 0px 1px 2px rgba(60, 64, 67, 0.3), 0px 1px 3px 1px rgba(60, 64, 67, 0.15);\n",
              "      fill: #174EA6;\n",
              "    }\n",
              "\n",
              "    [theme=dark] .colab-df-convert {\n",
              "      background-color: #3B4455;\n",
              "      fill: #D2E3FC;\n",
              "    }\n",
              "\n",
              "    [theme=dark] .colab-df-convert:hover {\n",
              "      background-color: #434B5C;\n",
              "      box-shadow: 0px 1px 3px 1px rgba(0, 0, 0, 0.15);\n",
              "      filter: drop-shadow(0px 1px 2px rgba(0, 0, 0, 0.3));\n",
              "      fill: #FFFFFF;\n",
              "    }\n",
              "  </style>\n",
              "\n",
              "      <script>\n",
              "        const buttonEl =\n",
              "          document.querySelector('#df-c87bf10f-4f39-456d-8388-4ff312297486 button.colab-df-convert');\n",
              "        buttonEl.style.display =\n",
              "          google.colab.kernel.accessAllowed ? 'block' : 'none';\n",
              "\n",
              "        async function convertToInteractive(key) {\n",
              "          const element = document.querySelector('#df-c87bf10f-4f39-456d-8388-4ff312297486');\n",
              "          const dataTable =\n",
              "            await google.colab.kernel.invokeFunction('convertToInteractive',\n",
              "                                                     [key], {});\n",
              "          if (!dataTable) return;\n",
              "\n",
              "          const docLinkHtml = 'Like what you see? Visit the ' +\n",
              "            '<a target=\"_blank\" href=https://colab.research.google.com/notebooks/data_table.ipynb>data table notebook</a>'\n",
              "            + ' to learn more about interactive tables.';\n",
              "          element.innerHTML = '';\n",
              "          dataTable['output_type'] = 'display_data';\n",
              "          await google.colab.output.renderOutput(dataTable, element);\n",
              "          const docLink = document.createElement('div');\n",
              "          docLink.innerHTML = docLinkHtml;\n",
              "          element.appendChild(docLink);\n",
              "        }\n",
              "      </script>\n",
              "    </div>\n",
              "  </div>\n",
              "  "
            ]
          },
          "metadata": {},
          "execution_count": 3
        }
      ],
      "source": [
        "df.head()"
      ]
    },
    {
      "cell_type": "markdown",
      "metadata": {
        "id": "gKH8wZ910dx1"
      },
      "source": [
        "**Is there a relationship between *total* advertising spend and *sales*?**"
      ]
    },
    {
      "cell_type": "code",
      "execution_count": 4,
      "metadata": {
        "id": "1zBH12360dx2"
      },
      "outputs": [],
      "source": [
        "df['total_spend'] = df['TV'] + df['radio'] + df['newspaper']"
      ]
    },
    {
      "cell_type": "code",
      "execution_count": 6,
      "metadata": {
        "scrolled": true,
        "colab": {
          "base_uri": "https://localhost:8080/",
          "height": 280
        },
        "id": "EGxA0Ez90dx3",
        "outputId": "dda3ceee-87d2-4e97-a054-53245875fb02"
      },
      "outputs": [
        {
          "output_type": "display_data",
          "data": {
            "text/plain": [
              "<Figure size 432x288 with 1 Axes>"
            ],
            "image/png": "[encoded data removed]"
          },
          "metadata": {
            "needs_background": "light"
          }
        }
      ],
      "source": [
        "sns.scatterplot(x='total_spend',y='sales',data=df);"
      ]
    },
    {
      "cell_type": "markdown",
      "metadata": {
        "id": "-K1jjEa_0dx3"
      },
      "source": [
        "## Least Squares Line\n",
        "\n",
        "Full formulas available on Wikipedia: https://en.wikipedia.org/wiki/Linear_regression ,as well as in ISLR reading."
      ]
    },
    {
      "cell_type": "markdown",
      "metadata": {
        "id": "C1cFPaIj0dx3"
      },
      "source": [
        "**Understanding what a line of best fit answers.**\n",
        "If someone was to spend a total of $200 , what would the expected sales be? We have simplified this quite a bit by combining all the features into \"total spend\", but we will come back to individual features later on. For now, let's focus on understanding what a linear regression line can help answer.\n",
        "\n",
        "**Our next ad campaign will have a total spend of $200, how many units do we expect to sell as a result of this?**"
      ]
    },
    {
      "cell_type": "code",
      "execution_count": 8,
      "metadata": {
        "colab": {
          "base_uri": "https://localhost:8080/",
          "height": 280
        },
        "id": "uPGfBBCN0dx4",
        "outputId": "2bde30b6-ab69-4dd5-9345-31447c66a60d"
      },
      "outputs": [
        {
          "output_type": "display_data",
          "data": {
            "text/plain": [
              "<Figure size 432x288 with 1 Axes>"
            ],
            "image/png": "[encoded data removed]"
          },
          "metadata": {
            "needs_background": "light"
          }
        }
      ],
      "source": [
        "# Basically, we want to figure out how to create this line\n",
        "sns.regplot(x='total_spend',y='sales',data=df);"
      ]
    },
    {
      "cell_type": "markdown",
      "metadata": {
        "id": "uR2PrAeD0dx4"
      },
      "source": [
        "Let's go ahead and start solving: $$y=mx+b$$"
      ]
    },
    {
      "cell_type": "markdown",
      "metadata": {
        "id": "iMhUaqoX0dx5"
      },
      "source": [
        "Simply solve for m and b, remember, that as shown in the video, we are solving in a generalized form:\n",
        "\n",
        "$$ \\hat{y} = \\beta_0 + \\beta_1X$$\n",
        "\n",
        "Capitalized to signal that we are dealing with a matrix of values, we have a known matrix of labels (sales numbers) Y and a known matrix of total_spend (X). We are going to solve for the *beta* coefficients, which as we expand to more than just a single feature, will be important to build an understanding of what features have the most predictive power. We use y hat to indicate that y hat is a prediction or estimation, y would be a true label/known value.\n",
        "\n",
        "We can use NumPy for this (if you really wanted to, you could solve this by [hand](https://towardsdatascience.com/linear-regression-by-hand-ee7fe5a751bf))"
      ]
    },
    {
      "cell_type": "code",
      "execution_count": 9,
      "metadata": {
        "id": "3P9kyPL50dx5"
      },
      "outputs": [],
      "source": [
        "X = df['total_spend']\n",
        "y = df['sales']"
      ]
    },
    {
      "cell_type": "code",
      "execution_count": 10,
      "metadata": {
        "colab": {
          "base_uri": "https://localhost:8080/"
        },
        "id": "WNqqHiXu0dx5",
        "outputId": "4bd7bc12-b159-4500-c998-bbc04ed25360"
      },
      "outputs": [
        {
          "output_type": "stream",
          "name": "stdout",
          "text": [
            "Help on function polyfit in module numpy:\n",
            "\n",
            "polyfit(x, y, deg, rcond=None, full=False, w=None, cov=False)\n",
            "    Least squares polynomial fit.\n",
            "    \n",
            "    .. note::\n",
            "       This forms part of the old polynomial API. Since version 1.4, the\n",
            "       new polynomial API defined in `numpy.polynomial` is preferred.\n",
            "       A summary of the differences can be found in the\n",
            "       :doc:`transition guide </reference/routines.polynomials>`.\n",
            "    \n",
            "    Fit a polynomial ``p(x) = p[0] * x**deg + ... + p[deg]`` of degree `deg`\n",
            "    to points `(x, y)`. Returns a vector of coefficients `p` that minimises\n",
            "    the squared error in the order `deg`, `deg-1`, ... `0`.\n",
            "    \n",
            "    The `Polynomial.fit <numpy.polynomial.polynomial.Polynomial.fit>` class\n",
            "    method is recommended for new code as it is more stable numerically. See\n",
            "    the documentation of the method for more information.\n",
            "    \n",
            "    Parameters\n",
            "    ----------\n",
            "    x : array_like, shape (M,)\n",
            "        x-coordinates of the M sample points ``(x[i], y[i])``.\n",
            "    y : array_like, shape (M,) or (M, K)\n",
            "        y-coordinates of the sample points. Several data sets of sample\n",
            "        points sharing the same x-coordinates can be fitted at once by\n",
            "        passing in a 2D-array that contains one dataset per column.\n",
            "    deg : int\n",
            "        Degree of the fitting polynomial\n",
            "    rcond : float, optional\n",
            "        Relative condition number of the fit. Singular values smaller than\n",
            "        this relative to the largest singular value will be ignored. The\n",
            "        default value is len(x)*eps, where eps is the relative precision of\n",
            "        the float type, about 2e-16 in most cases.\n",
            "    full : bool, optional\n",
            "        Switch determining nature of return value. When it is False (the\n",
            "        default) just the coefficients are returned, when True diagnostic\n",
            "        information from the singular value decomposition is also returned.\n",
            "    w : array_like, shape (M,), optional\n",
            "        Weights to apply to the y-coordinates of the sample points. For\n",
            "        gaussian uncertainties, use 1/sigma (not 1/sigma**2).\n",
            "    cov : bool or str, optional\n",
            "        If given and not `False`, return not just the estimate but also its\n",
            "        covariance matrix. By default, the covariance are scaled by\n",
            "        chi2/dof, where dof = M - (deg + 1), i.e., the weights are presumed \n",
            "        to be unreliable except in a relative sense and everything is scaled \n",
            "        such that the reduced chi2 is unity. This scaling is omitted if \n",
            "        ``cov='unscaled'``, as is relevant for the case that the weights are \n",
            "        1/sigma**2, with sigma known to be a reliable estimate of the \n",
            "        uncertainty.\n",
            "    \n",
            "    Returns\n",
            "    -------\n",
            "    p : ndarray, shape (deg + 1,) or (deg + 1, K)\n",
            "        Polynomial coefficients, highest power first.  If `y` was 2-D, the\n",
            "        coefficients for `k`-th data set are in ``p[:,k]``.\n",
            "    \n",
            "    residuals, rank, singular_values, rcond\n",
            "        Present only if `full` = True.  Residuals is sum of squared residuals\n",
            "        of the least-squares fit, the effective rank of the scaled Vandermonde\n",
            "        coefficient matrix, its singular values, and the specified value of\n",
            "        `rcond`. For more details, see `linalg.lstsq`.\n",
            "    \n",
            "    V : ndarray, shape (M,M) or (M,M,K)\n",
            "        Present only if `full` = False and `cov`=True.  The covariance\n",
            "        matrix of the polynomial coefficient estimates.  The diagonal of\n",
            "        this matrix are the variance estimates for each coefficient.  If y\n",
            "        is a 2-D array, then the covariance matrix for the `k`-th data set\n",
            "        are in ``V[:,:,k]``\n",
            "    \n",
            "    \n",
            "    Warns\n",
            "    -----\n",
            "    RankWarning\n",
            "        The rank of the coefficient matrix in the least-squares fit is\n",
            "        deficient. The warning is only raised if `full` = False.\n",
            "    \n",
            "        The warnings can be turned off by\n",
            "    \n",
            "        >>> import warnings\n",
            "        >>> warnings.simplefilter('ignore', np.RankWarning)\n",
            "    \n",
            "    See Also\n",
            "    --------\n",
            "    polyval : Compute polynomial values.\n",
            "    linalg.lstsq : Computes a least-squares fit.\n",
            "    scipy.interpolate.UnivariateSpline : Computes spline fits.\n",
            "    \n",
            "    Notes\n",
            "    -----\n",
            "    The solution minimizes the squared error\n",
            "    \n",
            "    .. math ::\n",
            "        E = \\sum_{j=0}^k |p(x_j) - y_j|^2\n",
            "    \n",
            "    in the equations::\n",
            "    \n",
            "        x[0]**n * p[0] + ... + x[0] * p[n-1] + p[n] = y[0]\n",
            "        x[1]**n * p[0] + ... + x[1] * p[n-1] + p[n] = y[1]\n",
            "        ...\n",
            "        x[k]**n * p[0] + ... + x[k] * p[n-1] + p[n] = y[k]\n",
            "    \n",
            "    The coefficient matrix of the coefficients `p` is a Vandermonde matrix.\n",
            "    \n",
            "    `polyfit` issues a `RankWarning` when the least-squares fit is badly\n",
            "    conditioned. This implies that the best fit is not well-defined due\n",
            "    to numerical error. The results may be improved by lowering the polynomial\n",
            "    degree or by replacing `x` by `x` - `x`.mean(). The `rcond` parameter\n",
            "    can also be set to a value smaller than its default, but the resulting\n",
            "    fit may be spurious: including contributions from the small singular\n",
            "    values can add numerical noise to the result.\n",
            "    \n",
            "    Note that fitting polynomial coefficients is inherently badly conditioned\n",
            "    when the degree of the polynomial is large or the interval of sample points\n",
            "    is badly centered. The quality of the fit should always be checked in these\n",
            "    cases. When polynomial fits are not satisfactory, splines may be a good\n",
            "    alternative.\n",
            "    \n",
            "    References\n",
            "    ----------\n",
            "    .. [1] Wikipedia, \"Curve fitting\",\n",
            "           https://en.wikipedia.org/wiki/Curve_fitting\n",
            "    .. [2] Wikipedia, \"Polynomial interpolation\",\n",
            "           https://en.wikipedia.org/wiki/Polynomial_interpolation\n",
            "    \n",
            "    Examples\n",
            "    --------\n",
            "    >>> import warnings\n",
            "    >>> x = np.array([0.0, 1.0, 2.0, 3.0,  4.0,  5.0])\n",
            "    >>> y = np.array([0.0, 0.8, 0.9, 0.1, -0.8, -1.0])\n",
            "    >>> z = np.polyfit(x, y, 3)\n",
            "    >>> z\n",
            "    array([ 0.08703704, -0.81349206,  1.69312169, -0.03968254]) # may vary\n",
            "    \n",
            "    It is convenient to use `poly1d` objects for dealing with polynomials:\n",
            "    \n",
            "    >>> p = np.poly1d(z)\n",
            "    >>> p(0.5)\n",
            "    0.6143849206349179 # may vary\n",
            "    >>> p(3.5)\n",
            "    -0.34732142857143039 # may vary\n",
            "    >>> p(10)\n",
            "    22.579365079365115 # may vary\n",
            "    \n",
            "    High-order polynomials may oscillate wildly:\n",
            "    \n",
            "    >>> with warnings.catch_warnings():\n",
            "    ...     warnings.simplefilter('ignore', np.RankWarning)\n",
            "    ...     p30 = np.poly1d(np.polyfit(x, y, 30))\n",
            "    ...\n",
            "    >>> p30(4)\n",
            "    -0.80000000000000204 # may vary\n",
            "    >>> p30(5)\n",
            "    -0.99999999999999445 # may vary\n",
            "    >>> p30(4.5)\n",
            "    -0.10547061179440398 # may vary\n",
            "    \n",
            "    Illustration:\n",
            "    \n",
            "    >>> import matplotlib.pyplot as plt\n",
            "    >>> xp = np.linspace(-2, 6, 100)\n",
            "    >>> _ = plt.plot(x, y, '.', xp, p(xp), '-', xp, p30(xp), '--')\n",
            "    >>> plt.ylim(-2,2)\n",
            "    (-2, 2)\n",
            "    >>> plt.show()\n",
            "\n"
          ]
        }
      ],
      "source": [
        "help(np.polyfit)"
      ]
    },
    {
      "cell_type": "code",
      "execution_count": 11,
      "metadata": {
        "colab": {
          "base_uri": "https://localhost:8080/"
        },
        "id": "PUUNZNdc0dx5",
        "outputId": "405e8446-18bb-4b96-b737-2d02c642ef07"
      },
      "outputs": [
        {
          "output_type": "execute_result",
          "data": {
            "text/plain": [
              "array([0.04868788, 4.24302822])"
            ]
          },
          "metadata": {},
          "execution_count": 11
        }
      ],
      "source": [
        "# Returns highest order coef first!\n",
        "np.polyfit(X,y,1)"
      ]
    },
    {
      "cell_type": "code",
      "execution_count": 12,
      "metadata": {
        "id": "lBdi2VB60dx6"
      },
      "outputs": [],
      "source": [
        "# Potential Future Spend Budgets\n",
        "potential_spend = np.linspace(0,500,100)"
      ]
    },
    {
      "cell_type": "code",
      "execution_count": 13,
      "metadata": {
        "id": "KjdBvHNp0dx6"
      },
      "outputs": [],
      "source": [
        "predicted_sales =  0.04868788*potential_spend + 4.24302822"
      ]
    },
    {
      "cell_type": "code",
      "execution_count": 14,
      "metadata": {
        "colab": {
          "base_uri": "https://localhost:8080/",
          "height": 265
        },
        "id": "bef3nV0g0dx6",
        "outputId": "a0b180cd-e346-4098-96b7-c6a7d6b75256"
      },
      "outputs": [
        {
          "output_type": "display_data",
          "data": {
            "text/plain": [
              "<Figure size 432x288 with 1 Axes>"
            ],
            "image/png": "[encoded data removed]"
          },
          "metadata": {
            "needs_background": "light"
          }
        }
      ],
      "source": [
        "plt.plot(potential_spend,predicted_sales);"
      ]
    },
    {
      "cell_type": "code",
      "execution_count": 15,
      "metadata": {
        "colab": {
          "base_uri": "https://localhost:8080/",
          "height": 280
        },
        "id": "xqEqeNp50dx7",
        "outputId": "c0d111ee-e968-4835-b146-3789a922b6f7"
      },
      "outputs": [
        {
          "output_type": "display_data",
          "data": {
            "text/plain": [
              "<Figure size 432x288 with 1 Axes>"
            ],
            "image/png": "[encoded data removed]"
          },
          "metadata": {
            "needs_background": "light"
          }
        }
      ],
      "source": [
        "sns.scatterplot(x='total_spend',y='sales',data=df)\n",
        "plt.plot(potential_spend,predicted_sales,color='red');"
      ]
    },
    {
      "cell_type": "markdown",
      "metadata": {
        "id": "T4yECv8H0dx7"
      },
      "source": [
        "**Our next ad campaign will have a total spend of $200, how many units do we expect to sell as a result of this?**"
      ]
    },
    {
      "cell_type": "code",
      "execution_count": 16,
      "metadata": {
        "id": "vBVYnEye0dx7"
      },
      "outputs": [],
      "source": [
        "spend = 200\n",
        "predicted_sales =  0.04868788*spend + 4.24302822"
      ]
    },
    {
      "cell_type": "code",
      "execution_count": 17,
      "metadata": {
        "colab": {
          "base_uri": "https://localhost:8080/"
        },
        "id": "7iGYOcd70dx7",
        "outputId": "86583e4e-c189-4dc3-e550-42114344fed4"
      },
      "outputs": [
        {
          "output_type": "execute_result",
          "data": {
            "text/plain": [
              "13.98060422"
            ]
          },
          "metadata": {},
          "execution_count": 17
        }
      ],
      "source": [
        "predicted_sales"
      ]
    },
    {
      "cell_type": "markdown",
      "metadata": {
        "id": "P-2Pw7Ud0dx8"
      },
      "source": [
        "# Further considerations...which we will explore in much more depth!"
      ]
    },
    {
      "cell_type": "markdown",
      "metadata": {
        "id": "WjFA82ke0dx8"
      },
      "source": [
        "## Overfitting, Underfitting, and Measuring Performance\n",
        "\n",
        "Notice we fit to order=1 , essentially a straight line, we can begin to explore higher orders, but does higher order mean an overall better fit? Is it possible to fit too much? Too little? How would we know and how do we even define a good fit?"
      ]
    },
    {
      "cell_type": "code",
      "execution_count": 18,
      "metadata": {
        "colab": {
          "base_uri": "https://localhost:8080/"
        },
        "id": "AtJ-Db6U0dx8",
        "outputId": "0ba6f224-72c1-411c-ed47-abfc25948c4b"
      },
      "outputs": [
        {
          "output_type": "execute_result",
          "data": {
            "text/plain": [
              "array([ 3.07615033e-07, -1.89392449e-04,  8.20886302e-02,  2.70495053e+00])"
            ]
          },
          "metadata": {},
          "execution_count": 18
        }
      ],
      "source": [
        "np.polyfit(X,y,3)"
      ]
    },
    {
      "cell_type": "code",
      "execution_count": 19,
      "metadata": {
        "id": "Uh5LtBBO0dx8"
      },
      "outputs": [],
      "source": [
        "# Potential Future Spend Budgets\n",
        "potential_spend = np.linspace(0,500,100)"
      ]
    },
    {
      "cell_type": "code",
      "execution_count": 20,
      "metadata": {
        "id": "YwSACf1f0dx8"
      },
      "outputs": [],
      "source": [
        "predicted_sales =   3.07615033e-07*potential_spend**3 + -1.89392449e-04*potential_spend**2 + 8.20886302e-02*potential_spend**1 + 2.70495053e+00"
      ]
    },
    {
      "cell_type": "code",
      "execution_count": 22,
      "metadata": {
        "colab": {
          "base_uri": "https://localhost:8080/",
          "height": 280
        },
        "id": "A1wit2660dx9",
        "outputId": "a3e58062-56f1-48c6-d559-472dfe7f1a24"
      },
      "outputs": [
        {
          "output_type": "display_data",
          "data": {
            "text/plain": [
              "<Figure size 432x288 with 1 Axes>"
            ],
            "image/png": "[encoded data removed]"
          },
          "metadata": {
            "needs_background": "light"
          }
        }
      ],
      "source": [
        "sns.scatterplot(x='total_spend',y='sales',data=df)\n",
        "plt.plot(potential_spend,predicted_sales,color='red');"
      ]
    },
    {
      "cell_type": "markdown",
      "metadata": {
        "id": "MdnJ_90q0dx9"
      },
      "source": [
        "**Is this better than our straight line fit? What are good ways of measuring this?**"
      ]
    },
    {
      "cell_type": "markdown",
      "metadata": {
        "id": "TIIripbB0dx9"
      },
      "source": [
        "## Multiple Features\n",
        "\n",
        "The real data had 3 features, not everything in total spend, this would allow us to repeat the process and maybe get a more accurate result?"
      ]
    },
    {
      "cell_type": "code",
      "execution_count": 23,
      "metadata": {
        "id": "OIjx-_9F0dx9"
      },
      "outputs": [],
      "source": [
        "X = df[['TV','radio','newspaper']]\n",
        "y = df['sales']"
      ]
    },
    {
      "cell_type": "code",
      "execution_count": 24,
      "metadata": {
        "colab": {
          "base_uri": "https://localhost:8080/",
          "height": 339
        },
        "id": "TpX5UWMC0dx9",
        "outputId": "706737d4-ba76-41a5-9f2d-719f1b0e90e4"
      },
      "outputs": [
        {
          "output_type": "error",
          "ename": "TypeError",
          "evalue": "ignored",
          "traceback": [
            "\u001b[0;31m---------------------------------------------------------------------------\u001b[0m",
            "\u001b[0;31mTypeError\u001b[0m                                 Traceback (most recent call last)",
            "\u001b[0;32m<ipython-input-24-f24479bbc916>\u001b[0m in \u001b[0;36m<module>\u001b[0;34m()\u001b[0m\n\u001b[1;32m      1\u001b[0m \u001b[0;31m# Note here we're passing in 3 which matches up with 3 unique features, so we're not polynomial yet\u001b[0m\u001b[0;34m\u001b[0m\u001b[0;34m\u001b[0m\u001b[0;34m\u001b[0m\u001b[0m\n\u001b[0;32m----> 2\u001b[0;31m \u001b[0mnp\u001b[0m\u001b[0;34m.\u001b[0m\u001b[0mpolyfit\u001b[0m\u001b[0;34m(\u001b[0m\u001b[0mX\u001b[0m\u001b[0;34m,\u001b[0m\u001b[0my\u001b[0m\u001b[0;34m,\u001b[0m\u001b[0;36m1\u001b[0m\u001b[0;34m)\u001b[0m\u001b[0;34m\u001b[0m\u001b[0;34m\u001b[0m\u001b[0m\n\u001b[0m",
            "\u001b[0;32m<__array_function__ internals>\u001b[0m in \u001b[0;36mpolyfit\u001b[0;34m(*args, **kwargs)\u001b[0m\n",
            "\u001b[0;32m/usr/local/lib/python3.7/dist-packages/numpy/lib/polynomial.py\u001b[0m in \u001b[0;36mpolyfit\u001b[0;34m(x, y, deg, rcond, full, w, cov)\u001b[0m\n\u001b[1;32m    626\u001b[0m         \u001b[0;32mraise\u001b[0m \u001b[0mValueError\u001b[0m\u001b[0;34m(\u001b[0m\u001b[0;34m\"expected deg >= 0\"\u001b[0m\u001b[0;34m)\u001b[0m\u001b[0;34m\u001b[0m\u001b[0;34m\u001b[0m\u001b[0m\n\u001b[1;32m    627\u001b[0m     \u001b[0;32mif\u001b[0m \u001b[0mx\u001b[0m\u001b[0;34m.\u001b[0m\u001b[0mndim\u001b[0m \u001b[0;34m!=\u001b[0m \u001b[0;36m1\u001b[0m\u001b[0;34m:\u001b[0m\u001b[0;34m\u001b[0m\u001b[0;34m\u001b[0m\u001b[0m\n\u001b[0;32m--> 628\u001b[0;31m         \u001b[0;32mraise\u001b[0m \u001b[0mTypeError\u001b[0m\u001b[0;34m(\u001b[0m\u001b[0;34m\"expected 1D vector for x\"\u001b[0m\u001b[0;34m)\u001b[0m\u001b[0;34m\u001b[0m\u001b[0;34m\u001b[0m\u001b[0m\n\u001b[0m\u001b[1;32m    629\u001b[0m     \u001b[0;32mif\u001b[0m \u001b[0mx\u001b[0m\u001b[0;34m.\u001b[0m\u001b[0msize\u001b[0m \u001b[0;34m==\u001b[0m \u001b[0;36m0\u001b[0m\u001b[0;34m:\u001b[0m\u001b[0;34m\u001b[0m\u001b[0;34m\u001b[0m\u001b[0m\n\u001b[1;32m    630\u001b[0m         \u001b[0;32mraise\u001b[0m \u001b[0mTypeError\u001b[0m\u001b[0;34m(\u001b[0m\u001b[0;34m\"expected non-empty vector for x\"\u001b[0m\u001b[0;34m)\u001b[0m\u001b[0;34m\u001b[0m\u001b[0;34m\u001b[0m\u001b[0m\n",
            "\u001b[0;31mTypeError\u001b[0m: expected 1D vector for x"
          ]
        }
      ],
      "source": [
        "# Note here we're passing in 3 which matches up with 3 unique features, so we're not polynomial yet\n",
        "np.polyfit(X,y,1)"
      ]
    },
    {
      "cell_type": "markdown",
      "metadata": {
        "id": "aL4C1UdD0dx9"
      },
      "source": [
        "**Uh oh! Polyfit only works with a 1D X array! We'll need to move on to a more powerful library...**"
      ]
    },
    {
      "cell_type": "markdown",
      "metadata": {
        "id": "1kJQJS1p0dx-"
      },
      "source": [
        "-------\n",
        "--------"
      ]
    }
  ],
  "metadata": {
    "anaconda-cloud": {},
    "kernelspec": {
      "display_name": "Python 3",
      "language": "python",
      "name": "python3"
    },
    "language_info": {
      "codemirror_mode": {
        "name": "ipython",
        "version": 3
      },
      "file_extension": ".py",
      "mimetype": "text/x-python",
      "name": "python",
      "nbconvert_exporter": "python",
      "pygments_lexer": "ipython3",
      "version": "3.7.6"
    },
    "colab": {
      "name": "Intro-to-Simple-Linear-Regression.ipynb",
      "provenance": []
    }
  },
  "nbformat": 4,
  "nbformat_minor": 0
}