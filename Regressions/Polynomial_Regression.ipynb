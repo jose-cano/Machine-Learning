{
  "cells": [
    {
      "cell_type": "markdown",
      "metadata": {
        "id": "LqWJtJlA9utC"
      },
      "source": [
        "# Polynomial Regression with SciKit-Learn\n",
        "\n",
        "We saw how to create a very simple best fit line, but now let's greatly expand our toolkit to start thinking about the considerations of overfitting, underfitting, model evaluation, as well as multiple features!"
      ]
    },
    {
      "cell_type": "markdown",
      "metadata": {
        "id": "Dpl26UyX9utC"
      },
      "source": [
        "## Imports"
      ]
    },
    {
      "cell_type": "code",
      "execution_count": 1,
      "metadata": {
        "id": "qWS_i4YV9utD"
      },
      "outputs": [],
      "source": [
        "import numpy as np\n",
        "import pandas as pd\n",
        "import matplotlib.pyplot as plt\n",
        "import seaborn as sns"
      ]
    },
    {
      "cell_type": "markdown",
      "metadata": {
        "id": "7QjdNj869utE"
      },
      "source": [
        "## Sample Data\n",
        "\n",
        "This sample data is from ISLR. It displays sales (in thousands of units) for a particular product as a function of advertising budgets (in thousands of dollars) for TV, radio, and newspaper media."
      ]
    },
    {
      "cell_type": "code",
      "execution_count": 2,
      "metadata": {
        "id": "DtrEBFkA9utE"
      },
      "outputs": [],
      "source": [
        "df = pd.read_csv(\"Advertising.csv\")"
      ]
    },
    {
      "cell_type": "code",
      "execution_count": 3,
      "metadata": {
        "colab": {
          "base_uri": "https://localhost:8080/",
          "height": 206
        },
        "id": "ESePD3hH9utF",
        "outputId": "ae20ab80-e18e-4f7c-e0e5-a0adb8a542e5"
      },
      "outputs": [
        {
          "output_type": "execute_result",
          "data": {
            "text/plain": [
              "      TV  radio  newspaper  sales\n",
              "0  230.1   37.8       69.2   22.1\n",
              "1   44.5   39.3       45.1   10.4\n",
              "2   17.2   45.9       69.3    9.3\n",
              "3  151.5   41.3       58.5   18.5\n",
              "4  180.8   10.8       58.4   12.9"
            ],
            "text/html": [
              "\n",
              "  <div id=\"df-198cfe07-33a6-400e-822f-b965930be063\">\n",
              "    <div class=\"colab-df-container\">\n",
              "      <div>\n",
              "<style scoped>\n",
              "    .dataframe tbody tr th:only-of-type {\n",
              "        vertical-align: middle;\n",
              "    }\n",
              "\n",
              "    .dataframe tbody tr th {\n",
              "        vertical-align: top;\n",
              "    }\n",
              "\n",
              "    .dataframe thead th {\n",
              "        text-align: right;\n",
              "    }\n",
              "</style>\n",
              "<table border=\"1\" class=\"dataframe\">\n",
              "  <thead>\n",
              "    <tr style=\"text-align: right;\">\n",
              "      <th></th>\n",
              "      <th>TV</th>\n",
              "      <th>radio</th>\n",
              "      <th>newspaper</th>\n",
              "      <th>sales</th>\n",
              "    </tr>\n",
              "  </thead>\n",
              "  <tbody>\n",
              "    <tr>\n",
              "      <th>0</th>\n",
              "      <td>230.1</td>\n",
              "      <td>37.8</td>\n",
              "      <td>69.2</td>\n",
              "      <td>22.1</td>\n",
              "    </tr>\n",
              "    <tr>\n",
              "      <th>1</th>\n",
              "      <td>44.5</td>\n",
              "      <td>39.3</td>\n",
              "      <td>45.1</td>\n",
              "      <td>10.4</td>\n",
              "    </tr>\n",
              "    <tr>\n",
              "      <th>2</th>\n",
              "      <td>17.2</td>\n",
              "      <td>45.9</td>\n",
              "      <td>69.3</td>\n",
              "      <td>9.3</td>\n",
              "    </tr>\n",
              "    <tr>\n",
              "      <th>3</th>\n",
              "      <td>151.5</td>\n",
              "      <td>41.3</td>\n",
              "      <td>58.5</td>\n",
              "      <td>18.5</td>\n",
              "    </tr>\n",
              "    <tr>\n",
              "      <th>4</th>\n",
              "      <td>180.8</td>\n",
              "      <td>10.8</td>\n",
              "      <td>58.4</td>\n",
              "      <td>12.9</td>\n",
              "    </tr>\n",
              "  </tbody>\n",
              "</table>\n",
              "</div>\n",
              "      <button class=\"colab-df-convert\" onclick=\"convertToInteractive('df-198cfe07-33a6-400e-822f-b965930be063')\"\n",
              "              title=\"Convert this dataframe to an interactive table.\"\n",
              "              style=\"display:none;\">\n",
              "        \n",
              "  <svg xmlns=\"http://www.w3.org/2000/svg\" height=\"24px\"viewBox=\"0 0 24 24\"\n",
              "       width=\"24px\">\n",
              "    <path d=\"M0 0h24v24H0V0z\" fill=\"none\"/>\n",
              "    <path d=\"M18.56 5.44l.94 2.06.94-2.06 2.06-.94-2.06-.94-.94-2.06-.94 2.06-2.06.94zm-11 1L8.5 8.5l.94-2.06 2.06-.94-2.06-.94L8.5 2.5l-.94 2.06-2.06.94zm10 10l.94 2.06.94-2.06 2.06-.94-2.06-.94-.94-2.06-.94 2.06-2.06.94z\"/><path d=\"M17.41 7.96l-1.37-1.37c-.4-.4-.92-.59-1.43-.59-.52 0-1.04.2-1.43.59L10.3 9.45l-7.72 7.72c-.78.78-.78 2.05 0 2.83L4 21.41c.39.39.9.59 1.41.59.51 0 1.02-.2 1.41-.59l7.78-7.78 2.81-2.81c.8-.78.8-2.07 0-2.86zM5.41 20L4 18.59l7.72-7.72 1.47 1.35L5.41 20z\"/>\n",
              "  </svg>\n",
              "      </button>\n",
              "      \n",
              "  <style>\n",
              "    .colab-df-container {\n",
              "      display:flex;\n",
              "      flex-wrap:wrap;\n",
              "      gap: 12px;\n",
              "    }\n",
              "\n",
              "    .colab-df-convert {\n",
              "      background-color: #E8F0FE;\n",
              "      border: none;\n",
              "      border-radius: 50%;\n",
              "      cursor: pointer;\n",
              "      display: none;\n",
              "      fill: #1967D2;\n",
              "      height: 32px;\n",
              "      padding: 0 0 0 0;\n",
              "      width: 32px;\n",
              "    }\n",
              "\n",
              "    .colab-df-convert:hover {\n",
              "      background-color: #E2EBFA;\n",
              "      box-shadow: 0px 1px 2px rgba(60, 64, 67, 0.3), 0px 1px 3px 1px rgba(60, 64, 67, 0.15);\n",
              "      fill: #174EA6;\n",
              "    }\n",
              "\n",
              "    [theme=dark] .colab-df-convert {\n",
              "      background-color: #3B4455;\n",
              "      fill: #D2E3FC;\n",
              "    }\n",
              "\n",
              "    [theme=dark] .colab-df-convert:hover {\n",
              "      background-color: #434B5C;\n",
              "      box-shadow: 0px 1px 3px 1px rgba(0, 0, 0, 0.15);\n",
              "      filter: drop-shadow(0px 1px 2px rgba(0, 0, 0, 0.3));\n",
              "      fill: #FFFFFF;\n",
              "    }\n",
              "  </style>\n",
              "\n",
              "      <script>\n",
              "        const buttonEl =\n",
              "          document.querySelector('#df-198cfe07-33a6-400e-822f-b965930be063 button.colab-df-convert');\n",
              "        buttonEl.style.display =\n",
              "          google.colab.kernel.accessAllowed ? 'block' : 'none';\n",
              "\n",
              "        async function convertToInteractive(key) {\n",
              "          const element = document.querySelector('#df-198cfe07-33a6-400e-822f-b965930be063');\n",
              "          const dataTable =\n",
              "            await google.colab.kernel.invokeFunction('convertToInteractive',\n",
              "                                                     [key], {});\n",
              "          if (!dataTable) return;\n",
              "\n",
              "          const docLinkHtml = 'Like what you see? Visit the ' +\n",
              "            '<a target=\"_blank\" href=https://colab.research.google.com/notebooks/data_table.ipynb>data table notebook</a>'\n",
              "            + ' to learn more about interactive tables.';\n",
              "          element.innerHTML = '';\n",
              "          dataTable['output_type'] = 'display_data';\n",
              "          await google.colab.output.renderOutput(dataTable, element);\n",
              "          const docLink = document.createElement('div');\n",
              "          docLink.innerHTML = docLinkHtml;\n",
              "          element.appendChild(docLink);\n",
              "        }\n",
              "      </script>\n",
              "    </div>\n",
              "  </div>\n",
              "  "
            ]
          },
          "metadata": {},
          "execution_count": 3
        }
      ],
      "source": [
        "df.head()"
      ]
    },
    {
      "cell_type": "code",
      "execution_count": 4,
      "metadata": {
        "id": "uitWcGD89utG"
      },
      "outputs": [],
      "source": [
        "# Everything BUT the sales column\n",
        "X = df.drop('sales',axis=1)"
      ]
    },
    {
      "cell_type": "code",
      "execution_count": 5,
      "metadata": {
        "id": "DkDKH9dx9utG"
      },
      "outputs": [],
      "source": [
        "y = df['sales']"
      ]
    },
    {
      "cell_type": "markdown",
      "metadata": {
        "id": "Pl2Wv0iu9utG"
      },
      "source": [
        "## SciKit Learn \n",
        "\n",
        "---"
      ]
    },
    {
      "cell_type": "markdown",
      "metadata": {
        "id": "YVEI6C8p9utG"
      },
      "source": [
        "## Polynomial Regression"
      ]
    },
    {
      "cell_type": "markdown",
      "metadata": {
        "id": "363iYouO9utH"
      },
      "source": [
        "**From Preprocessing, import PolynomialFeatures, which will help us transform our original data set by adding polynomial features**\n",
        "\n",
        "We will go from the equation in the form (shown here as if we only had one x feature):\n",
        "\n",
        "$$\\hat{y} = \\beta_0 + \\beta_1x_1 + \\epsilon $$\n",
        "\n",
        "and create more features from the original x feature for some *d* degree of polynomial.\n",
        "\n",
        "$$\\hat{y} = \\beta_0 + \\beta_1x_1 + \\beta_1x^2_1 +  ... + \\beta_dx^d_1 + \\epsilon$$\n",
        "\n",
        "Then we can call the linear regression model on it, since in reality, we're just treating these new polynomial features x^2, x^3, ... x^d as new features. Obviously we need to be careful about choosing the correct value of *d* , the degree of the model. Our metric results on the test set will help us with this!\n",
        "\n",
        "**The other thing to note here is we have multiple X features, not just a single one as in the formula above, so in reality, the PolynomialFeatures will also take *interaction* terms into account for example, if an input sample is two dimensional and of the form [a, b], the degree-2 polynomial features are [1, a, b, a^2, ab, b^2].**"
      ]
    },
    {
      "cell_type": "code",
      "execution_count": 6,
      "metadata": {
        "id": "9JisFwVz9utH"
      },
      "outputs": [],
      "source": [
        "from sklearn.preprocessing import PolynomialFeatures"
      ]
    },
    {
      "cell_type": "code",
      "execution_count": 7,
      "metadata": {
        "id": "kaEKCEH29utH"
      },
      "outputs": [],
      "source": [
        "polynomial_converter = PolynomialFeatures(degree=2,include_bias=False)"
      ]
    },
    {
      "cell_type": "code",
      "execution_count": 8,
      "metadata": {
        "id": "12a9M5NR9utI"
      },
      "outputs": [],
      "source": [
        "# Converter \"fits\" to data, in this case, reads in every X column\n",
        "# Then it \"transforms\" and ouputs the new polynomial data\n",
        "poly_features = polynomial_converter.fit_transform(X)"
      ]
    },
    {
      "cell_type": "code",
      "execution_count": 9,
      "metadata": {
        "colab": {
          "base_uri": "https://localhost:8080/"
        },
        "id": "Txuanexf9utI",
        "outputId": "ce2df0d5-afeb-464f-908a-40f0ea558cfe"
      },
      "outputs": [
        {
          "output_type": "execute_result",
          "data": {
            "text/plain": [
              "(200, 9)"
            ]
          },
          "metadata": {},
          "execution_count": 9
        }
      ],
      "source": [
        "poly_features.shape"
      ]
    },
    {
      "cell_type": "code",
      "execution_count": 10,
      "metadata": {
        "colab": {
          "base_uri": "https://localhost:8080/"
        },
        "id": "eAT_Akb59utI",
        "outputId": "14780080-3cfe-4509-b2dd-ae710a2186ce"
      },
      "outputs": [
        {
          "output_type": "execute_result",
          "data": {
            "text/plain": [
              "(200, 3)"
            ]
          },
          "metadata": {},
          "execution_count": 10
        }
      ],
      "source": [
        "X.shape"
      ]
    },
    {
      "cell_type": "code",
      "execution_count": 11,
      "metadata": {
        "colab": {
          "base_uri": "https://localhost:8080/"
        },
        "id": "RmSoLMI49utJ",
        "outputId": "31e251ef-d267-4aa5-832e-439bcb7a31a4"
      },
      "outputs": [
        {
          "output_type": "execute_result",
          "data": {
            "text/plain": [
              "TV           230.1\n",
              "radio         37.8\n",
              "newspaper     69.2\n",
              "Name: 0, dtype: float64"
            ]
          },
          "metadata": {},
          "execution_count": 11
        }
      ],
      "source": [
        "X.iloc[0]"
      ]
    },
    {
      "cell_type": "code",
      "execution_count": 12,
      "metadata": {
        "colab": {
          "base_uri": "https://localhost:8080/"
        },
        "id": "xQncoh1F9utJ",
        "outputId": "b2b7f08f-52a8-4b74-8e43-375c5d2cec47"
      },
      "outputs": [
        {
          "output_type": "execute_result",
          "data": {
            "text/plain": [
              "array([2.301000e+02, 3.780000e+01, 6.920000e+01, 5.294601e+04,\n",
              "       8.697780e+03, 1.592292e+04, 1.428840e+03, 2.615760e+03,\n",
              "       4.788640e+03])"
            ]
          },
          "metadata": {},
          "execution_count": 12
        }
      ],
      "source": [
        "poly_features[0]"
      ]
    },
    {
      "cell_type": "code",
      "execution_count": 13,
      "metadata": {
        "colab": {
          "base_uri": "https://localhost:8080/"
        },
        "id": "kez1pluf9utJ",
        "outputId": "9c5b167e-4045-497b-c353-23c7f97af691"
      },
      "outputs": [
        {
          "output_type": "execute_result",
          "data": {
            "text/plain": [
              "array([230.1,  37.8,  69.2])"
            ]
          },
          "metadata": {},
          "execution_count": 13
        }
      ],
      "source": [
        "poly_features[0][:3]"
      ]
    },
    {
      "cell_type": "code",
      "execution_count": 14,
      "metadata": {
        "scrolled": true,
        "colab": {
          "base_uri": "https://localhost:8080/"
        },
        "id": "EflYQ9oS9utK",
        "outputId": "6b93af05-a8ca-4699-a7a8-36e10cdc7d24"
      },
      "outputs": [
        {
          "output_type": "execute_result",
          "data": {
            "text/plain": [
              "array([52946.01,  1428.84,  4788.64])"
            ]
          },
          "metadata": {},
          "execution_count": 14
        }
      ],
      "source": [
        "poly_features[0][:3]**2"
      ]
    },
    {
      "cell_type": "markdown",
      "metadata": {
        "id": "3uAypA2U9utK"
      },
      "source": [
        "The interaction terms $$x_1  \\cdot x_2 \\text{  and  } x_1  \\cdot x_3 \\text{  and  }   x_2  \\cdot x_3 $$"
      ]
    },
    {
      "cell_type": "code",
      "execution_count": 15,
      "metadata": {
        "colab": {
          "base_uri": "https://localhost:8080/"
        },
        "id": "egmaqIhO9utK",
        "outputId": "aab6e398-fee1-4cf3-a31b-8f2d5607d5ae"
      },
      "outputs": [
        {
          "output_type": "execute_result",
          "data": {
            "text/plain": [
              "8697.779999999999"
            ]
          },
          "metadata": {},
          "execution_count": 15
        }
      ],
      "source": [
        "230.1*37.8"
      ]
    },
    {
      "cell_type": "code",
      "execution_count": 16,
      "metadata": {
        "colab": {
          "base_uri": "https://localhost:8080/"
        },
        "id": "yMSz5Iat9utK",
        "outputId": "fdf616b7-8f07-47d7-9299-1a2948a0302b"
      },
      "outputs": [
        {
          "output_type": "execute_result",
          "data": {
            "text/plain": [
              "15922.92"
            ]
          },
          "metadata": {},
          "execution_count": 16
        }
      ],
      "source": [
        "230.1*69.2"
      ]
    },
    {
      "cell_type": "code",
      "execution_count": 17,
      "metadata": {
        "colab": {
          "base_uri": "https://localhost:8080/"
        },
        "id": "L16do--m9utL",
        "outputId": "435b1bcc-f89e-4e31-8b58-9b1bfcce3ace"
      },
      "outputs": [
        {
          "output_type": "execute_result",
          "data": {
            "text/plain": [
              "2615.7599999999998"
            ]
          },
          "metadata": {},
          "execution_count": 17
        }
      ],
      "source": [
        "37.8*69.2"
      ]
    },
    {
      "cell_type": "markdown",
      "metadata": {
        "id": "8KX9PxZb9utL"
      },
      "source": [
        "## Train | Test Split\n",
        "\n",
        "Make sure you have watched the Machine Learning Overview videos on Supervised Learning to understand why we do this step"
      ]
    },
    {
      "cell_type": "code",
      "execution_count": 18,
      "metadata": {
        "id": "Dw7lJzPW9utL"
      },
      "outputs": [],
      "source": [
        "from sklearn.model_selection import train_test_split"
      ]
    },
    {
      "cell_type": "code",
      "execution_count": 19,
      "metadata": {
        "id": "TaQ7M5Pv9utL"
      },
      "outputs": [],
      "source": [
        "# random_state: \n",
        "# https://stackoverflow.com/questions/28064634/random-state-pseudo-random-number-in-scikit-learn\n",
        "X_train, X_test, y_train, y_test = train_test_split(poly_features, y, test_size=0.3, random_state=101)"
      ]
    },
    {
      "cell_type": "markdown",
      "metadata": {
        "id": "50hM6DAn9utM"
      },
      "source": [
        "### Model for fitting on Polynomial Data\n",
        "\n",
        "#### Create an instance of the model with parameters"
      ]
    },
    {
      "cell_type": "code",
      "execution_count": 20,
      "metadata": {
        "id": "lGHCF2dV9utM"
      },
      "outputs": [],
      "source": [
        "from sklearn.linear_model import LinearRegression"
      ]
    },
    {
      "cell_type": "code",
      "execution_count": 23,
      "metadata": {
        "id": "eqNUowA29utM"
      },
      "outputs": [],
      "source": [
        "model = LinearRegression()"
      ]
    },
    {
      "cell_type": "markdown",
      "metadata": {
        "id": "iBkleJyh9utM"
      },
      "source": [
        "### Fit/Train the Model on the training data\n",
        "\n",
        "**Make sure you only fit to the training data, in order to fairly evaluate your model's performance on future data**"
      ]
    },
    {
      "cell_type": "code",
      "execution_count": 24,
      "metadata": {
        "colab": {
          "base_uri": "https://localhost:8080/"
        },
        "id": "UzuAw9Ls9utM",
        "outputId": "9d1a0761-6ebd-4a4c-8dfa-207e6b9458a2"
      },
      "outputs": [
        {
          "output_type": "execute_result",
          "data": {
            "text/plain": [
              "LinearRegression()"
            ]
          },
          "metadata": {},
          "execution_count": 24
        }
      ],
      "source": [
        "model.fit(X_train,y_train)"
      ]
    },
    {
      "cell_type": "markdown",
      "metadata": {
        "id": "3SzZyhQR9utM"
      },
      "source": [
        "\n",
        "-----\n",
        "\n",
        "## Evaluation on the Test Set"
      ]
    },
    {
      "cell_type": "markdown",
      "metadata": {
        "id": "EbeVstOI9utM"
      },
      "source": [
        "### Calculate Performance on Test Set\n",
        "\n",
        "We want to fairly evaluate our model, so we get performance metrics on the test set (data the model has never seen before)."
      ]
    },
    {
      "cell_type": "code",
      "execution_count": 25,
      "metadata": {
        "id": "XUy7Ys309utN"
      },
      "outputs": [],
      "source": [
        "test_predictions = model.predict(X_test)"
      ]
    },
    {
      "cell_type": "code",
      "execution_count": 26,
      "metadata": {
        "id": "Ojcy9cm49utN"
      },
      "outputs": [],
      "source": [
        "from sklearn.metrics import mean_absolute_error,mean_squared_error"
      ]
    },
    {
      "cell_type": "code",
      "execution_count": 27,
      "metadata": {
        "id": "tgk5sd4x9utN"
      },
      "outputs": [],
      "source": [
        "MAE = mean_absolute_error(y_test,test_predictions)\n",
        "MSE = mean_squared_error(y_test,test_predictions)\n",
        "RMSE = np.sqrt(MSE)"
      ]
    },
    {
      "cell_type": "code",
      "execution_count": 28,
      "metadata": {
        "colab": {
          "base_uri": "https://localhost:8080/"
        },
        "id": "ZgPFLvkO9utN",
        "outputId": "2fc75a47-0ffd-483d-95a9-9d9aa2ab438e"
      },
      "outputs": [
        {
          "output_type": "execute_result",
          "data": {
            "text/plain": [
              "0.48967980448038373"
            ]
          },
          "metadata": {},
          "execution_count": 28
        }
      ],
      "source": [
        "MAE"
      ]
    },
    {
      "cell_type": "code",
      "execution_count": 29,
      "metadata": {
        "colab": {
          "base_uri": "https://localhost:8080/"
        },
        "id": "L5KgXAsE9utN",
        "outputId": "45a6de92-fc46-404b-dff2-0bbb250d7281"
      },
      "outputs": [
        {
          "output_type": "execute_result",
          "data": {
            "text/plain": [
              "0.4417505510403753"
            ]
          },
          "metadata": {},
          "execution_count": 29
        }
      ],
      "source": [
        "MSE"
      ]
    },
    {
      "cell_type": "code",
      "execution_count": 30,
      "metadata": {
        "colab": {
          "base_uri": "https://localhost:8080/"
        },
        "id": "ApoUOpR_9utO",
        "outputId": "1759ebe4-b42e-4fb6-e0c8-cefabf454a4a"
      },
      "outputs": [
        {
          "output_type": "execute_result",
          "data": {
            "text/plain": [
              "0.6646431757269274"
            ]
          },
          "metadata": {},
          "execution_count": 30
        }
      ],
      "source": [
        "RMSE"
      ]
    },
    {
      "cell_type": "code",
      "execution_count": 31,
      "metadata": {
        "colab": {
          "base_uri": "https://localhost:8080/"
        },
        "id": "LP-Gyx389utO",
        "outputId": "b1a6eef9-ea83-4bc8-da26-915609b68125"
      },
      "outputs": [
        {
          "output_type": "execute_result",
          "data": {
            "text/plain": [
              "14.022500000000003"
            ]
          },
          "metadata": {},
          "execution_count": 31
        }
      ],
      "source": [
        "df['sales'].mean()"
      ]
    },
    {
      "cell_type": "markdown",
      "metadata": {
        "id": "RtON2J7n9utO"
      },
      "source": [
        "### Comparison with Simple Linear Regression\n",
        "\n",
        "**Results on the Test Set (Note: Use the same Random Split to fairly compare!)**\n",
        "\n",
        "* Simple Linear Regression:\n",
        "    * MAE: 1.213\n",
        "    * RMSE: 1.516\n",
        "\n",
        "* Polynomial 2-degree:\n",
        "    * MAE: 0.4896\n",
        "    * RMSE: 0.664"
      ]
    },
    {
      "cell_type": "markdown",
      "metadata": {
        "id": "_k5rG5Cx9utO"
      },
      "source": [
        "---\n",
        "---\n",
        "## Choosing a Model\n",
        "\n",
        "### Adjusting Parameters\n",
        "\n",
        "Are we satisfied with this performance? Perhaps a higher order would improve performance even more! But how high is too high? It is now up to us to possibly go back and adjust our model and parameters, let's explore higher order Polynomials in a loop and plot out their error. This will nicely lead us into a discussion on Overfitting.\n",
        "\n",
        "Let's use a for loop to do the following:\n",
        "\n",
        "1. Create different order polynomial X data\n",
        "2. Split that polynomial data for train/test\n",
        "3. Fit on the training data\n",
        "4. Report back the metrics on *both* the train and test results\n",
        "5. Plot these results and explore overfitting"
      ]
    },
    {
      "cell_type": "code",
      "execution_count": 32,
      "metadata": {
        "id": "Pliq7vEG9utO"
      },
      "outputs": [],
      "source": [
        "# TRAINING ERROR PER DEGREE\n",
        "train_rmse_errors = []\n",
        "# TEST ERROR PER DEGREE\n",
        "test_rmse_errors = []\n",
        "\n",
        "for d in range(1,10):\n",
        "    \n",
        "    # CREATE POLY DATA SET FOR DEGREE \"d\"\n",
        "    polynomial_converter = PolynomialFeatures(degree=d,include_bias=False)\n",
        "    poly_features = polynomial_converter.fit_transform(X)\n",
        "    \n",
        "    # SPLIT THIS NEW POLY DATA SET\n",
        "    X_train, X_test, y_train, y_test = train_test_split(poly_features, y, test_size=0.3, random_state=101)\n",
        "    \n",
        "    # TRAIN ON THIS NEW POLY SET\n",
        "    model = LinearRegression(fit_intercept=True)\n",
        "    model.fit(X_train,y_train)\n",
        "    \n",
        "    # PREDICT ON BOTH TRAIN AND TEST\n",
        "    train_pred = model.predict(X_train)\n",
        "    test_pred = model.predict(X_test)\n",
        "    \n",
        "    # Calculate Errors\n",
        "    \n",
        "    # Errors on Train Set\n",
        "    train_RMSE = np.sqrt(mean_squared_error(y_train,train_pred))\n",
        "    \n",
        "    # Errors on Test Set\n",
        "    test_RMSE = np.sqrt(mean_squared_error(y_test,test_pred))\n",
        "\n",
        "    # Append errors to lists for plotting later\n",
        "    \n",
        "   \n",
        "    train_rmse_errors.append(train_RMSE)\n",
        "    test_rmse_errors.append(test_RMSE)"
      ]
    },
    {
      "cell_type": "code",
      "execution_count": 36,
      "metadata": {
        "colab": {
          "base_uri": "https://localhost:8080/",
          "height": 279
        },
        "id": "OSIsm_4B9utO",
        "outputId": "e7b9a6a4-fe83-44c2-f386-89e9a50e673e"
      },
      "outputs": [
        {
          "output_type": "display_data",
          "data": {
            "text/plain": [
              "<Figure size 432x288 with 1 Axes>"
            ],
            "image/png": "[encoded data removed]"
          },
          "metadata": {
            "needs_background": "light"
          }
        }
      ],
      "source": [
        "plt.plot(range(1,6),train_rmse_errors[:5],label='TRAIN')\n",
        "plt.plot(range(1,6),test_rmse_errors[:5],label='TEST')\n",
        "plt.xlabel(\"Polynomial Complexity\")\n",
        "plt.ylabel(\"RMSE\")\n",
        "plt.legend();"
      ]
    },
    {
      "cell_type": "code",
      "source": [
        "#2nd degree\n",
        "train_rmse_errors[1], test_rmse_errors[1]"
      ],
      "metadata": {
        "colab": {
          "base_uri": "https://localhost:8080/"
        },
        "id": "yAJdmZ-OErhr",
        "outputId": "373cf1b9-8448-4286-a5fb-1c5ed4e7c8ad"
      },
      "execution_count": 52,
      "outputs": [
        {
          "output_type": "execute_result",
          "data": {
            "text/plain": [
              "(0.5879574085292231, 0.6646431757269274)"
            ]
          },
          "metadata": {},
          "execution_count": 52
        }
      ]
    },
    {
      "cell_type": "code",
      "source": [
        "# 3rd degree\n",
        "train_rmse_errors[2], test_rmse_errors[2]"
      ],
      "metadata": {
        "colab": {
          "base_uri": "https://localhost:8080/"
        },
        "id": "-bEOjb-7EViH",
        "outputId": "ed298c69-7c07-475a-bee7-312e5ca07f3c"
      },
      "execution_count": 51,
      "outputs": [
        {
          "output_type": "execute_result",
          "data": {
            "text/plain": [
              "(0.43393443569020695, 0.5803286825215619)"
            ]
          },
          "metadata": {},
          "execution_count": 51
        }
      ]
    },
    {
      "cell_type": "code",
      "execution_count": 37,
      "metadata": {
        "colab": {
          "base_uri": "https://localhost:8080/",
          "height": 281
        },
        "id": "q0Q8Bb9v9utP",
        "outputId": "7b545b45-04ab-4de6-9692-de35d1de4a8e"
      },
      "outputs": [
        {
          "output_type": "display_data",
          "data": {
            "text/plain": [
              "<Figure size 432x288 with 1 Axes>"
            ],
            "image/png": "[encoded data removed]"
          },
          "metadata": {
            "needs_background": "light"
          }
        }
      ],
      "source": [
        "plt.plot(range(1,10),train_rmse_errors,label='TRAIN')\n",
        "plt.plot(range(1,10),test_rmse_errors,label='TEST')\n",
        "plt.xlabel(\"Polynomial Complexity\")\n",
        "plt.ylabel(\"RMSE\")\n",
        "plt.legend();"
      ]
    },
    {
      "cell_type": "code",
      "execution_count": 38,
      "metadata": {
        "colab": {
          "base_uri": "https://localhost:8080/",
          "height": 283
        },
        "id": "T9JqRb5B9utP",
        "outputId": "c14bbac1-88ff-4142-e881-1393348d8454"
      },
      "outputs": [
        {
          "output_type": "display_data",
          "data": {
            "text/plain": [
              "<Figure size 432x288 with 1 Axes>"
            ],
            "image/png": "[encoded data removed]"
          },
          "metadata": {
            "needs_background": "light"
          }
        }
      ],
      "source": [
        "plt.plot(range(1,10),train_rmse_errors,label='TRAIN')\n",
        "plt.plot(range(1,10),test_rmse_errors,label='TEST')\n",
        "plt.xlabel(\"Polynomial Complexity\")\n",
        "plt.ylabel(\"RMSE\")\n",
        "plt.ylim(0,100)\n",
        "plt.legend();"
      ]
    },
    {
      "cell_type": "markdown",
      "metadata": {
        "id": "PkD90ETM9utP"
      },
      "source": [
        "## Finalizing Model Choice\n",
        "\n",
        "There are now 2 things we need to save, the Polynomial Feature creator AND the model itself. Let's explore how we would proceed from here:\n",
        "\n",
        "1. Choose final parameters based on test metrics\n",
        "2. Retrain on all data\n",
        "3. Save Polynomial Converter object\n",
        "4. Save model"
      ]
    },
    {
      "cell_type": "code",
      "execution_count": 39,
      "metadata": {
        "id": "_DV9mshe9utP"
      },
      "outputs": [],
      "source": [
        "# Based on our chart, could have also been degree=4, but \n",
        "# it is better to be on the safe side of complexity\n",
        "final_poly_converter = PolynomialFeatures(degree=3,include_bias=False)"
      ]
    },
    {
      "cell_type": "code",
      "execution_count": 40,
      "metadata": {
        "id": "gOpZmE899utP"
      },
      "outputs": [],
      "source": [
        "final_model = LinearRegression()"
      ]
    },
    {
      "cell_type": "code",
      "execution_count": 41,
      "metadata": {
        "colab": {
          "base_uri": "https://localhost:8080/"
        },
        "id": "SYqSKZS99utP",
        "outputId": "f7d0696f-026b-4a77-bff5-5d1966a4e317"
      },
      "outputs": [
        {
          "output_type": "execute_result",
          "data": {
            "text/plain": [
              "LinearRegression()"
            ]
          },
          "metadata": {},
          "execution_count": 41
        }
      ],
      "source": [
        "final_model.fit(final_poly_converter.fit_transform(X),y)"
      ]
    },
    {
      "cell_type": "markdown",
      "metadata": {
        "id": "fQFtydXF9utQ"
      },
      "source": [
        "### Saving Model and Converter"
      ]
    },
    {
      "cell_type": "code",
      "execution_count": 42,
      "metadata": {
        "id": "87Ck83Yv9utQ"
      },
      "outputs": [],
      "source": [
        "from joblib import dump, load"
      ]
    },
    {
      "cell_type": "code",
      "execution_count": 43,
      "metadata": {
        "colab": {
          "base_uri": "https://localhost:8080/"
        },
        "id": "ZTrHfSV49utQ",
        "outputId": "4f112631-e950-4b87-c665-9b5f10a573cb"
      },
      "outputs": [
        {
          "output_type": "execute_result",
          "data": {
            "text/plain": [
              "['sales_poly_model.joblib']"
            ]
          },
          "metadata": {},
          "execution_count": 43
        }
      ],
      "source": [
        "dump(final_model, 'sales_poly_model.joblib') "
      ]
    },
    {
      "cell_type": "code",
      "execution_count": 44,
      "metadata": {
        "colab": {
          "base_uri": "https://localhost:8080/"
        },
        "id": "007vMO0X9utQ",
        "outputId": "9f3e7e0f-fc9e-428f-cc9b-2dfc45b77a72"
      },
      "outputs": [
        {
          "output_type": "execute_result",
          "data": {
            "text/plain": [
              "['poly_converter.joblib']"
            ]
          },
          "metadata": {},
          "execution_count": 44
        }
      ],
      "source": [
        "dump(final_poly_converter,'poly_converter.joblib')"
      ]
    },
    {
      "cell_type": "markdown",
      "metadata": {
        "id": "F1D0WVYC9utQ"
      },
      "source": [
        "## Deployment and Predictions"
      ]
    },
    {
      "cell_type": "markdown",
      "metadata": {
        "id": "F8GE88T49utQ"
      },
      "source": [
        "### Prediction on New Data\n",
        "\n",
        "Recall that we will need to **convert** any incoming data to polynomial data, since that is what our model is trained on. We simply load up our saved converter object and only call **.transform()** on the new data, since we're not refitting to a new data set.\n",
        "\n",
        "**Our next ad campaign will have a total spend of 149k on TV, 22k on Radio, and 12k on Newspaper Ads, how many units could we expect to sell as a result of this?**"
      ]
    },
    {
      "cell_type": "code",
      "execution_count": 45,
      "metadata": {
        "id": "T0vm7M9H9utR"
      },
      "outputs": [],
      "source": [
        "loaded_poly = load('poly_converter.joblib')\n",
        "loaded_model = load('sales_poly_model.joblib')"
      ]
    },
    {
      "cell_type": "code",
      "execution_count": 46,
      "metadata": {
        "id": "pgJwrQXa9utR"
      },
      "outputs": [],
      "source": [
        "campaign = [[149,22,12]]"
      ]
    },
    {
      "cell_type": "code",
      "execution_count": 47,
      "metadata": {
        "colab": {
          "base_uri": "https://localhost:8080/"
        },
        "id": "f6-clb-n9utR",
        "outputId": "fea0cfc9-7362-4f9b-b16a-7e175bf28578"
      },
      "outputs": [
        {
          "output_type": "stream",
          "name": "stderr",
          "text": [
            "/usr/local/lib/python3.7/dist-packages/sklearn/base.py:451: UserWarning: X does not have valid feature names, but PolynomialFeatures was fitted with feature names\n",
            "  \"X does not have valid feature names, but\"\n"
          ]
        }
      ],
      "source": [
        "campaign_poly = loaded_poly.transform(campaign)"
      ]
    },
    {
      "cell_type": "code",
      "execution_count": 48,
      "metadata": {
        "colab": {
          "base_uri": "https://localhost:8080/"
        },
        "id": "IWh2Va609utR",
        "outputId": "6b2d8768-e364-4791-b2a9-d60e9ca970c8"
      },
      "outputs": [
        {
          "output_type": "execute_result",
          "data": {
            "text/plain": [
              "array([[1.490000e+02, 2.200000e+01, 1.200000e+01, 2.220100e+04,\n",
              "        3.278000e+03, 1.788000e+03, 4.840000e+02, 2.640000e+02,\n",
              "        1.440000e+02, 3.307949e+06, 4.884220e+05, 2.664120e+05,\n",
              "        7.211600e+04, 3.933600e+04, 2.145600e+04, 1.064800e+04,\n",
              "        5.808000e+03, 3.168000e+03, 1.728000e+03]])"
            ]
          },
          "metadata": {},
          "execution_count": 48
        }
      ],
      "source": [
        "campaign_poly"
      ]
    },
    {
      "cell_type": "code",
      "execution_count": 49,
      "metadata": {
        "colab": {
          "base_uri": "https://localhost:8080/"
        },
        "id": "b36qXDjR9utR",
        "outputId": "0f8bec27-87d0-444e-8412-4253a0482852"
      },
      "outputs": [
        {
          "output_type": "execute_result",
          "data": {
            "text/plain": [
              "array([14.64501014])"
            ]
          },
          "metadata": {},
          "execution_count": 49
        }
      ],
      "source": [
        "final_model.predict(campaign_poly)"
      ]
    },
    {
      "cell_type": "markdown",
      "metadata": {
        "id": "0sygI9nf9utR"
      },
      "source": [
        "-----\n",
        "---"
      ]
    }
  ],
  "metadata": {
    "anaconda-cloud": {},
    "kernelspec": {
      "display_name": "Python 3",
      "language": "python",
      "name": "python3"
    },
    "language_info": {
      "codemirror_mode": {
        "name": "ipython",
        "version": 3
      },
      "file_extension": ".py",
      "mimetype": "text/x-python",
      "name": "python",
      "nbconvert_exporter": "python",
      "pygments_lexer": "ipython3",
      "version": "3.7.6"
    },
    "colab": {
      "name": "Polynomial-Regression.ipynb",
      "provenance": []
    }
  },
  "nbformat": 4,
  "nbformat_minor": 0
}