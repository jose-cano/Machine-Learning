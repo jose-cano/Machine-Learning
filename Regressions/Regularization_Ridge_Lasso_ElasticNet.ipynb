{
  "cells": [
    {
      "cell_type": "markdown",
      "metadata": {
        "id": "ai91lbfobbWi"
      },
      "source": [
        "# Regularization with SciKit-Learn\n",
        "\n",
        "Previously we created a new polynomial feature set and then applied our standard linear regression on it, but we can be smarter about model choice and utilize regularization.\n",
        "\n",
        "Regularization attempts to minimize the RSS (residual sum of squares) *and* a penalty factor. This penalty factor will penalize models that have coefficients that are too large. Some methods of regularization will actually cause non useful features to have a coefficient of zero, in which case the model does not consider the feature.\n",
        "\n",
        "Let's explore two methods of regularization, Ridge Regression and Lasso. We'll combine these with the polynomial feature set (it wouldn't be as effective to perform regularization of a model on such a small original feature set of the original X)."
      ]
    },
    {
      "cell_type": "markdown",
      "metadata": {
        "id": "-k2exn1dbbWj"
      },
      "source": [
        "## Imports"
      ]
    },
    {
      "cell_type": "code",
      "execution_count": 1,
      "metadata": {
        "id": "T-3d6Ck6bbWj"
      },
      "outputs": [],
      "source": [
        "import numpy as np\n",
        "import pandas as pd\n",
        "import matplotlib.pyplot as plt\n",
        "import seaborn as sns"
      ]
    },
    {
      "cell_type": "markdown",
      "metadata": {
        "id": "ORVQ4KLXbbWk"
      },
      "source": [
        "## Data and Setup"
      ]
    },
    {
      "cell_type": "code",
      "execution_count": 2,
      "metadata": {
        "id": "bJmJXkJ8bbWl"
      },
      "outputs": [],
      "source": [
        "df = pd.read_csv(\"Advertising.csv\")\n",
        "X = df.drop('sales',axis=1)\n",
        "y = df['sales']"
      ]
    },
    {
      "cell_type": "markdown",
      "metadata": {
        "id": "O4o7ves7bbWl"
      },
      "source": [
        "### Polynomial Conversion"
      ]
    },
    {
      "cell_type": "code",
      "execution_count": 3,
      "metadata": {
        "id": "azosE9FsbbWm"
      },
      "outputs": [],
      "source": [
        "from sklearn.preprocessing import PolynomialFeatures"
      ]
    },
    {
      "cell_type": "code",
      "execution_count": 4,
      "metadata": {
        "id": "1sR4fKqmbbWn"
      },
      "outputs": [],
      "source": [
        "polynomial_converter = PolynomialFeatures(degree=3,include_bias=False)"
      ]
    },
    {
      "cell_type": "code",
      "execution_count": 5,
      "metadata": {
        "id": "Vp2n9zfSbbWn"
      },
      "outputs": [],
      "source": [
        "poly_features = polynomial_converter.fit_transform(X)"
      ]
    },
    {
      "cell_type": "markdown",
      "metadata": {
        "id": "U4tfe5acbbWo"
      },
      "source": [
        "### Train | Test Split"
      ]
    },
    {
      "cell_type": "code",
      "execution_count": 6,
      "metadata": {
        "id": "MZ4Ar5eibbWo"
      },
      "outputs": [],
      "source": [
        "from sklearn.model_selection import train_test_split"
      ]
    },
    {
      "cell_type": "code",
      "execution_count": 7,
      "metadata": {
        "id": "ld_tUf3zbbWp"
      },
      "outputs": [],
      "source": [
        "X_train, X_test, y_train, y_test = train_test_split(poly_features, y, test_size=0.3, random_state=101)"
      ]
    },
    {
      "cell_type": "markdown",
      "metadata": {
        "id": "2zODYbSBbbWp"
      },
      "source": [
        "----\n",
        "----\n",
        "\n",
        "## Scaling the Data\n",
        "\n",
        "While our particular data set has all the values in the same order of magnitude ($1000s of dollars spent), typically that won't be the case on a dataset, and since the mathematics behind regularized models will sum coefficients together, its important to standardize the features. Review the theory videos for more info, as well as a discussion on why we only **fit** to the training data, and **transform** on both sets separately."
      ]
    },
    {
      "cell_type": "code",
      "execution_count": 8,
      "metadata": {
        "id": "W10PFKbmbbWp"
      },
      "outputs": [],
      "source": [
        "from sklearn.preprocessing import StandardScaler"
      ]
    },
    {
      "cell_type": "code",
      "execution_count": null,
      "metadata": {
        "id": "JW_RbAlLbbWp"
      },
      "outputs": [],
      "source": [
        "# help(StandardScaler)"
      ]
    },
    {
      "cell_type": "code",
      "execution_count": 9,
      "metadata": {
        "id": "JIbShJZ6bbWq"
      },
      "outputs": [],
      "source": [
        "scaler = StandardScaler()"
      ]
    },
    {
      "cell_type": "code",
      "execution_count": 10,
      "metadata": {
        "colab": {
          "base_uri": "https://localhost:8080/"
        },
        "id": "85Tss50ebbWq",
        "outputId": "b6fc4e8d-1a2d-4de3-e50b-47022e66191b"
      },
      "outputs": [
        {
          "output_type": "execute_result",
          "data": {
            "text/plain": [
              "StandardScaler()"
            ]
          },
          "metadata": {},
          "execution_count": 10
        }
      ],
      "source": [
        "scaler.fit(X_train)"
      ]
    },
    {
      "cell_type": "code",
      "execution_count": 11,
      "metadata": {
        "id": "MJumKLuDbbWr"
      },
      "outputs": [],
      "source": [
        "X_train = scaler.transform(X_train)"
      ]
    },
    {
      "cell_type": "code",
      "execution_count": 12,
      "metadata": {
        "id": "5qusrLMHbbWr"
      },
      "outputs": [],
      "source": [
        "X_test = scaler.transform(X_test)"
      ]
    },
    {
      "cell_type": "markdown",
      "metadata": {
        "id": "CtPZND42bbWr"
      },
      "source": [
        "## Ridge Regression\n",
        "\n",
        "Make sure to view video lectures for full explanation of Ridge Regression and choosing an alpha."
      ]
    },
    {
      "cell_type": "code",
      "execution_count": 13,
      "metadata": {
        "id": "FPW6osRobbWs"
      },
      "outputs": [],
      "source": [
        "from sklearn.linear_model import Ridge"
      ]
    },
    {
      "cell_type": "code",
      "execution_count": 14,
      "metadata": {
        "id": "VgbGXbk1bbWs"
      },
      "outputs": [],
      "source": [
        "ridge_model = Ridge(alpha=10)"
      ]
    },
    {
      "cell_type": "code",
      "execution_count": 15,
      "metadata": {
        "colab": {
          "base_uri": "https://localhost:8080/"
        },
        "id": "bBWUH4tsbbWs",
        "outputId": "02da0b78-1123-41ec-b6ea-424046e9e97a"
      },
      "outputs": [
        {
          "output_type": "execute_result",
          "data": {
            "text/plain": [
              "Ridge(alpha=10)"
            ]
          },
          "metadata": {},
          "execution_count": 15
        }
      ],
      "source": [
        "ridge_model.fit(X_train,y_train)"
      ]
    },
    {
      "cell_type": "code",
      "execution_count": 16,
      "metadata": {
        "id": "xyvswTIYbbWs"
      },
      "outputs": [],
      "source": [
        "test_predictions = ridge_model.predict(X_test)"
      ]
    },
    {
      "cell_type": "code",
      "execution_count": 17,
      "metadata": {
        "id": "S1q_Q182bbWt"
      },
      "outputs": [],
      "source": [
        "from sklearn.metrics import mean_absolute_error,mean_squared_error"
      ]
    },
    {
      "cell_type": "code",
      "execution_count": 18,
      "metadata": {
        "id": "C9rlnGnGbbWt"
      },
      "outputs": [],
      "source": [
        "MAE = mean_absolute_error(y_test,test_predictions)\n",
        "MSE = mean_squared_error(y_test,test_predictions)\n",
        "RMSE = np.sqrt(MSE)"
      ]
    },
    {
      "cell_type": "code",
      "execution_count": 19,
      "metadata": {
        "colab": {
          "base_uri": "https://localhost:8080/"
        },
        "id": "CYHLjaJYbbWt",
        "outputId": "19416645-53da-492e-f4ff-0b89db36631b"
      },
      "outputs": [
        {
          "output_type": "execute_result",
          "data": {
            "text/plain": [
              "0.5774404204714162"
            ]
          },
          "metadata": {},
          "execution_count": 19
        }
      ],
      "source": [
        "MAE"
      ]
    },
    {
      "cell_type": "code",
      "execution_count": 20,
      "metadata": {
        "colab": {
          "base_uri": "https://localhost:8080/"
        },
        "id": "-AQEBXVJbbWt",
        "outputId": "ae096540-e4e8-48e3-fed6-d31951f761ba"
      },
      "outputs": [
        {
          "output_type": "execute_result",
          "data": {
            "text/plain": [
              "0.8946386461319651"
            ]
          },
          "metadata": {},
          "execution_count": 20
        }
      ],
      "source": [
        "RMSE"
      ]
    },
    {
      "cell_type": "markdown",
      "metadata": {
        "id": "OV_RuX-KbbWt"
      },
      "source": [
        "How did it perform on the training set? (This will be used later on for comparison)"
      ]
    },
    {
      "cell_type": "code",
      "execution_count": 21,
      "metadata": {
        "colab": {
          "base_uri": "https://localhost:8080/"
        },
        "id": "oexXi2v8bbWt",
        "outputId": "17d12d88-6a89-4176-e870-8d3bb8787610"
      },
      "outputs": [
        {
          "output_type": "execute_result",
          "data": {
            "text/plain": [
              "0.528834818302531"
            ]
          },
          "metadata": {},
          "execution_count": 21
        }
      ],
      "source": [
        "# Training Set Performance\n",
        "train_predictions = ridge_model.predict(X_train)\n",
        "MAE = mean_absolute_error(y_train,train_predictions)\n",
        "MAE"
      ]
    },
    {
      "cell_type": "markdown",
      "metadata": {
        "id": "swYzph0rbbWu"
      },
      "source": [
        "### Choosing an alpha value with Cross-Validation\n",
        "\n",
        "Review the theory video for full details."
      ]
    },
    {
      "cell_type": "code",
      "execution_count": 22,
      "metadata": {
        "id": "VS9lBtpHbbWu"
      },
      "outputs": [],
      "source": [
        "from sklearn.linear_model import RidgeCV"
      ]
    },
    {
      "cell_type": "code",
      "execution_count": null,
      "metadata": {
        "id": "BQ5bvRRgbbWu"
      },
      "outputs": [],
      "source": [
        "# help(RidgeCV)"
      ]
    },
    {
      "cell_type": "code",
      "execution_count": 68,
      "metadata": {
        "id": "DR6OQaxBbbWu"
      },
      "outputs": [],
      "source": [
        "# Choosing a scoring: https://scikit-learn.org/stable/modules/model_evaluation.html\n",
        "# Negative RMSE so all metrics follow convention \"Higher is better\"\n",
        "\n",
        "# See all options: sklearn.metrics.SCORERS.keys()\n",
        "ridge_cv_model = RidgeCV(alphas=(0.001, 0.01, 0.02, 0.03, 0.04, 0.05, 0.07, 1.0, 10.0),scoring='neg_mean_absolute_error')"
      ]
    },
    {
      "cell_type": "code",
      "execution_count": 69,
      "metadata": {
        "colab": {
          "base_uri": "https://localhost:8080/"
        },
        "id": "2Ri5apVRbbWv",
        "outputId": "370afe77-ef83-410b-a467-6af8ee00d193"
      },
      "outputs": [
        {
          "output_type": "execute_result",
          "data": {
            "text/plain": [
              "RidgeCV(alphas=array([1.e-03, 1.e-02, 2.e-02, 3.e-02, 4.e-02, 5.e-02, 7.e-02, 1.e+00,\n",
              "       1.e+01]),\n",
              "        scoring='neg_mean_absolute_error')"
            ]
          },
          "metadata": {},
          "execution_count": 69
        }
      ],
      "source": [
        "# The more alpha options you pass, the longer this will take.\n",
        "# Fortunately our data set is still pretty small\n",
        "ridge_cv_model.fit(X_train,y_train)"
      ]
    },
    {
      "cell_type": "code",
      "execution_count": 70,
      "metadata": {
        "colab": {
          "base_uri": "https://localhost:8080/"
        },
        "id": "8A1xsouPbbWv",
        "outputId": "d6d9b05a-5c70-4289-a786-c8547ccf823a"
      },
      "outputs": [
        {
          "output_type": "execute_result",
          "data": {
            "text/plain": [
              "0.03"
            ]
          },
          "metadata": {},
          "execution_count": 70
        }
      ],
      "source": [
        "ridge_cv_model.alpha_"
      ]
    },
    {
      "cell_type": "code",
      "execution_count": 71,
      "metadata": {
        "id": "Sz5CdNu1bbWv"
      },
      "outputs": [],
      "source": [
        "test_predictions = ridge_cv_model.predict(X_test)"
      ]
    },
    {
      "cell_type": "code",
      "execution_count": 64,
      "metadata": {
        "id": "0qhmDLY3bbWv"
      },
      "outputs": [],
      "source": [
        "MAE = mean_absolute_error(y_test,test_predictions)\n",
        "MSE = mean_squared_error(y_test,test_predictions)\n",
        "RMSE = np.sqrt(MSE)"
      ]
    },
    {
      "cell_type": "code",
      "execution_count": 72,
      "metadata": {
        "colab": {
          "base_uri": "https://localhost:8080/"
        },
        "id": "ZFmKbag8bbWw",
        "outputId": "b5ea67db-751b-47d6-c910-abdf7f9d02e8"
      },
      "outputs": [
        {
          "output_type": "execute_result",
          "data": {
            "text/plain": [
              "0.2914256851708902"
            ]
          },
          "metadata": {},
          "execution_count": 72
        }
      ],
      "source": [
        "MAE"
      ]
    },
    {
      "cell_type": "code",
      "execution_count": 73,
      "metadata": {
        "colab": {
          "base_uri": "https://localhost:8080/"
        },
        "id": "oCbjGgnkbbWw",
        "outputId": "d6d5994c-7d06-478d-96b7-ffe23c0026bf"
      },
      "outputs": [
        {
          "output_type": "execute_result",
          "data": {
            "text/plain": [
              "0.5941140251195123"
            ]
          },
          "metadata": {},
          "execution_count": 73
        }
      ],
      "source": [
        "RMSE"
      ]
    },
    {
      "cell_type": "code",
      "execution_count": 74,
      "metadata": {
        "colab": {
          "base_uri": "https://localhost:8080/"
        },
        "id": "T6w_lLmQbbWw",
        "outputId": "f8ce7f0d-13f5-4cb0-d88a-51bb3902058e"
      },
      "outputs": [
        {
          "output_type": "execute_result",
          "data": {
            "text/plain": [
              "0.2901312362503258"
            ]
          },
          "metadata": {},
          "execution_count": 74
        }
      ],
      "source": [
        "# Training Set Performance\n",
        "# Training Set Performance\n",
        "train_predictions = ridge_cv_model.predict(X_train)\n",
        "MAE = mean_absolute_error(y_train,train_predictions)\n",
        "MAE"
      ]
    },
    {
      "cell_type": "code",
      "execution_count": 75,
      "metadata": {
        "colab": {
          "base_uri": "https://localhost:8080/"
        },
        "id": "1ModWNHbbbWw",
        "outputId": "38192517-e9c3-41a4-9a65-690d00c56c5d"
      },
      "outputs": [
        {
          "output_type": "execute_result",
          "data": {
            "text/plain": [
              "array([ 6.43507716,  0.52705718,  0.33934369, -8.61654588,  4.95591969,\n",
              "       -1.53915625, -1.29091779,  0.70904477,  0.19458354,  3.96348164,\n",
              "       -1.51058741,  1.26854012,  0.51645572, -0.30047744,  0.08424225,\n",
              "        0.6531423 , -0.27979037, -0.16265522, -0.18484187])"
            ]
          },
          "metadata": {},
          "execution_count": 75
        }
      ],
      "source": [
        "ridge_cv_model.coef_"
      ]
    },
    {
      "cell_type": "markdown",
      "metadata": {
        "id": "dCOTPccQbbWw"
      },
      "source": [
        "\n",
        "-----\n",
        "\n",
        "## Lasso Regression"
      ]
    },
    {
      "cell_type": "code",
      "execution_count": 76,
      "metadata": {
        "id": "oJMN-0N2bbWx"
      },
      "outputs": [],
      "source": [
        "from sklearn.linear_model import LassoCV"
      ]
    },
    {
      "cell_type": "code",
      "execution_count": 78,
      "metadata": {
        "id": "TTy-WwUBbbWx"
      },
      "outputs": [],
      "source": [
        "# https://scikit-learn.org/stable/modules/generated/sklearn.linear_model.LassoCV.html\n",
        "lasso_cv_model = LassoCV(eps=0.0001,n_alphas=1000,cv=5, max_iter=10000000)"
      ]
    },
    {
      "cell_type": "code",
      "execution_count": 79,
      "metadata": {
        "colab": {
          "base_uri": "https://localhost:8080/"
        },
        "id": "AsS-hsJ5bbWx",
        "outputId": "87c8346d-b150-48d9-afb2-60281d062bfa"
      },
      "outputs": [
        {
          "output_type": "execute_result",
          "data": {
            "text/plain": [
              "LassoCV(cv=5, eps=0.0001, max_iter=10000000, n_alphas=1000)"
            ]
          },
          "metadata": {},
          "execution_count": 79
        }
      ],
      "source": [
        "lasso_cv_model.fit(X_train,y_train)"
      ]
    },
    {
      "cell_type": "code",
      "execution_count": 80,
      "metadata": {
        "colab": {
          "base_uri": "https://localhost:8080/"
        },
        "id": "xoz6g8DTbbWx",
        "outputId": "5c63b5db-4328-40e9-ee6a-00c764e84672"
      },
      "outputs": [
        {
          "output_type": "execute_result",
          "data": {
            "text/plain": [
              "0.0015649387378762383"
            ]
          },
          "metadata": {},
          "execution_count": 80
        }
      ],
      "source": [
        "lasso_cv_model.alpha_"
      ]
    },
    {
      "cell_type": "code",
      "execution_count": 81,
      "metadata": {
        "id": "mpKMr7e6bbWx"
      },
      "outputs": [],
      "source": [
        "test_predictions = lasso_cv_model.predict(X_test)"
      ]
    },
    {
      "cell_type": "code",
      "execution_count": 82,
      "metadata": {
        "id": "hnq-FXcybbWx"
      },
      "outputs": [],
      "source": [
        "MAE = mean_absolute_error(y_test,test_predictions)\n",
        "MSE = mean_squared_error(y_test,test_predictions)\n",
        "RMSE = np.sqrt(MSE)"
      ]
    },
    {
      "cell_type": "code",
      "execution_count": 83,
      "metadata": {
        "colab": {
          "base_uri": "https://localhost:8080/"
        },
        "id": "I6Uk4aG_bbWx",
        "outputId": "7c28bca2-deb3-44e0-ac6d-4992b6b80a01"
      },
      "outputs": [
        {
          "output_type": "execute_result",
          "data": {
            "text/plain": [
              "0.3859756987522329"
            ]
          },
          "metadata": {},
          "execution_count": 83
        }
      ],
      "source": [
        "MAE"
      ]
    },
    {
      "cell_type": "code",
      "execution_count": 84,
      "metadata": {
        "colab": {
          "base_uri": "https://localhost:8080/"
        },
        "id": "X_4UG8dxbbWy",
        "outputId": "8feb869d-6488-4e3c-9e24-3b423dc34073"
      },
      "outputs": [
        {
          "output_type": "execute_result",
          "data": {
            "text/plain": [
              "0.555420477276636"
            ]
          },
          "metadata": {},
          "execution_count": 84
        }
      ],
      "source": [
        "RMSE"
      ]
    },
    {
      "cell_type": "code",
      "execution_count": 85,
      "metadata": {
        "colab": {
          "base_uri": "https://localhost:8080/"
        },
        "id": "RPlVXlFvbbWy",
        "outputId": "f8ad5e8f-10b2-4d92-ff3c-0f9c0a2ad2e6"
      },
      "outputs": [
        {
          "output_type": "execute_result",
          "data": {
            "text/plain": [
              "0.2920387465601074"
            ]
          },
          "metadata": {},
          "execution_count": 85
        }
      ],
      "source": [
        "# Training Set Performance\n",
        "# Training Set Performance\n",
        "train_predictions = lasso_cv_model.predict(X_train)\n",
        "MAE = mean_absolute_error(y_train,train_predictions)\n",
        "MAE"
      ]
    },
    {
      "cell_type": "code",
      "execution_count": 86,
      "metadata": {
        "colab": {
          "base_uri": "https://localhost:8080/"
        },
        "id": "Tnm4EX-sbbWy",
        "outputId": "c2549556-d54b-4c52-f61a-473cbfb15498"
      },
      "outputs": [
        {
          "output_type": "execute_result",
          "data": {
            "text/plain": [
              "array([ 6.49704481,  0.19152026,  0.38707752, -8.84326064,  4.69257829,\n",
              "       -0.83538534, -0.14594724,  0.13224172, -0.        ,  4.099283  ,\n",
              "       -1.05233396,  0.62376349,  0.27024306, -0.20913493, -0.        ,\n",
              "       -0.        , -0.        , -0.        , -0.05210717])"
            ]
          },
          "metadata": {},
          "execution_count": 86
        }
      ],
      "source": [
        "lasso_cv_model.coef_"
      ]
    },
    {
      "cell_type": "markdown",
      "metadata": {
        "id": "oZRv8amdbbWz"
      },
      "source": [
        "## Elastic Net\n",
        "\n",
        "Elastic Net combines the penalties of ridge regression and lasso in an attempt to get the best of both worlds!"
      ]
    },
    {
      "cell_type": "code",
      "execution_count": 102,
      "metadata": {
        "id": "6CSHAzPSbbWz"
      },
      "outputs": [],
      "source": [
        "from sklearn.linear_model import ElasticNetCV"
      ]
    },
    {
      "cell_type": "code",
      "execution_count": 110,
      "metadata": {
        "id": "pWrIyiF4bbWz"
      },
      "outputs": [],
      "source": [
        "elastic_model = ElasticNetCV(l1_ratio=[.1, .5, .7,.9, .95, .99, 1],eps=0.0001, n_alphas=1000, max_iter=10000000,cv=5)"
      ]
    },
    {
      "cell_type": "code",
      "execution_count": 111,
      "metadata": {
        "colab": {
          "base_uri": "https://localhost:8080/"
        },
        "id": "H3UKBuTrbbWz",
        "outputId": "ad560154-51b0-45be-b6c0-8cf5184397f2"
      },
      "outputs": [
        {
          "output_type": "execute_result",
          "data": {
            "text/plain": [
              "ElasticNetCV(cv=5, eps=0.0001, l1_ratio=[0.1, 0.5, 0.7, 0.9, 0.95, 0.99, 1],\n",
              "             max_iter=10000000, n_alphas=1000)"
            ]
          },
          "metadata": {},
          "execution_count": 111
        }
      ],
      "source": [
        "elastic_model.fit(X_train,y_train)"
      ]
    },
    {
      "cell_type": "code",
      "execution_count": 112,
      "metadata": {
        "colab": {
          "base_uri": "https://localhost:8080/"
        },
        "id": "0Bj9MJ-RbbWz",
        "outputId": "977ed138-2531-4a4e-8b65-b10002b95728"
      },
      "outputs": [
        {
          "output_type": "execute_result",
          "data": {
            "text/plain": [
              "1.0"
            ]
          },
          "metadata": {},
          "execution_count": 112
        }
      ],
      "source": [
        "elastic_model.l1_ratio_"
      ]
    },
    {
      "cell_type": "code",
      "execution_count": 113,
      "metadata": {
        "id": "52-Fn0pRbbWz"
      },
      "outputs": [],
      "source": [
        "test_predictions = elastic_model.predict(X_test)"
      ]
    },
    {
      "cell_type": "code",
      "execution_count": 114,
      "metadata": {
        "id": "4cGRSOjzbbW0"
      },
      "outputs": [],
      "source": [
        "MAE = mean_absolute_error(y_test,test_predictions)\n",
        "MSE = mean_squared_error(y_test,test_predictions)\n",
        "RMSE = np.sqrt(MSE)"
      ]
    },
    {
      "cell_type": "code",
      "execution_count": 115,
      "metadata": {
        "colab": {
          "base_uri": "https://localhost:8080/"
        },
        "id": "oqWtNSSmbbW0",
        "outputId": "e74d5024-18ba-4600-96b3-8e2068961e18"
      },
      "outputs": [
        {
          "output_type": "execute_result",
          "data": {
            "text/plain": [
              "0.3859756987522329"
            ]
          },
          "metadata": {},
          "execution_count": 115
        }
      ],
      "source": [
        "MAE"
      ]
    },
    {
      "cell_type": "code",
      "execution_count": 116,
      "metadata": {
        "colab": {
          "base_uri": "https://localhost:8080/"
        },
        "id": "7EO5ayi_bbW0",
        "outputId": "af893ebb-6acc-448a-94ff-919b108a1e58"
      },
      "outputs": [
        {
          "output_type": "execute_result",
          "data": {
            "text/plain": [
              "0.555420477276636"
            ]
          },
          "metadata": {},
          "execution_count": 116
        }
      ],
      "source": [
        "RMSE"
      ]
    },
    {
      "cell_type": "code",
      "execution_count": 117,
      "metadata": {
        "colab": {
          "base_uri": "https://localhost:8080/"
        },
        "id": "SUx3UvPZbbW0",
        "outputId": "46761c60-0f8a-4832-c002-836bce845b59"
      },
      "outputs": [
        {
          "output_type": "execute_result",
          "data": {
            "text/plain": [
              "0.2920387465601074"
            ]
          },
          "metadata": {},
          "execution_count": 117
        }
      ],
      "source": [
        "# Training Set Performance\n",
        "# Training Set Performance\n",
        "train_predictions = elastic_model.predict(X_train)\n",
        "MAE = mean_absolute_error(y_train,train_predictions)\n",
        "MAE"
      ]
    },
    {
      "cell_type": "code",
      "execution_count": 118,
      "metadata": {
        "colab": {
          "base_uri": "https://localhost:8080/"
        },
        "id": "FczMpcUjbbW0",
        "outputId": "97e31ff7-c93d-4a91-9dc4-b4a2267bb1e0"
      },
      "outputs": [
        {
          "output_type": "execute_result",
          "data": {
            "text/plain": [
              "array([ 6.49704481,  0.19152026,  0.38707752, -8.84326064,  4.69257829,\n",
              "       -0.83538534, -0.14594724,  0.13224172, -0.        ,  4.099283  ,\n",
              "       -1.05233396,  0.62376349,  0.27024306, -0.20913493, -0.        ,\n",
              "       -0.        , -0.        , -0.        , -0.05210717])"
            ]
          },
          "metadata": {},
          "execution_count": 118
        }
      ],
      "source": [
        "elastic_model.coef_"
      ]
    },
    {
      "cell_type": "markdown",
      "metadata": {
        "id": "e4FfbHQ-bbW0"
      },
      "source": [
        "-----\n",
        "---"
      ]
    }
  ],
  "metadata": {
    "anaconda-cloud": {},
    "kernelspec": {
      "display_name": "Python 3",
      "language": "python",
      "name": "python3"
    },
    "language_info": {
      "codemirror_mode": {
        "name": "ipython",
        "version": 3
      },
      "file_extension": ".py",
      "mimetype": "text/x-python",
      "name": "python",
      "nbconvert_exporter": "python",
      "pygments_lexer": "ipython3",
      "version": "3.7.6"
    },
    "colab": {
      "name": "Regularization-Ridge-Lasso-ElasticNet.ipynb",
      "provenance": []
    }
  },
  "nbformat": 4,
  "nbformat_minor": 0
}